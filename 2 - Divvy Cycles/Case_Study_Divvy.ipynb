{
 "cells": [
  {
   "cell_type": "markdown",
   "id": "acb3331c",
   "metadata": {},
   "source": [
    "# Divvy - A Case Study\n",
    "#### Author: Mark Richards\n",
    "#### Date: 2022-12-01"
   ]
  },
  {
   "cell_type": "markdown",
   "id": "3149b7ef",
   "metadata": {},
   "source": [
    "## Introduction\n",
    "This is a case study based open source data provided by Lyft Bikes and Scooters LLC who operate the city of Chicago's Divvy bike sharing service, which allows people to hire bicycles from any of 600+ bike stations across Chicago for short-duration trips. \n",
    "\n",
    "Further information on the Divvy bike service data can be found at https://ride.divvybikes.com/system-data.\n",
    "The data itself is available at https://divvy-tripdata.s3.amazonaws.com/index.html and has been provided for use under the following agreement https://ride.divvybikes.com/data-license-agreement. \n",
    "\n",
    "This will be an informal study as I want to make the focus my thought processes, decisions and how I arrived at the conclusions, rather than just produce a finished result.\n",
    "\n",
    "## Defining the Business Task\n",
    "The task of this case study will be to examine the differences in usage and user behavior between casual users of the bike-share service (people who pay per trip) and annual members (people pay an annual fee and can use the service at will), to identify the key reasons why people become annual members. Annual membership subscriptions are more profitable than casual users and the conclusions we come to will drive a marketing campaign aiming to increase annual memberships.\n",
    "\n",
    "## Hypothesis\n",
    "The hypothesis is that casual users are more leisure-oriented (focusing on cycling for enjoyment), while members are more utility-oriented (focusing on cycling as a practical means of transport from point A to point B).\n",
    "\n",
    "## The Data\n",
    "The data we have available consists of historical trip data. Each trip has a unique __trip id__, a __start datetime__ and __end datetime__, a __start station id__ and __end station id__, __start coordinates__ and __end coordinates__ (as separate latitude and longitude), and whether the trip was made by a __casual user__ or an __annual member__.\n",
    "\n",
    "We will look at data for the 12 month period April 2020 to March 2021. This is stored in CSV format in monthly segments, so 12 separate files.\n",
    "\n",
    "Lets load the data and combine it into a single tibble."
   ]
  },
  {
   "cell_type": "code",
   "execution_count": 1,
   "id": "bf45e24d",
   "metadata": {},
   "outputs": [
    {
     "name": "stderr",
     "output_type": "stream",
     "text": [
      "── \u001b[1mAttaching packages\u001b[22m ─────────────────────────────────────────────────────────────────────────────── tidyverse 1.3.2 ──\n",
      "\u001b[32m✔\u001b[39m \u001b[34mggplot2\u001b[39m 3.4.0      \u001b[32m✔\u001b[39m \u001b[34mpurrr  \u001b[39m 0.3.5 \n",
      "\u001b[32m✔\u001b[39m \u001b[34mtibble \u001b[39m 3.1.8      \u001b[32m✔\u001b[39m \u001b[34mdplyr  \u001b[39m 1.0.10\n",
      "\u001b[32m✔\u001b[39m \u001b[34mtidyr  \u001b[39m 1.2.1      \u001b[32m✔\u001b[39m \u001b[34mstringr\u001b[39m 1.5.0 \n",
      "\u001b[32m✔\u001b[39m \u001b[34mreadr  \u001b[39m 2.1.3      \u001b[32m✔\u001b[39m \u001b[34mforcats\u001b[39m 0.5.2 \n",
      "── \u001b[1mConflicts\u001b[22m ────────────────────────────────────────────────────────────────────────────────── tidyverse_conflicts() ──\n",
      "\u001b[31m✖\u001b[39m \u001b[34mdplyr\u001b[39m::\u001b[32mfilter()\u001b[39m masks \u001b[34mstats\u001b[39m::filter()\n",
      "\u001b[31m✖\u001b[39m \u001b[34mdplyr\u001b[39m::\u001b[32mlag()\u001b[39m    masks \u001b[34mstats\u001b[39m::lag()\n"
     ]
    }
   ],
   "source": [
    "library(tidyverse)"
   ]
  },
  {
   "cell_type": "code",
   "execution_count": 2,
   "id": "4bc27b18",
   "metadata": {},
   "outputs": [],
   "source": [
    "setwd(\"./CSV\")\n",
    "\n",
    "col_spec <- list(\n",
    "  ride_id = col_character(),\n",
    "  rideable_type = col_character(),\n",
    "  started_at = col_datetime(format = \"\"),\n",
    "  ended_at = col_datetime(format = \"\"),\n",
    "  start_station_name = col_character(),\n",
    "  start_station_id = col_character(),\n",
    "  end_station_name = col_character(),\n",
    "  end_station_id = col_character(),\n",
    "  start_lat = col_double(),\n",
    "  start_lng = col_double(),\n",
    "  end_lat = col_double(),\n",
    "  end_lng = col_double(),\n",
    "  member_casual = col_character()\n",
    ")\n",
    "\n",
    "tbl_202004_divvy_tripdata <- read_csv(\"202004-divvy-tripdata.csv\",\n",
    "  col_types = col_spec\n",
    ")\n",
    "tbl_202006_divvy_tripdata <- read_csv(\"202006-divvy-tripdata.csv\",\n",
    "  col_types = col_spec\n",
    ")\n",
    "tbl_202008_divvy_tripdata <- read_csv(\"202008-divvy-tripdata.csv\",\n",
    "  col_types = col_spec\n",
    ")\n",
    "tbl_202010_divvy_tripdata <- read_csv(\"202010-divvy-tripdata.csv\",\n",
    "  col_types = col_spec\n",
    ")\n",
    "tbl_202012_divvy_tripdata <- read_csv(\"202012-divvy-tripdata.csv\",\n",
    "  col_types = col_spec\n",
    ")\n",
    "tbl_202102_divvy_tripdata <- read_csv(\"202102-divvy-tripdata.csv\",\n",
    "  col_types = col_spec\n",
    ")\n",
    "tbl_202005_divvy_tripdata <- read_csv(\"202005-divvy-tripdata.csv\",\n",
    "  col_types = col_spec\n",
    ")\n",
    "tbl_202007_divvy_tripdata <- read_csv(\"202007-divvy-tripdata.csv\",\n",
    "  col_types = col_spec\n",
    ")\n",
    "tbl_202009_divvy_tripdata <- read_csv(\"202009-divvy-tripdata.csv\",\n",
    "  col_types = col_spec\n",
    ")\n",
    "tbl_202011_divvy_tripdata <- read_csv(\"202011-divvy-tripdata.csv\",\n",
    "  col_types = col_spec\n",
    ")\n",
    "tbl_202101_divvy_tripdata <- read_csv(\"202101-divvy-tripdata.csv\",\n",
    "  col_types = col_spec\n",
    ")\n",
    "tbl_202103_divvy_tripdata <- read_csv(\"202103-divvy-tripdata.csv\",\n",
    "  col_types = col_spec\n",
    ")\n",
    "\n",
    "ride_data <- bind_rows(\n",
    "  tbl_202004_divvy_tripdata,\n",
    "  tbl_202006_divvy_tripdata,\n",
    "  tbl_202008_divvy_tripdata,\n",
    "  tbl_202010_divvy_tripdata,\n",
    "  tbl_202012_divvy_tripdata,\n",
    "  tbl_202102_divvy_tripdata,\n",
    "  tbl_202005_divvy_tripdata,\n",
    "  tbl_202007_divvy_tripdata,\n",
    "  tbl_202009_divvy_tripdata,\n",
    "  tbl_202011_divvy_tripdata,\n",
    "  tbl_202101_divvy_tripdata,\n",
    "  tbl_202103_divvy_tripdata\n",
    ")\n",
    "\n",
    "rm(\n",
    "  tbl_202004_divvy_tripdata,\n",
    "  tbl_202006_divvy_tripdata,\n",
    "  tbl_202008_divvy_tripdata,\n",
    "  tbl_202010_divvy_tripdata,\n",
    "  tbl_202012_divvy_tripdata,\n",
    "  tbl_202102_divvy_tripdata,\n",
    "  tbl_202005_divvy_tripdata,\n",
    "  tbl_202007_divvy_tripdata,\n",
    "  tbl_202009_divvy_tripdata,\n",
    "  tbl_202011_divvy_tripdata,\n",
    "  tbl_202101_divvy_tripdata,\n",
    "  tbl_202103_divvy_tripdata\n",
    ")"
   ]
  },
  {
   "cell_type": "markdown",
   "id": "b1282d13",
   "metadata": {},
   "source": [
    "Lets have a look at the data."
   ]
  },
  {
   "cell_type": "code",
   "execution_count": 3,
   "id": "513febeb",
   "metadata": {},
   "outputs": [
    {
     "name": "stdout",
     "output_type": "stream",
     "text": [
      "Rows: 3,489,748\n",
      "Columns: 13\n",
      "$ ride_id            \u001b[3m\u001b[90m<chr>\u001b[39m\u001b[23m \"A847FADBBC638E45\", \"5405B80E996FF60D\", \"5DD24A79A4…\n",
      "$ rideable_type      \u001b[3m\u001b[90m<chr>\u001b[39m\u001b[23m \"docked_bike\", \"docked_bike\", \"docked_bike\", \"docke…\n",
      "$ started_at         \u001b[3m\u001b[90m<dttm>\u001b[39m\u001b[23m 2020-04-26 17:45:14, 2020-04-17 17:08:54, 2020-04-…\n",
      "$ ended_at           \u001b[3m\u001b[90m<dttm>\u001b[39m\u001b[23m 2020-04-26 18:12:03, 2020-04-17 17:17:03, 2020-04-…\n",
      "$ start_station_name \u001b[3m\u001b[90m<chr>\u001b[39m\u001b[23m \"Eckhart Park\", \"Drake Ave & Fullerton Ave\", \"McClu…\n",
      "$ start_station_id   \u001b[3m\u001b[90m<chr>\u001b[39m\u001b[23m \"86\", \"503\", \"142\", \"216\", \"125\", \"173\", \"35\", \"434…\n",
      "$ end_station_name   \u001b[3m\u001b[90m<chr>\u001b[39m\u001b[23m \"Lincoln Ave & Diversey Pkwy\", \"Kosciuszko Park\", \"…\n",
      "$ end_station_id     \u001b[3m\u001b[90m<chr>\u001b[39m\u001b[23m \"152\", \"499\", \"255\", \"657\", \"323\", \"35\", \"635\", \"38…\n",
      "$ start_lat          \u001b[3m\u001b[90m<dbl>\u001b[39m\u001b[23m 41.8964, 41.9244, 41.8945, 41.9030, 41.8902, 41.896…\n",
      "$ start_lng          \u001b[3m\u001b[90m<dbl>\u001b[39m\u001b[23m -87.6610, -87.7154, -87.6179, -87.6975, -87.6262, -…\n",
      "$ end_lat            \u001b[3m\u001b[90m<dbl>\u001b[39m\u001b[23m 41.9322, 41.9306, 41.8679, 41.8992, 41.9695, 41.892…\n",
      "$ end_lng            \u001b[3m\u001b[90m<dbl>\u001b[39m\u001b[23m -87.6586, -87.7238, -87.6230, -87.6722, -87.6547, -…\n",
      "$ member_casual      \u001b[3m\u001b[90m<chr>\u001b[39m\u001b[23m \"member\", \"member\", \"member\", \"member\", \"casual\", \"…\n"
     ]
    }
   ],
   "source": [
    "glimpse(ride_data)"
   ]
  },
  {
   "cell_type": "markdown",
   "id": "be5199f4",
   "metadata": {},
   "source": [
    "## Cleaning The Data\n",
    "\n",
    "Lets examine each variable in turn for problems.\n",
    "\n",
    "* __ride_id__: Each ride_id should be unique as each represents a unique trip but when we check there are 209 duplications. There is no missing data. The number of duplications is tiny in comparison with the total number of rows, so lets remove the duplicate rows."
   ]
  },
  {
   "cell_type": "code",
   "execution_count": 4,
   "id": "1b02cafb",
   "metadata": {},
   "outputs": [
    {
     "data": {
      "text/html": [
       "209"
      ],
      "text/latex": [
       "209"
      ],
      "text/markdown": [
       "209"
      ],
      "text/plain": [
       "[1] 209"
      ]
     },
     "metadata": {},
     "output_type": "display_data"
    },
    {
     "data": {
      "text/html": [
       "0"
      ],
      "text/latex": [
       "0"
      ],
      "text/markdown": [
       "0"
      ],
      "text/plain": [
       "[1] 0"
      ]
     },
     "metadata": {},
     "output_type": "display_data"
    }
   ],
   "source": [
    "sum(duplicated(ride_data$ride_id))\n",
    "\n",
    "sum(is.na(ride_data$ride_id))\n",
    "\n",
    "ride_data_clean <- filter(ride_data, !duplicated(ride_data$ride_id))"
   ]
  },
  {
   "cell_type": "markdown",
   "id": "fd34be01",
   "metadata": {},
   "source": [
    "* __rideable_type__: This column only contains three values with no missing data."
   ]
  },
  {
   "cell_type": "code",
   "execution_count": 5,
   "id": "d20cbd60",
   "metadata": {},
   "outputs": [
    {
     "data": {
      "text/html": [
       "<style>\n",
       ".list-inline {list-style: none; margin:0; padding: 0}\n",
       ".list-inline>li {display: inline-block}\n",
       ".list-inline>li:not(:last-child)::after {content: \"\\00b7\"; padding: 0 .5ex}\n",
       "</style>\n",
       "<ol class=list-inline><li>'docked_bike'</li><li>'electric_bike'</li><li>'classic_bike'</li></ol>\n"
      ],
      "text/latex": [
       "\\begin{enumerate*}\n",
       "\\item 'docked\\_bike'\n",
       "\\item 'electric\\_bike'\n",
       "\\item 'classic\\_bike'\n",
       "\\end{enumerate*}\n"
      ],
      "text/markdown": [
       "1. 'docked_bike'\n",
       "2. 'electric_bike'\n",
       "3. 'classic_bike'\n",
       "\n",
       "\n"
      ],
      "text/plain": [
       "[1] \"docked_bike\"   \"electric_bike\" \"classic_bike\" "
      ]
     },
     "metadata": {},
     "output_type": "display_data"
    },
    {
     "data": {
      "text/html": [
       "0"
      ],
      "text/latex": [
       "0"
      ],
      "text/markdown": [
       "0"
      ],
      "text/plain": [
       "[1] 0"
      ]
     },
     "metadata": {},
     "output_type": "display_data"
    }
   ],
   "source": [
    "unique(ride_data_clean$rideable_type)\n",
    "\n",
    "sum(is.na(ride_data_clean$rideable_type))"
   ]
  },
  {
   "cell_type": "markdown",
   "id": "eeb2d7e9",
   "metadata": {},
   "source": [
    "* __started_at__: This is a datetime. There are no missing values."
   ]
  },
  {
   "cell_type": "code",
   "execution_count": 6,
   "id": "98353521",
   "metadata": {},
   "outputs": [
    {
     "data": {
      "text/html": [
       "0"
      ],
      "text/latex": [
       "0"
      ],
      "text/markdown": [
       "0"
      ],
      "text/plain": [
       "[1] 0"
      ]
     },
     "metadata": {},
     "output_type": "display_data"
    }
   ],
   "source": [
    "sum(is.na(ride_data_clean$started_at))"
   ]
  },
  {
   "cell_type": "markdown",
   "id": "7bc432e7",
   "metadata": {},
   "source": [
    "* __ended_at__: Another datetime, without missing values. But we also need to check the consistency of the data: the ride end time should be after the start time. In fact though there are 386 trips with zero duration and 10550 with negative duration. These again are only a relatively small proportion of the total number of observations, so lets remove them."
   ]
  },
  {
   "cell_type": "code",
   "execution_count": 7,
   "id": "e680e52d",
   "metadata": {},
   "outputs": [
    {
     "data": {
      "text/html": [
       "0"
      ],
      "text/latex": [
       "0"
      ],
      "text/markdown": [
       "0"
      ],
      "text/plain": [
       "[1] 0"
      ]
     },
     "metadata": {},
     "output_type": "display_data"
    },
    {
     "data": {
      "text/html": [
       "386"
      ],
      "text/latex": [
       "386"
      ],
      "text/markdown": [
       "386"
      ],
      "text/plain": [
       "[1] 386"
      ]
     },
     "metadata": {},
     "output_type": "display_data"
    },
    {
     "data": {
      "text/html": [
       "10550"
      ],
      "text/latex": [
       "10550"
      ],
      "text/markdown": [
       "10550"
      ],
      "text/plain": [
       "[1] 10550"
      ]
     },
     "metadata": {},
     "output_type": "display_data"
    }
   ],
   "source": [
    "sum(is.na(ride_data_clean$ended_at))\n",
    "\n",
    "sum((ride_data_clean$ended_at - ride_data_clean$started_at) == 0)\n",
    "\n",
    "sum((ride_data_clean$ended_at - ride_data_clean$started_at) < 0)\n",
    "\n",
    "ride_data_clean <- filter(\n",
    "  ride_data_clean,\n",
    "  (ride_data_clean$ended_at - ride_data_clean$started_at) > 0\n",
    ")"
   ]
  },
  {
   "cell_type": "markdown",
   "id": "f3fc48ed",
   "metadata": {},
   "source": [
    "  As we have a start datetime and an end datetime, we can also look at consistency in terms of trip duration. Lets add trip duration as a column."
   ]
  },
  {
   "cell_type": "code",
   "execution_count": 8,
   "id": "c3dbfad3",
   "metadata": {},
   "outputs": [],
   "source": [
    "ride_data_clean <- mutate(ride_data_clean,\n",
    "  trip_duration_min = as.numeric((ended_at - started_at) / 60)\n",
    ")"
   ]
  },
  {
   "cell_type": "markdown",
   "id": "4e850ccb",
   "metadata": {},
   "source": [
    "  There are some outlier trip durations which are greater than 12 hours, which we will consider anomalies, so lets remove them."
   ]
  },
  {
   "cell_type": "code",
   "execution_count": 9,
   "id": "6bf08ad6",
   "metadata": {},
   "outputs": [
    {
     "data": {
      "text/html": [
       "6343"
      ],
      "text/latex": [
       "6343"
      ],
      "text/markdown": [
       "6343"
      ],
      "text/plain": [
       "[1] 6343"
      ]
     },
     "metadata": {},
     "output_type": "display_data"
    }
   ],
   "source": [
    "nrow(filter(ride_data_clean, trip_duration_min > 720))\n",
    "\n",
    "ride_data_clean <- filter(\n",
    "  ride_data_clean,\n",
    "  !(trip_duration_min > 720)\n",
    ")"
   ]
  },
  {
   "cell_type": "markdown",
   "id": "940e0035",
   "metadata": {},
   "source": [
    "* __start_station_name__: There are 122126 observations without values. Lets pin this point for the moment and come back to it."
   ]
  },
  {
   "cell_type": "code",
   "execution_count": 10,
   "id": "b4d9829e",
   "metadata": {},
   "outputs": [
    {
     "data": {
      "text/html": [
       "122126"
      ],
      "text/latex": [
       "122126"
      ],
      "text/markdown": [
       "122126"
      ],
      "text/plain": [
       "[1] 122126"
      ]
     },
     "metadata": {},
     "output_type": "display_data"
    }
   ],
   "source": [
    "sum(is.na(ride_data_clean$start_station_name))"
   ]
  },
  {
   "cell_type": "markdown",
   "id": "562189c6",
   "metadata": {},
   "source": [
    "* __start_station_id__:  There are 122752 missing values. Lets pin this point as well."
   ]
  },
  {
   "cell_type": "code",
   "execution_count": 11,
   "id": "d2d2e7b1",
   "metadata": {},
   "outputs": [
    {
     "data": {
      "text/html": [
       "122752"
      ],
      "text/latex": [
       "122752"
      ],
      "text/markdown": [
       "122752"
      ],
      "text/plain": [
       "[1] 122752"
      ]
     },
     "metadata": {},
     "output_type": "display_data"
    }
   ],
   "source": [
    "sum(is.na(ride_data_clean$start_station_id))"
   ]
  },
  {
   "cell_type": "markdown",
   "id": "27bf52d0",
   "metadata": {},
   "source": [
    "* __end_station_name__: There are 142033 missing values. "
   ]
  },
  {
   "cell_type": "code",
   "execution_count": 12,
   "id": "d3e859c1",
   "metadata": {},
   "outputs": [
    {
     "data": {
      "text/html": [
       "142033"
      ],
      "text/latex": [
       "142033"
      ],
      "text/markdown": [
       "142033"
      ],
      "text/plain": [
       "[1] 142033"
      ]
     },
     "metadata": {},
     "output_type": "display_data"
    }
   ],
   "source": [
    "sum(is.na(ride_data_clean$end_station_name))"
   ]
  },
  {
   "cell_type": "markdown",
   "id": "3449a57d",
   "metadata": {},
   "source": [
    "* __end_station_id__: There are 142494 missing values."
   ]
  },
  {
   "cell_type": "code",
   "execution_count": 13,
   "id": "f1980840",
   "metadata": {},
   "outputs": [
    {
     "data": {
      "text/html": [
       "142494"
      ],
      "text/latex": [
       "142494"
      ],
      "text/markdown": [
       "142494"
      ],
      "text/plain": [
       "[1] 142494"
      ]
     },
     "metadata": {},
     "output_type": "display_data"
    }
   ],
   "source": [
    "sum(is.na(ride_data_clean$end_station_id))"
   ]
  },
  {
   "cell_type": "markdown",
   "id": "ef6513f2",
   "metadata": {},
   "source": [
    "* __start_lat__: There are no missing values."
   ]
  },
  {
   "cell_type": "code",
   "execution_count": 14,
   "id": "57698db9",
   "metadata": {},
   "outputs": [
    {
     "data": {
      "text/html": [
       "0"
      ],
      "text/latex": [
       "0"
      ],
      "text/markdown": [
       "0"
      ],
      "text/plain": [
       "[1] 0"
      ]
     },
     "metadata": {},
     "output_type": "display_data"
    }
   ],
   "source": [
    "sum(is.na(ride_data_clean$start_lat))"
   ]
  },
  {
   "cell_type": "markdown",
   "id": "1bb8a874",
   "metadata": {},
   "source": [
    "* __start_lng__: There are no missing values."
   ]
  },
  {
   "cell_type": "code",
   "execution_count": 15,
   "id": "61e1339d",
   "metadata": {},
   "outputs": [
    {
     "data": {
      "text/html": [
       "0"
      ],
      "text/latex": [
       "0"
      ],
      "text/markdown": [
       "0"
      ],
      "text/plain": [
       "[1] 0"
      ]
     },
     "metadata": {},
     "output_type": "display_data"
    }
   ],
   "source": [
    "sum(is.na(ride_data_clean$start_lng))"
   ]
  },
  {
   "cell_type": "markdown",
   "id": "0c7d3dbf",
   "metadata": {},
   "source": [
    "* __end_lat__: There are 3715 missing values."
   ]
  },
  {
   "cell_type": "code",
   "execution_count": 16,
   "id": "68cb3d4a",
   "metadata": {
    "scrolled": true
   },
   "outputs": [
    {
     "data": {
      "text/html": [
       "3715"
      ],
      "text/latex": [
       "3715"
      ],
      "text/markdown": [
       "3715"
      ],
      "text/plain": [
       "[1] 3715"
      ]
     },
     "metadata": {},
     "output_type": "display_data"
    }
   ],
   "source": [
    "sum(is.na(ride_data_clean$end_lat))"
   ]
  },
  {
   "cell_type": "markdown",
   "id": "1a5c03e0",
   "metadata": {},
   "source": [
    "* __end_lng__: There are 3715 missing values."
   ]
  },
  {
   "cell_type": "code",
   "execution_count": 17,
   "id": "ddadfdc8",
   "metadata": {},
   "outputs": [
    {
     "data": {
      "text/html": [
       "3715"
      ],
      "text/latex": [
       "3715"
      ],
      "text/markdown": [
       "3715"
      ],
      "text/plain": [
       "[1] 3715"
      ]
     },
     "metadata": {},
     "output_type": "display_data"
    }
   ],
   "source": [
    "sum(is.na(ride_data_clean$end_lng))"
   ]
  },
  {
   "cell_type": "markdown",
   "id": "6f959515",
   "metadata": {},
   "source": [
    "* __member_casual__: There are no missing values and only two values."
   ]
  },
  {
   "cell_type": "code",
   "execution_count": 18,
   "id": "839911af",
   "metadata": {},
   "outputs": [
    {
     "data": {
      "text/html": [
       "0"
      ],
      "text/latex": [
       "0"
      ],
      "text/markdown": [
       "0"
      ],
      "text/plain": [
       "[1] 0"
      ]
     },
     "metadata": {},
     "output_type": "display_data"
    },
    {
     "data": {
      "text/html": [
       "<style>\n",
       ".list-inline {list-style: none; margin:0; padding: 0}\n",
       ".list-inline>li {display: inline-block}\n",
       ".list-inline>li:not(:last-child)::after {content: \"\\00b7\"; padding: 0 .5ex}\n",
       "</style>\n",
       "<ol class=list-inline><li>'member'</li><li>'casual'</li></ol>\n"
      ],
      "text/latex": [
       "\\begin{enumerate*}\n",
       "\\item 'member'\n",
       "\\item 'casual'\n",
       "\\end{enumerate*}\n"
      ],
      "text/markdown": [
       "1. 'member'\n",
       "2. 'casual'\n",
       "\n",
       "\n"
      ],
      "text/plain": [
       "[1] \"member\" \"casual\""
      ]
     },
     "metadata": {},
     "output_type": "display_data"
    }
   ],
   "source": [
    "sum(is.na(ride_data_clean$member_casual))\n",
    "unique(ride_data_clean$member_casual)"
   ]
  },
  {
   "cell_type": "markdown",
   "id": "d30cfd12",
   "metadata": {},
   "source": [
    "So the two outstanding issues are:\n",
    "\n",
    "* __Station Names__: we have data with missing station names and station ids.\n",
    "* __Trip End Coordinates__: we have data missing the trip end latitude and longitude.\n",
    "\n",
    "We could try to create a look-up table for the stations using the observations with complete data and then insert missing values using that; and we could try to do something similar for the missing coordinates. But this would be quite complicated.\n",
    "\n",
    "Or we could just exclude all the observations with missing data. If we do this we would still be keeping most of the data and we will still have a huge number of observations. So lets proceed that way."
   ]
  },
  {
   "cell_type": "code",
   "execution_count": 19,
   "id": "6fa700f3",
   "metadata": {},
   "outputs": [],
   "source": [
    "ride_data_clean <- filter(\n",
    "  ride_data_clean,\n",
    "  !(is.na(ride_data_clean$start_station_name) |\n",
    "    is.na(ride_data_clean$end_station_name) |\n",
    "    is.na(ride_data_clean$start_station_id) |\n",
    "    is.na(ride_data_clean$end_station_id) |\n",
    "    is.na(ride_data_clean$end_lat) |\n",
    "    is.na(ride_data_clean$end_lng))\n",
    ")"
   ]
  },
  {
   "cell_type": "markdown",
   "id": "662ad799",
   "metadata": {},
   "source": [
    "## Analysis\n",
    "\n",
    "We can look at the differences in usage between members and casual users in the following ways:\n",
    "\n",
    "* Number of trips.\n",
    "* Trip duration.\n",
    "* Trip start times.\n",
    "* Distribution of trips across the data period.\n",
    "* Distance travelled between start and end station.\n",
    "* Riding speed.\n",
    "* Geographical clustering of start/end stations.\n",
    "* The type of bike used."
   ]
  },
  {
   "cell_type": "markdown",
   "id": "2a79c78b",
   "metadata": {},
   "source": [
    "### Number of Trips\n",
    "The number of trips for each user type indicates that members take 59% of the total trips, 18% more than casual users."
   ]
  },
  {
   "cell_type": "code",
   "execution_count": 20,
   "id": "a83a9c52",
   "metadata": {},
   "outputs": [
    {
     "data": {
      "text/html": [
       "<table class=\"dataframe\">\n",
       "<caption>A tibble: 2 × 3</caption>\n",
       "<thead>\n",
       "\t<tr><th scope=col>member_casual</th><th scope=col>trip_count</th><th scope=col>trip_perc</th></tr>\n",
       "\t<tr><th scope=col>&lt;chr&gt;</th><th scope=col>&lt;int&gt;</th><th scope=col>&lt;dbl&gt;</th></tr>\n",
       "</thead>\n",
       "<tbody>\n",
       "\t<tr><td>casual</td><td>1343098</td><td>0.4096777</td></tr>\n",
       "\t<tr><td>member</td><td>1935328</td><td>0.5903223</td></tr>\n",
       "</tbody>\n",
       "</table>\n"
      ],
      "text/latex": [
       "A tibble: 2 × 3\n",
       "\\begin{tabular}{lll}\n",
       " member\\_casual & trip\\_count & trip\\_perc\\\\\n",
       " <chr> & <int> & <dbl>\\\\\n",
       "\\hline\n",
       "\t casual & 1343098 & 0.4096777\\\\\n",
       "\t member & 1935328 & 0.5903223\\\\\n",
       "\\end{tabular}\n"
      ],
      "text/markdown": [
       "\n",
       "A tibble: 2 × 3\n",
       "\n",
       "| member_casual &lt;chr&gt; | trip_count &lt;int&gt; | trip_perc &lt;dbl&gt; |\n",
       "|---|---|---|\n",
       "| casual | 1343098 | 0.4096777 |\n",
       "| member | 1935328 | 0.5903223 |\n",
       "\n"
      ],
      "text/plain": [
       "  member_casual trip_count trip_perc\n",
       "1 casual        1343098    0.4096777\n",
       "2 member        1935328    0.5903223"
      ]
     },
     "metadata": {},
     "output_type": "display_data"
    },
    {
     "data": {
      "image/png": "[encoded data removed]",
      "text/plain": [
       "plot without title"
      ]
     },
     "metadata": {
      "image/png": {
       "height": 420,
       "width": 420
      }
     },
     "output_type": "display_data"
    }
   ],
   "source": [
    "num_of_trips <- select(\n",
    "  ride_data_clean, ride_id, member_casual) %>%\n",
    "  group_by(member_casual) %>%\n",
    "  summarise(trip_count = n()) %>%\n",
    "  mutate(trip_perc = trip_count / sum(trip_count)) %>%\n",
    "  ungroup()\n",
    "\n",
    "num_of_trips\n",
    "\n",
    "ggplot(num_of_trips, aes(\n",
    "  x = member_casual,\n",
    "  y = trip_count, fill = member_casual\n",
    ")) +\n",
    "  geom_bar(stat = \"identity\") +\n",
    "  ggtitle(\"Number of Trips by User Type\")"
   ]
  },
  {
   "cell_type": "markdown",
   "id": "9a60d2b2",
   "metadata": {},
   "source": [
    "##### Trip Duration\n",
    "Now lets see which group of users spend the most time riding.\n",
    "* Members on average ride for 15.3 minutes with a median of 11.6.\n",
    "* Casual users ride for an average of 34.8 minutes with a median of 21.5.\n",
    "So there is a clear difference in trip duration between the user groups, with members taking shorter trips than casual users."
   ]
  },
  {
   "cell_type": "code",
   "execution_count": 21,
   "id": "e274a8fe",
   "metadata": {},
   "outputs": [
    {
     "data": {
      "text/html": [
       "<table class=\"dataframe\">\n",
       "<caption>A tibble: 2 × 3</caption>\n",
       "<thead>\n",
       "\t<tr><th scope=col>member_casual</th><th scope=col>mean_trip_time_minutes</th><th scope=col>median_trip_time_minutes</th></tr>\n",
       "\t<tr><th scope=col>&lt;chr&gt;</th><th scope=col>&lt;dbl&gt;</th><th scope=col>&lt;dbl&gt;</th></tr>\n",
       "</thead>\n",
       "<tbody>\n",
       "\t<tr><td>casual</td><td>34.85772</td><td>21.55000</td></tr>\n",
       "\t<tr><td>member</td><td>15.33231</td><td>11.58333</td></tr>\n",
       "</tbody>\n",
       "</table>\n"
      ],
      "text/latex": [
       "A tibble: 2 × 3\n",
       "\\begin{tabular}{lll}\n",
       " member\\_casual & mean\\_trip\\_time\\_minutes & median\\_trip\\_time\\_minutes\\\\\n",
       " <chr> & <dbl> & <dbl>\\\\\n",
       "\\hline\n",
       "\t casual & 34.85772 & 21.55000\\\\\n",
       "\t member & 15.33231 & 11.58333\\\\\n",
       "\\end{tabular}\n"
      ],
      "text/markdown": [
       "\n",
       "A tibble: 2 × 3\n",
       "\n",
       "| member_casual &lt;chr&gt; | mean_trip_time_minutes &lt;dbl&gt; | median_trip_time_minutes &lt;dbl&gt; |\n",
       "|---|---|---|\n",
       "| casual | 34.85772 | 21.55000 |\n",
       "| member | 15.33231 | 11.58333 |\n",
       "\n"
      ],
      "text/plain": [
       "  member_casual mean_trip_time_minutes median_trip_time_minutes\n",
       "1 casual        34.85772               21.55000                \n",
       "2 member        15.33231               11.58333                "
      ]
     },
     "metadata": {},
     "output_type": "display_data"
    },
    {
     "name": "stderr",
     "output_type": "stream",
     "text": [
      "Warning message:\n",
      "\"\u001b[1m\u001b[22mRemoved 13310 rows containing non-finite values (`stat_bin()`).\"\n",
      "Warning message:\n",
      "\"\u001b[1m\u001b[22mRemoved 4 rows containing missing values (`geom_path()`).\"\n"
     ]
    },
    {
     "data": {
      "image/png": "[encoded data removed]",
      "text/plain": [
       "plot without title"
      ]
     },
     "metadata": {
      "image/png": {
       "height": 420,
       "width": 420
      }
     },
     "output_type": "display_data"
    }
   ],
   "source": [
    "riding_time_by_usertype_min <- select(\n",
    "  ride_data_clean, ride_id, member_casual, trip_duration_min)  %>%\n",
    "  group_by(member_casual) %>%\n",
    "  summarise(\n",
    "    mean_trip_time_minutes = mean(trip_duration_min),\n",
    "    median_trip_time_minutes = median(trip_duration_min)\n",
    "  ) %>%\n",
    "  ungroup()\n",
    "\n",
    "riding_time_by_usertype_min\n",
    "\n",
    "riding_time_min <- select(\n",
    "  ride_data_clean, ride_id, member_casual, trip_duration_min)\n",
    "\n",
    "ggplot(riding_time_min, aes(trip_duration_min, color = member_casual)) +\n",
    "  geom_freqpoly(binwidth = 1) + xlim(0, 200) + \n",
    "  ggtitle(\"Member Riding Times\")"
   ]
  },
  {
   "cell_type": "markdown",
   "id": "e0c100cf",
   "metadata": {},
   "source": [
    "### Trip Start Times\n",
    "We can look at what times the two groups start trips. There is a difference between the two groups: member usage has peaks aligning with rush hour commuting hours and lunchtime. Casual users see a lower usage in the early morning, then a smooth increase throughout the day, declining after 1700."
   ]
  },
  {
   "cell_type": "code",
   "execution_count": 22,
   "id": "8960d459",
   "metadata": {
    "scrolled": true
   },
   "outputs": [
    {
     "name": "stderr",
     "output_type": "stream",
     "text": [
      "\u001b[1m\u001b[22m`summarise()` has grouped output by 'member_casual'. You can override using the `.groups` argument.\n"
     ]
    },
    {
     "data": {
      "image/png": "[encoded data removed]",
      "text/plain": [
       "plot without title"
      ]
     },
     "metadata": {
      "image/png": {
       "height": 420,
       "width": 420
      }
     },
     "output_type": "display_data"
    }
   ],
   "source": [
    "popular_start_times <- ride_data_clean %>%\n",
    "  select(member_casual, started_at) %>%\n",
    "  mutate(start_hour = format(as.POSIXct(started_at), format = \"%H\")) %>%\n",
    "  group_by(member_casual, start_hour) %>%\n",
    "  summarise(num_of_trips = n()) %>%\n",
    "  ungroup()\n",
    "\n",
    "ggplot(popular_start_times, aes(start_hour, num_of_trips, fill = member_casual)) +\n",
    "  geom_bar(stat = \"identity\", position = position_dodge()) +\n",
    "  ggtitle(\"Popular Trip Start Times\")"
   ]
  },
  {
   "cell_type": "markdown",
   "id": "7e03a19d",
   "metadata": {},
   "source": [
    "### Distribution of trips across the data period.\n",
    "We can look at the number of trips across the 12 month data period to see if there is any difference between members and casual users. \n",
    "\n",
    "We can see that there is a seasonal pattern common to both members and casual users, but members are more consistent in their use of the service, whilst casual users shows considerable short-term variation, especially in the summer months, but also around other specific periods. This could suggest that casual users are more opportunistic, choosing to use the service when other factors align (e.g. perhaps weather, etc.), whilst members are more comitted to using the service day-to-day."
   ]
  },
  {
   "cell_type": "code",
   "execution_count": 23,
   "id": "58634860",
   "metadata": {},
   "outputs": [
    {
     "name": "stderr",
     "output_type": "stream",
     "text": [
      "\u001b[1m\u001b[22m`summarise()` has grouped output by 'member_casual'. You can override using the `.groups` argument.\n",
      "\u001b[1m\u001b[22m`geom_smooth()` using method = 'loess' and formula = 'y ~ x'\n"
     ]
    },
    {
     "data": {
      "image/png": "[encoded data removed]",
      "text/plain": [
       "plot without title"
      ]
     },
     "metadata": {
      "image/png": {
       "height": 420,
       "width": 420
      }
     },
     "output_type": "display_data"
    }
   ],
   "source": [
    "trips_per_day <- select(\n",
    "  ride_data_clean, ride_id, started_at, member_casual) %>%\n",
    "  mutate(ride_date = as.Date(started_at)) %>%\n",
    "  group_by(member_casual, ride_date) %>%\n",
    "  summarise(num_of_trips = n()) %>%\n",
    "  ungroup()\n",
    "\n",
    "ggplot(\n",
    "  trips_per_day,\n",
    "  aes(ride_date, num_of_trips)\n",
    "  ) +\n",
    "  facet_wrap(~ member_casual) +\n",
    "  geom_line(stat = \"identity\") +\n",
    "  geom_smooth() +\n",
    "  ggtitle(\"Trips Per Day\")"
   ]
  },
  {
   "cell_type": "markdown",
   "id": "37681333",
   "metadata": {},
   "source": [
    "### Distance Between Start and End Stations\n",
    "We can approximate the linear distance between start and end stations as difference of latitude and longitude using the Pythagorean theorem:\n",
    "\n",
    "* We calculate the difference in latitude and square it.\n",
    "* We calculate the difference in longitude and square it.\n",
    "* We add the the two results and take the square root.\n",
    "* Multiplying this by 111139 give us the approximate distance in metres and dividing by 1000 gives the distance in km.\n",
    "\n",
    "Lets add this to the data as a column. _We need to remember that this is the distance between start and end stations, not the actual distance the users travelled._"
   ]
  },
  {
   "cell_type": "code",
   "execution_count": 24,
   "id": "60253def",
   "metadata": {},
   "outputs": [],
   "source": [
    "ride_data_clean <- ride_data_clean %>%\n",
    "  mutate(straight_line_distance_km = ((sqrt((start_lat - end_lat)^2 +\n",
    "    (start_lng - end_lng)^2) * 111139) / 1000))"
   ]
  },
  {
   "cell_type": "markdown",
   "id": "9ce1e243",
   "metadata": {},
   "source": [
    "Now lets look at the differences in straight line distance between the two user types. We can see that the average distance travelled only differs by 130m."
   ]
  },
  {
   "cell_type": "code",
   "execution_count": 25,
   "id": "f832cf7a",
   "metadata": {
    "scrolled": true
   },
   "outputs": [
    {
     "data": {
      "text/html": [
       "<table class=\"dataframe\">\n",
       "<caption>A tibble: 2 × 3</caption>\n",
       "<thead>\n",
       "\t<tr><th scope=col>member_casual</th><th scope=col>mean_trip_distance_km</th><th scope=col>median_trip_distance_km</th></tr>\n",
       "\t<tr><th scope=col>&lt;chr&gt;</th><th scope=col>&lt;dbl&gt;</th><th scope=col>&lt;dbl&gt;</th></tr>\n",
       "</thead>\n",
       "<tbody>\n",
       "\t<tr><td>casual</td><td>2.407748</td><td>1.882123</td></tr>\n",
       "\t<tr><td>member</td><td>2.534344</td><td>1.977223</td></tr>\n",
       "</tbody>\n",
       "</table>\n"
      ],
      "text/latex": [
       "A tibble: 2 × 3\n",
       "\\begin{tabular}{lll}\n",
       " member\\_casual & mean\\_trip\\_distance\\_km & median\\_trip\\_distance\\_km\\\\\n",
       " <chr> & <dbl> & <dbl>\\\\\n",
       "\\hline\n",
       "\t casual & 2.407748 & 1.882123\\\\\n",
       "\t member & 2.534344 & 1.977223\\\\\n",
       "\\end{tabular}\n"
      ],
      "text/markdown": [
       "\n",
       "A tibble: 2 × 3\n",
       "\n",
       "| member_casual &lt;chr&gt; | mean_trip_distance_km &lt;dbl&gt; | median_trip_distance_km &lt;dbl&gt; |\n",
       "|---|---|---|\n",
       "| casual | 2.407748 | 1.882123 |\n",
       "| member | 2.534344 | 1.977223 |\n",
       "\n"
      ],
      "text/plain": [
       "  member_casual mean_trip_distance_km median_trip_distance_km\n",
       "1 casual        2.407748              1.882123               \n",
       "2 member        2.534344              1.977223               "
      ]
     },
     "metadata": {},
     "output_type": "display_data"
    },
    {
     "name": "stderr",
     "output_type": "stream",
     "text": [
      "Warning message:\n",
      "\"\u001b[1m\u001b[22mRemoved 2806 rows containing non-finite values (`stat_bin()`).\"\n",
      "Warning message:\n",
      "\"\u001b[1m\u001b[22mRemoved 4 rows containing missing values (`geom_path()`).\"\n"
     ]
    },
    {
     "data": {
      "image/png": "[encoded data removed]",
      "text/plain": [
       "plot without title"
      ]
     },
     "metadata": {
      "image/png": {
       "height": 420,
       "width": 420
      }
     },
     "output_type": "display_data"
    },
    {
     "data": {
      "image/png": "[encoded data removed]",
      "text/plain": [
       "plot without title"
      ]
     },
     "metadata": {
      "image/png": {
       "height": 420,
       "width": 420
      }
     },
     "output_type": "display_data"
    }
   ],
   "source": [
    "distance_by_usertype <- ride_data_clean %>%\n",
    "  group_by(member_casual) %>%\n",
    "  summarise(\n",
    "    mean_trip_distance_km = mean(straight_line_distance_km),\n",
    "    median_trip_distance_km = median(straight_line_distance_km)\n",
    "  ) %>%\n",
    "  ungroup()\n",
    "\n",
    "distance_by_usertype\n",
    "\n",
    "ggplot(\n",
    "  distance_by_usertype,\n",
    "  aes(x = member_casual, y = mean_trip_distance_km, fill = member_casual)\n",
    ") +\n",
    "  geom_bar(stat = \"identity\") +\n",
    "  ggtitle(\"Mean Station To Station Trip Distance\")\n",
    "\n",
    "trips_by_distance <- select(\n",
    "  ride_data_clean, ride_id, member_casual, straight_line_distance_km)\n",
    "\n",
    "ggplot(trips_by_distance, aes(x = straight_line_distance_km, color = member_casual)) +\n",
    "  geom_freqpoly(binwidth = 1) + xlim(0, 15) + \n",
    "  ggtitle(\"Number of Trips by Distance\")"
   ]
  },
  {
   "cell_type": "markdown",
   "id": "2ec518d2",
   "metadata": {},
   "source": [
    "### Riding Speed\n",
    "Lets also work out how fast each rider would have to be travelling in km/h to cover the distance between start and end stations in the riding time, if they were travelling point-to-point.\n",
    "\n",
    "Lets add that as a variable."
   ]
  },
  {
   "cell_type": "code",
   "execution_count": 26,
   "id": "89088c6f",
   "metadata": {},
   "outputs": [],
   "source": [
    "ride_data_clean <- ride_data_clean %>%\n",
    "  mutate(speed_kmh = (straight_line_distance_km /\n",
    "    (as.numeric(trip_duration_min) / 60)))"
   ]
  },
  {
   "cell_type": "markdown",
   "id": "fa85bb6e",
   "metadata": {},
   "source": [
    "The very best cyclists might be able to ride at a maximum of 40km/h in perfect conditions. So lets count how many observations exceed 40km/h."
   ]
  },
  {
   "cell_type": "code",
   "execution_count": 27,
   "id": "6abbce63",
   "metadata": {},
   "outputs": [
    {
     "data": {
      "text/html": [
       "1604"
      ],
      "text/latex": [
       "1604"
      ],
      "text/markdown": [
       "1604"
      ],
      "text/plain": [
       "[1] 1604"
      ]
     },
     "metadata": {},
     "output_type": "display_data"
    }
   ],
   "source": [
    "nrow(filter(ride_data_clean, speed_kmh > 40))"
   ]
  },
  {
   "cell_type": "markdown",
   "id": "ce3e49ae",
   "metadata": {},
   "source": [
    "The number of anomalies is small, but lets remove them from the data."
   ]
  },
  {
   "cell_type": "code",
   "execution_count": 28,
   "id": "5a89d2f6",
   "metadata": {},
   "outputs": [],
   "source": [
    "ride_data_clean <- ride_data_clean %>%\n",
    "  filter(!(speed_kmh > 40))"
   ]
  },
  {
   "cell_type": "markdown",
   "id": "a5c07d68",
   "metadata": {},
   "source": [
    "And we can compare the average speeds of the two user groups. We can see that members on average travel ~52% faster than casual users."
   ]
  },
  {
   "cell_type": "code",
   "execution_count": 29,
   "id": "0711ac36",
   "metadata": {
    "scrolled": true
   },
   "outputs": [
    {
     "data": {
      "text/html": [
       "<table class=\"dataframe\">\n",
       "<caption>A tibble: 2 × 3</caption>\n",
       "<thead>\n",
       "\t<tr><th scope=col>member_casual</th><th scope=col>mean_speed_kmh</th><th scope=col>median_speed_kmh</th></tr>\n",
       "\t<tr><th scope=col>&lt;chr&gt;</th><th scope=col>&lt;dbl&gt;</th><th scope=col>&lt;dbl&gt;</th></tr>\n",
       "</thead>\n",
       "<tbody>\n",
       "\t<tr><td>casual</td><td> 7.471261</td><td> 7.934018</td></tr>\n",
       "\t<tr><td>member</td><td>11.360207</td><td>11.792513</td></tr>\n",
       "</tbody>\n",
       "</table>\n"
      ],
      "text/latex": [
       "A tibble: 2 × 3\n",
       "\\begin{tabular}{lll}\n",
       " member\\_casual & mean\\_speed\\_kmh & median\\_speed\\_kmh\\\\\n",
       " <chr> & <dbl> & <dbl>\\\\\n",
       "\\hline\n",
       "\t casual &  7.471261 &  7.934018\\\\\n",
       "\t member & 11.360207 & 11.792513\\\\\n",
       "\\end{tabular}\n"
      ],
      "text/markdown": [
       "\n",
       "A tibble: 2 × 3\n",
       "\n",
       "| member_casual &lt;chr&gt; | mean_speed_kmh &lt;dbl&gt; | median_speed_kmh &lt;dbl&gt; |\n",
       "|---|---|---|\n",
       "| casual |  7.471261 |  7.934018 |\n",
       "| member | 11.360207 | 11.792513 |\n",
       "\n"
      ],
      "text/plain": [
       "  member_casual mean_speed_kmh median_speed_kmh\n",
       "1 casual         7.471261       7.934018       \n",
       "2 member        11.360207      11.792513       "
      ]
     },
     "metadata": {},
     "output_type": "display_data"
    },
    {
     "name": "stderr",
     "output_type": "stream",
     "text": [
      "Warning message:\n",
      "\"\u001b[1m\u001b[22mRemoved 550744 rows containing non-finite values (`stat_bin()`).\"\n",
      "Warning message:\n",
      "\"\u001b[1m\u001b[22mRemoved 4 rows containing missing values (`geom_path()`).\"\n"
     ]
    },
    {
     "data": {
      "image/png": "[encoded data removed]",
      "text/plain": [
       "plot without title"
      ]
     },
     "metadata": {
      "image/png": {
       "height": 420,
       "width": 420
      }
     },
     "output_type": "display_data"
    },
    {
     "data": {
      "image/png": "[encoded data removed]",
      "text/plain": [
       "plot without title"
      ]
     },
     "metadata": {
      "image/png": {
       "height": 420,
       "width": 420
      }
     },
     "output_type": "display_data"
    }
   ],
   "source": [
    "speed_kmh_by_usertype <- ride_data_clean %>%\n",
    "  group_by(member_casual) %>%\n",
    "  summarise(\n",
    "      mean_speed_kmh = mean(speed_kmh),\n",
    "      median_speed_kmh = median(speed_kmh)) %>%\n",
    "  ungroup()\n",
    "\n",
    "speed_kmh_by_usertype\n",
    "\n",
    "ggplot(\n",
    "  speed_kmh_by_usertype,\n",
    "  aes(x = member_casual, y = mean_speed_kmh, fill = member_casual)\n",
    ") +\n",
    "  geom_bar(stat = \"identity\") +\n",
    "  ggtitle(\"Mean Station To Station Trip Speed\")\n",
    "\n",
    "speed_trips_by_usertype <- select(\n",
    "    ride_data_clean, ride_id, speed_kmh, member_casual\n",
    "    ) \n",
    "\n",
    "ggplot(speed_trips_by_usertype, aes(x = speed_kmh, color = member_casual)) +\n",
    "  geom_freqpoly(binwidth = 1) + xlim(0, 15) + \n",
    "  ggtitle(\"Trips by Speed\")"
   ]
  },
  {
   "cell_type": "markdown",
   "id": "6bc3a2c7",
   "metadata": {},
   "source": [
    "### Geographical Clustering\n",
    "We can look at the coordinates members and casual users start their journeys at. Ideally we would use ggmap to plot the coordinates on a map of Chicago so we could look at the neibourhoods each user group preferred, but this requires an API key which I do not want to include in this document. So for this study, we will just examine whether there is in fact a geographical preference difference between members and casual users - this could always form the basis of a future more detailed study.\n",
    "\n",
    "We have far too many observations to plot all of them, so we will plot a sample.\n",
    "\n",
    "We can see that based on a sample of 100,000 members and 100,000 casual users there is a clear difference between the two groups: casual use is much more localised and peaks in a small area; member use is more geographically spread out and the peak areas are separated into multiple zones of lower density, none of which seems to exactly coincide with the casual user peak zone."
   ]
  },
  {
   "cell_type": "code",
   "execution_count": 30,
   "id": "0b471866",
   "metadata": {
    "scrolled": true
   },
   "outputs": [
    {
     "name": "stderr",
     "output_type": "stream",
     "text": [
      "Warning message:\n",
      "\"\u001b[1m\u001b[22mRemoved 6480 rows containing non-finite values (`stat_density2d_filled()`).\"\n"
     ]
    },
    {
     "data": {
      "image/png": "[encoded data removed]",
      "text/plain": [
       "plot without title"
      ]
     },
     "metadata": {
      "image/png": {
       "height": 420,
       "width": 420
      }
     },
     "output_type": "display_data"
    }
   ],
   "source": [
    "geographical_sample_members <- filter(\n",
    "    ride_data_clean, member_casual == \"member\" &\n",
    "    start_lat > 41.8 &\n",
    "    start_lat < 42.1 &\n",
    "    start_lng < 87.75 \n",
    ") %>%\n",
    "  select(\n",
    "    ride_id, member_casual, start_lat, start_lng) %>%\n",
    "    sample_n(100000)\n",
    "\n",
    "geographical_sample_casual <- filter(\n",
    "    ride_data_clean, member_casual == \"casual\"  &\n",
    "    start_lat > 41.8 &\n",
    "    start_lat < 42.1 &\n",
    "    start_lng < 87.70\n",
    ") %>%\n",
    "  select(\n",
    "    ride_id, member_casual, start_lat, start_lng) %>%\n",
    "    sample_n(100000)\n",
    "\n",
    "geographical_sample_all <-\n",
    "  rbind(\n",
    "      geographical_sample_members,\n",
    "      geographical_sample_casual\n",
    ")\n",
    "\n",
    "ggplot(geographical_sample_all, aes(start_lat, start_lng)) +\n",
    "  facet_wrap(~ member_casual) +\n",
    "  geom_density_2d_filled() +\n",
    "  ylim(-87.70, -87.60) +\n",
    "  ggtitle(\"Random Sample - n = 100,000 members, n = 100,000 casual users\")"
   ]
  },
  {
   "cell_type": "markdown",
   "id": "e6837637",
   "metadata": {},
   "source": [
    "### Bicycle Type\n",
    "Finally lets look at differences in bicycle type usage between members and casual users. The problem is that we do not know in detail what the difference between all the values are: \"classic_bike\" sounds like a standard cycle, \"electric_bike\" seems clear, but \"docked_bike\" is ambiguous (it could be a version of an electric bike or just a standard cycle). We would need to seek more information to make real use of this data.\n",
    "\n",
    "Looking at this data anyway, members use ~7.5% more classic bikes, ~0.8% more electric bikes and ~8.4% fewer docked bikes."
   ]
  },
  {
   "cell_type": "code",
   "execution_count": 31,
   "id": "f04e7f31",
   "metadata": {},
   "outputs": [
    {
     "name": "stderr",
     "output_type": "stream",
     "text": [
      "\u001b[1m\u001b[22m`summarise()` has grouped output by 'member_casual'. You can override using the `.groups` argument.\n"
     ]
    },
    {
     "data": {
      "text/html": [
       "<table class=\"dataframe\">\n",
       "<caption>A data.frame: 3 × 4</caption>\n",
       "<thead>\n",
       "\t<tr><th scope=col>rideable_type</th><th scope=col>member_cycle_type_perc</th><th scope=col>casual_cycle_type_perc</th><th scope=col>member_diff_perc</th></tr>\n",
       "\t<tr><th scope=col>&lt;chr&gt;</th><th scope=col>&lt;dbl&gt;</th><th scope=col>&lt;dbl&gt;</th><th scope=col>&lt;dbl&gt;</th></tr>\n",
       "</thead>\n",
       "<tbody>\n",
       "\t<tr><td>classic_bike </td><td>0.1282971</td><td>0.05239689</td><td> 0.075900239</td></tr>\n",
       "\t<tr><td>docked_bike  </td><td>0.7395887</td><td>0.82390127</td><td>-0.084312570</td></tr>\n",
       "\t<tr><td>electric_bike</td><td>0.1321142</td><td>0.12370184</td><td> 0.008412331</td></tr>\n",
       "</tbody>\n",
       "</table>\n"
      ],
      "text/latex": [
       "A data.frame: 3 × 4\n",
       "\\begin{tabular}{llll}\n",
       " rideable\\_type & member\\_cycle\\_type\\_perc & casual\\_cycle\\_type\\_perc & member\\_diff\\_perc\\\\\n",
       " <chr> & <dbl> & <dbl> & <dbl>\\\\\n",
       "\\hline\n",
       "\t classic\\_bike  & 0.1282971 & 0.05239689 &  0.075900239\\\\\n",
       "\t docked\\_bike   & 0.7395887 & 0.82390127 & -0.084312570\\\\\n",
       "\t electric\\_bike & 0.1321142 & 0.12370184 &  0.008412331\\\\\n",
       "\\end{tabular}\n"
      ],
      "text/markdown": [
       "\n",
       "A data.frame: 3 × 4\n",
       "\n",
       "| rideable_type &lt;chr&gt; | member_cycle_type_perc &lt;dbl&gt; | casual_cycle_type_perc &lt;dbl&gt; | member_diff_perc &lt;dbl&gt; |\n",
       "|---|---|---|---|\n",
       "| classic_bike  | 0.1282971 | 0.05239689 |  0.075900239 |\n",
       "| docked_bike   | 0.7395887 | 0.82390127 | -0.084312570 |\n",
       "| electric_bike | 0.1321142 | 0.12370184 |  0.008412331 |\n",
       "\n"
      ],
      "text/plain": [
       "  rideable_type member_cycle_type_perc casual_cycle_type_perc member_diff_perc\n",
       "1 classic_bike  0.1282971              0.05239689              0.075900239    \n",
       "2 docked_bike   0.7395887              0.82390127             -0.084312570    \n",
       "3 electric_bike 0.1321142              0.12370184              0.008412331    "
      ]
     },
     "metadata": {},
     "output_type": "display_data"
    }
   ],
   "source": [
    "bicycle_type_trips <- ride_data_clean %>%\n",
    "  group_by(member_casual, rideable_type) %>%\n",
    "  summarise(trip_count = n()) %>%\n",
    "  ungroup()\n",
    "\n",
    "bicycle_type_trips_perc_member <-\n",
    "  filter(bicycle_type_trips, member_casual == \"member\") %>%\n",
    "  mutate(member_cycle_type_perc = trip_count / sum(trip_count))\n",
    "\n",
    "bicycle_type_trips_perc_casual <-\n",
    "  filter(bicycle_type_trips, member_casual == \"casual\") %>%\n",
    "  mutate(casual_cycle_type_perc = trip_count / sum(trip_count))\n",
    "\n",
    "bicycle_type_trips_perc_all <-\n",
    "  cbind(\n",
    "    select(\n",
    "      bicycle_type_trips_perc_member, rideable_type, member_cycle_type_perc\n",
    "    ),\n",
    "    select(bicycle_type_trips_perc_casual, casual_cycle_type_perc)\n",
    "  ) %>%\n",
    "  mutate(member_diff_perc = member_cycle_type_perc - casual_cycle_type_perc)\n",
    "\n",
    "bicycle_type_trips_perc_all"
   ]
  },
  {
   "cell_type": "markdown",
   "id": "98152dc5",
   "metadata": {},
   "source": [
    "## Conclusions\n",
    "We have used the following metrics to analyse the difference between members and casual users:\n",
    "\n",
    "* Number of trips.\n",
    "* Trip duration.\n",
    "* Trip start times.\n",
    "* Distribution of trips across the data period.\n",
    "* Distance travelled between start and end station.\n",
    "* Riding speed.\n",
    "* Geographical clustering of start/end stations.\n",
    "* The type of bike used.\n",
    "\n",
    "The hypothesis was that members are more utility-oriented and casual users are more leisure-oriented. Does our data tell that story and support that hypothesis?\n",
    "\n",
    "* Members take 18% more trips than casual users.\n",
    "* Members on average take much shorter trips than casual users (~15 minutes versus ~34 minutes). \n",
    "* There are peaks in member trip start times which align with morning and evening commuting times and with lunchtime.\n",
    "* The number of member trips per day is more consistent and shows less short-term variation.\n",
    "* The average distance between start and end stations for the two user groups only differs by 130m.\n",
    "* Members ride ~52% faster than casual users (using a metric based on riding time and distance between start and end stations).\n",
    "* Members start location densities are geographically different from casual users and are spread over a wider area.\n",
    "* There are differences in bycycle type usage, but more information is needed to interpret this.\n",
    "\n",
    "These results could be interpreted as supporting the hypothesis in the following way: \n",
    "\n",
    "* Members are taking on average frequent, short, fast trips, with peak usage aligning with commuting and lunch times, and are using the service more consistently throughout the year (accounting for seasonal variation). This suggests that members are using the service primarily to get from point-to-point on a regular basis and are more reliant on it as a means of daily transport. \n",
    "* Their usage of the service is more geographically diffuse (in terms of start point) compared to casual users and peaks in different geographical areas: further analysis is needed to identify the character of these neibourhoods, but it could be suggested that more diverse usage again suggests day-to-day utility as compared to casual users whose usage peaks in a single area.\n",
    "\n",
    "\n",
    "## Recommendations\n",
    "The business task was to investigate the difference in usage between members and casual users with the aim of focusing marketing to increase membership subscriptions. The hypothesis that members are utility-oriented is consistent with several different findings of the analysis.\n",
    "\n",
    "* The recommendation would be to conduct a test of marketing focusing on _utility_: the speed and ease of usage for members of the cycle hire scheme to quickly get from point A to point B in the city on a daily basis, especially connected with commuting and day-to-day tasks. Marketing could also be targeted at those points in the city where members currently most frequently use the service.\n",
    "\n",
    "* It is also recommended to conduct a more detailed geographical analysis of the nature of the neibourhoods members tend to start and end their journeys at, as this may reveal more information on the reasons why members joined the scheme (i.e. are these areas commercial, business, or leisure zones?)."
   ]
  }
 ],
 "metadata": {
  "kernelspec": {
   "display_name": "R",
   "language": "R",
   "name": "ir"
  },
  "language_info": {
   "codemirror_mode": "r",
   "file_extension": ".r",
   "mimetype": "text/x-r-source",
   "name": "R",
   "pygments_lexer": "r",
   "version": "4.2.2"
  }
 },
 "nbformat": 4,
 "nbformat_minor": 5
}
