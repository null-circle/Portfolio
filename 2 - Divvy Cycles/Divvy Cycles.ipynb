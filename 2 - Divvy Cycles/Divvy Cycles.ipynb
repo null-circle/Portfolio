{
 "cells": [
  {
   "cell_type": "markdown",
   "id": "acb3331c",
   "metadata": {},
   "source": [
    "# Divvy Cycles\n",
    "#### Author: Mark Richards\n",
    "#### Date: 2022-12-01"
   ]
  },
  {
   "cell_type": "markdown",
   "id": "3149b7ef",
   "metadata": {},
   "source": [
    "## Introduction\n",
    "This is a case study based open source data provided by Lyft Bikes and Scooters LLC who operate the city of Chicago's Divvy bike sharing service, which allows people to hire bicycles from any of 600+ bike stations across Chicago for short-duration trips. \n",
    "\n",
    "Further information on the Divvy bike service data can be found at https://ride.divvybikes.com/system-data.\n",
    "The data itself is available at https://divvy-tripdata.s3.amazonaws.com/index.html and has been provided for use under the following agreement https://ride.divvybikes.com/data-license-agreement. \n",
    "\n",
    "## Defining the Business Task\n",
    "Divvy has two types of customers: __annual members__ who pay a fixed fee and can use the cycle hire scheme as frequently as they want for one year; and __casual users__, who pay on a per-trip basis. Annual members are more profitable for the company than casual users and the intention is to develop a marketing campaign to increase annual membership. The business task we are given is to explore and identify the ways in which annual members and casual members differ in their use of the cycle hire scheme, so that this could in future be a basis for the marketing campaign.  \n",
    "\n",
    "## The Data\n",
    "The data we have available consists of historical trip data. Each trip has a unique __trip id__, a __start datetime__ and __end datetime__, a __start station id__ and __end station id__, __start coordinates__ and __end coordinates__ (as separate latitude and longitude), and whether the trip was made by a __casual user__ or an __annual member__.\n",
    "\n",
    "We have data for the 12 month period April 2020 to March 2021. This is stored in CSV format in monthly segments, so 12 separate files.\n",
    "\n",
    "Lets load the data and combine it into a single tibble."
   ]
  },
  {
   "cell_type": "code",
   "execution_count": 1,
   "id": "bf45e24d",
   "metadata": {},
   "outputs": [
    {
     "name": "stderr",
     "output_type": "stream",
     "text": [
      "── \u001b[1mAttaching packages\u001b[22m ─────────────────────────────────────────────────────────────────────────────── tidyverse 1.3.2 ──\n",
      "\u001b[32m✔\u001b[39m \u001b[34mggplot2\u001b[39m 3.4.0      \u001b[32m✔\u001b[39m \u001b[34mpurrr  \u001b[39m 0.3.5 \n",
      "\u001b[32m✔\u001b[39m \u001b[34mtibble \u001b[39m 3.1.8      \u001b[32m✔\u001b[39m \u001b[34mdplyr  \u001b[39m 1.0.10\n",
      "\u001b[32m✔\u001b[39m \u001b[34mtidyr  \u001b[39m 1.2.1      \u001b[32m✔\u001b[39m \u001b[34mstringr\u001b[39m 1.5.0 \n",
      "\u001b[32m✔\u001b[39m \u001b[34mreadr  \u001b[39m 2.1.3      \u001b[32m✔\u001b[39m \u001b[34mforcats\u001b[39m 0.5.2 \n",
      "── \u001b[1mConflicts\u001b[22m ────────────────────────────────────────────────────────────────────────────────── tidyverse_conflicts() ──\n",
      "\u001b[31m✖\u001b[39m \u001b[34mdplyr\u001b[39m::\u001b[32mfilter()\u001b[39m masks \u001b[34mstats\u001b[39m::filter()\n",
      "\u001b[31m✖\u001b[39m \u001b[34mdplyr\u001b[39m::\u001b[32mlag()\u001b[39m    masks \u001b[34mstats\u001b[39m::lag()\n"
     ]
    }
   ],
   "source": [
    "library(tidyverse)"
   ]
  },
  {
   "cell_type": "code",
   "execution_count": 2,
   "id": "4bc27b18",
   "metadata": {},
   "outputs": [],
   "source": [
    "setwd(\"./CSV\")\n",
    "\n",
    "col_spec <- list(\n",
    "    ride_id = col_character(),\n",
    "    rideable_type = col_character(),\n",
    "    started_at = col_datetime(format = \"\"),\n",
    "    ended_at = col_datetime(format = \"\"),\n",
    "    start_station_name = col_character(),\n",
    "    start_station_id = col_character(),\n",
    "    end_station_name = col_character(),\n",
    "    end_station_id = col_character(),\n",
    "    start_lat = col_double(),\n",
    "    start_lng = col_double(),\n",
    "    end_lat = col_double(),\n",
    "    end_lng = col_double(),\n",
    "    member_casual = col_character()\n",
    ")\n",
    "\n",
    "tbl_202004_divvy_tripdata <- read_csv(\n",
    "    \"202004-divvy-tripdata.csv\",\n",
    "    col_types = col_spec\n",
    ")\n",
    "\n",
    "tbl_202006_divvy_tripdata <- read_csv(\n",
    "    \"202006-divvy-tripdata.csv\",\n",
    "    col_types = col_spec\n",
    ")\n",
    "\n",
    "tbl_202008_divvy_tripdata <- read_csv(\n",
    "    \"202008-divvy-tripdata.csv\",\n",
    "    col_types = col_spec\n",
    ")\n",
    "\n",
    "tbl_202010_divvy_tripdata <- read_csv(\n",
    "    \"202010-divvy-tripdata.csv\",\n",
    "    col_types = col_spec\n",
    ")\n",
    "\n",
    "tbl_202012_divvy_tripdata <- read_csv(\n",
    "    \"202012-divvy-tripdata.csv\",\n",
    "    col_types = col_spec\n",
    ")\n",
    "\n",
    "tbl_202102_divvy_tripdata <- read_csv(\n",
    "    \"202102-divvy-tripdata.csv\",\n",
    "    col_types = col_spec\n",
    ")\n",
    "\n",
    "tbl_202005_divvy_tripdata <- read_csv(\n",
    "    \"202005-divvy-tripdata.csv\",\n",
    "    col_types = col_spec\n",
    ")\n",
    "\n",
    "tbl_202007_divvy_tripdata <- read_csv(\n",
    "    \"202007-divvy-tripdata.csv\",\n",
    "    col_types = col_spec\n",
    ")\n",
    "\n",
    "tbl_202009_divvy_tripdata <- read_csv(\n",
    "    \"202009-divvy-tripdata.csv\",\n",
    "    col_types = col_spec\n",
    ")\n",
    "\n",
    "tbl_202011_divvy_tripdata <- read_csv(\n",
    "    \"202011-divvy-tripdata.csv\",\n",
    "    col_types = col_spec\n",
    ")\n",
    "\n",
    "tbl_202101_divvy_tripdata <- read_csv(\n",
    "    \"202101-divvy-tripdata.csv\",\n",
    "    col_types = col_spec\n",
    ")\n",
    "\n",
    "tbl_202103_divvy_tripdata <- read_csv(\n",
    "    \"202103-divvy-tripdata.csv\",\n",
    "    col_types = col_spec\n",
    ")\n",
    "\n",
    "ride_data <- bind_rows(\n",
    "    tbl_202004_divvy_tripdata,\n",
    "    tbl_202006_divvy_tripdata,\n",
    "    tbl_202008_divvy_tripdata,\n",
    "    tbl_202010_divvy_tripdata,\n",
    "    tbl_202012_divvy_tripdata,\n",
    "    tbl_202102_divvy_tripdata,\n",
    "    tbl_202005_divvy_tripdata,\n",
    "    tbl_202007_divvy_tripdata,\n",
    "    tbl_202009_divvy_tripdata,\n",
    "    tbl_202011_divvy_tripdata,\n",
    "    tbl_202101_divvy_tripdata,\n",
    "    tbl_202103_divvy_tripdata\n",
    ")\n",
    "\n",
    "rm(\n",
    "    tbl_202004_divvy_tripdata,\n",
    "    tbl_202006_divvy_tripdata,\n",
    "    tbl_202008_divvy_tripdata,\n",
    "    tbl_202010_divvy_tripdata,\n",
    "    tbl_202012_divvy_tripdata,\n",
    "    tbl_202102_divvy_tripdata,\n",
    "    tbl_202005_divvy_tripdata,\n",
    "    tbl_202007_divvy_tripdata,\n",
    "    tbl_202009_divvy_tripdata,\n",
    "    tbl_202011_divvy_tripdata,\n",
    "    tbl_202101_divvy_tripdata,\n",
    "    tbl_202103_divvy_tripdata\n",
    ")"
   ]
  },
  {
   "cell_type": "markdown",
   "id": "b1282d13",
   "metadata": {},
   "source": [
    "Lets have a look at the data."
   ]
  },
  {
   "cell_type": "code",
   "execution_count": 3,
   "id": "89ab369b-157a-46b0-9707-5141f4c3fcd8",
   "metadata": {},
   "outputs": [
    {
     "data": {
      "text/html": [
       "<table class=\"dataframe\">\n",
       "<caption>A tibble: 10 × 13</caption>\n",
       "<thead>\n",
       "\t<tr><th scope=col>ride_id</th><th scope=col>rideable_type</th><th scope=col>started_at</th><th scope=col>ended_at</th><th scope=col>start_station_name</th><th scope=col>start_station_id</th><th scope=col>end_station_name</th><th scope=col>end_station_id</th><th scope=col>start_lat</th><th scope=col>start_lng</th><th scope=col>end_lat</th><th scope=col>end_lng</th><th scope=col>member_casual</th></tr>\n",
       "\t<tr><th scope=col>&lt;chr&gt;</th><th scope=col>&lt;chr&gt;</th><th scope=col>&lt;dttm&gt;</th><th scope=col>&lt;dttm&gt;</th><th scope=col>&lt;chr&gt;</th><th scope=col>&lt;chr&gt;</th><th scope=col>&lt;chr&gt;</th><th scope=col>&lt;chr&gt;</th><th scope=col>&lt;dbl&gt;</th><th scope=col>&lt;dbl&gt;</th><th scope=col>&lt;dbl&gt;</th><th scope=col>&lt;dbl&gt;</th><th scope=col>&lt;chr&gt;</th></tr>\n",
       "</thead>\n",
       "<tbody>\n",
       "\t<tr><td>A847FADBBC638E45</td><td>docked_bike</td><td>2020-04-26 17:45:14</td><td>2020-04-26 18:12:03</td><td><span style=white-space:pre-wrap>Eckhart Park                       </span></td><td>86 </td><td>Lincoln Ave &amp; Diversey Pkwy </td><td>152</td><td>41.8964</td><td>-87.6610</td><td>41.9322</td><td>-87.6586</td><td>member</td></tr>\n",
       "\t<tr><td>5405B80E996FF60D</td><td>docked_bike</td><td>2020-04-17 17:08:54</td><td>2020-04-17 17:17:03</td><td><span style=white-space:pre-wrap>Drake Ave &amp; Fullerton Ave          </span></td><td>503</td><td><span style=white-space:pre-wrap>Kosciuszko Park             </span></td><td>499</td><td>41.9244</td><td>-87.7154</td><td>41.9306</td><td>-87.7238</td><td>member</td></tr>\n",
       "\t<tr><td>5DD24A79A4E006F4</td><td>docked_bike</td><td>2020-04-01 17:54:13</td><td>2020-04-01 18:08:36</td><td><span style=white-space:pre-wrap>McClurg Ct &amp; Erie St               </span></td><td>142</td><td><span style=white-space:pre-wrap>Indiana Ave &amp; Roosevelt Rd  </span></td><td>255</td><td>41.8945</td><td>-87.6179</td><td>41.8679</td><td>-87.6230</td><td>member</td></tr>\n",
       "\t<tr><td>2A59BBDF5CDBA725</td><td>docked_bike</td><td>2020-04-07 12:50:19</td><td>2020-04-07 13:02:31</td><td><span style=white-space:pre-wrap>California Ave &amp; Division St       </span></td><td>216</td><td><span style=white-space:pre-wrap>Wood St &amp; Augusta Blvd      </span></td><td>657</td><td>41.9030</td><td>-87.6975</td><td>41.8992</td><td>-87.6722</td><td>member</td></tr>\n",
       "\t<tr><td>27AD306C119C6158</td><td>docked_bike</td><td>2020-04-18 10:22:59</td><td>2020-04-18 11:15:54</td><td><span style=white-space:pre-wrap>Rush St &amp; Hubbard St               </span></td><td>125</td><td><span style=white-space:pre-wrap>Sheridan Rd &amp; Lawrence Ave  </span></td><td>323</td><td>41.8902</td><td>-87.6262</td><td>41.9695</td><td>-87.6547</td><td>casual</td></tr>\n",
       "\t<tr><td>356216E875132F61</td><td>docked_bike</td><td>2020-04-30 17:55:47</td><td>2020-04-30 18:01:11</td><td>Mies van der Rohe Way &amp; Chicago Ave</td><td>173</td><td><span style=white-space:pre-wrap>Streeter Dr &amp; Grand Ave     </span></td><td>35 </td><td>41.8969</td><td>-87.6217</td><td>41.8923</td><td>-87.6120</td><td>member</td></tr>\n",
       "\t<tr><td>A2759CB06A81F2BC</td><td>docked_bike</td><td>2020-04-02 14:47:19</td><td>2020-04-02 14:52:32</td><td><span style=white-space:pre-wrap>Streeter Dr &amp; Grand Ave            </span></td><td>35 </td><td><span style=white-space:pre-wrap>Fairbanks St &amp; Superior St  </span></td><td>635</td><td>41.8923</td><td>-87.6120</td><td>41.8957</td><td>-87.6201</td><td>member</td></tr>\n",
       "\t<tr><td>FC8BC2E2D54F35ED</td><td>docked_bike</td><td>2020-04-07 12:22:20</td><td>2020-04-07 13:38:09</td><td><span style=white-space:pre-wrap>Ogden Ave &amp; Roosevelt Rd           </span></td><td>434</td><td>Western Ave &amp; Congress Pkwy </td><td>382</td><td>41.8665</td><td>-87.6847</td><td>41.8747</td><td>-87.6864</td><td>casual</td></tr>\n",
       "\t<tr><td>9EC5648678DE06E6</td><td>docked_bike</td><td>2020-04-15 10:30:11</td><td>2020-04-15 10:35:55</td><td><span style=white-space:pre-wrap>LaSalle Dr &amp; Huron St              </span></td><td>627</td><td><span style=white-space:pre-wrap>Larrabee St &amp; Division St   </span></td><td>359</td><td>41.8949</td><td>-87.6323</td><td>41.9035</td><td>-87.6434</td><td>casual</td></tr>\n",
       "\t<tr><td>A8FFF89140C33017</td><td>docked_bike</td><td>2020-04-04 15:02:28</td><td>2020-04-04 15:19:47</td><td><span style=white-space:pre-wrap>Kedzie Ave &amp; Lake St               </span></td><td>377</td><td>Central Park Ave &amp; North Ave</td><td>508</td><td>41.8846</td><td>-87.7063</td><td>41.9097</td><td>-87.7166</td><td>member</td></tr>\n",
       "</tbody>\n",
       "</table>\n"
      ],
      "text/latex": [
       "A tibble: 10 × 13\n",
       "\\begin{tabular}{lllllllllllll}\n",
       " ride\\_id & rideable\\_type & started\\_at & ended\\_at & start\\_station\\_name & start\\_station\\_id & end\\_station\\_name & end\\_station\\_id & start\\_lat & start\\_lng & end\\_lat & end\\_lng & member\\_casual\\\\\n",
       " <chr> & <chr> & <dttm> & <dttm> & <chr> & <chr> & <chr> & <chr> & <dbl> & <dbl> & <dbl> & <dbl> & <chr>\\\\\n",
       "\\hline\n",
       "\t A847FADBBC638E45 & docked\\_bike & 2020-04-26 17:45:14 & 2020-04-26 18:12:03 & Eckhart Park                        & 86  & Lincoln Ave \\& Diversey Pkwy  & 152 & 41.8964 & -87.6610 & 41.9322 & -87.6586 & member\\\\\n",
       "\t 5405B80E996FF60D & docked\\_bike & 2020-04-17 17:08:54 & 2020-04-17 17:17:03 & Drake Ave \\& Fullerton Ave           & 503 & Kosciuszko Park              & 499 & 41.9244 & -87.7154 & 41.9306 & -87.7238 & member\\\\\n",
       "\t 5DD24A79A4E006F4 & docked\\_bike & 2020-04-01 17:54:13 & 2020-04-01 18:08:36 & McClurg Ct \\& Erie St                & 142 & Indiana Ave \\& Roosevelt Rd   & 255 & 41.8945 & -87.6179 & 41.8679 & -87.6230 & member\\\\\n",
       "\t 2A59BBDF5CDBA725 & docked\\_bike & 2020-04-07 12:50:19 & 2020-04-07 13:02:31 & California Ave \\& Division St        & 216 & Wood St \\& Augusta Blvd       & 657 & 41.9030 & -87.6975 & 41.8992 & -87.6722 & member\\\\\n",
       "\t 27AD306C119C6158 & docked\\_bike & 2020-04-18 10:22:59 & 2020-04-18 11:15:54 & Rush St \\& Hubbard St                & 125 & Sheridan Rd \\& Lawrence Ave   & 323 & 41.8902 & -87.6262 & 41.9695 & -87.6547 & casual\\\\\n",
       "\t 356216E875132F61 & docked\\_bike & 2020-04-30 17:55:47 & 2020-04-30 18:01:11 & Mies van der Rohe Way \\& Chicago Ave & 173 & Streeter Dr \\& Grand Ave      & 35  & 41.8969 & -87.6217 & 41.8923 & -87.6120 & member\\\\\n",
       "\t A2759CB06A81F2BC & docked\\_bike & 2020-04-02 14:47:19 & 2020-04-02 14:52:32 & Streeter Dr \\& Grand Ave             & 35  & Fairbanks St \\& Superior St   & 635 & 41.8923 & -87.6120 & 41.8957 & -87.6201 & member\\\\\n",
       "\t FC8BC2E2D54F35ED & docked\\_bike & 2020-04-07 12:22:20 & 2020-04-07 13:38:09 & Ogden Ave \\& Roosevelt Rd            & 434 & Western Ave \\& Congress Pkwy  & 382 & 41.8665 & -87.6847 & 41.8747 & -87.6864 & casual\\\\\n",
       "\t 9EC5648678DE06E6 & docked\\_bike & 2020-04-15 10:30:11 & 2020-04-15 10:35:55 & LaSalle Dr \\& Huron St               & 627 & Larrabee St \\& Division St    & 359 & 41.8949 & -87.6323 & 41.9035 & -87.6434 & casual\\\\\n",
       "\t A8FFF89140C33017 & docked\\_bike & 2020-04-04 15:02:28 & 2020-04-04 15:19:47 & Kedzie Ave \\& Lake St                & 377 & Central Park Ave \\& North Ave & 508 & 41.8846 & -87.7063 & 41.9097 & -87.7166 & member\\\\\n",
       "\\end{tabular}\n"
      ],
      "text/markdown": [
       "\n",
       "A tibble: 10 × 13\n",
       "\n",
       "| ride_id &lt;chr&gt; | rideable_type &lt;chr&gt; | started_at &lt;dttm&gt; | ended_at &lt;dttm&gt; | start_station_name &lt;chr&gt; | start_station_id &lt;chr&gt; | end_station_name &lt;chr&gt; | end_station_id &lt;chr&gt; | start_lat &lt;dbl&gt; | start_lng &lt;dbl&gt; | end_lat &lt;dbl&gt; | end_lng &lt;dbl&gt; | member_casual &lt;chr&gt; |\n",
       "|---|---|---|---|---|---|---|---|---|---|---|---|---|\n",
       "| A847FADBBC638E45 | docked_bike | 2020-04-26 17:45:14 | 2020-04-26 18:12:03 | Eckhart Park                        | 86  | Lincoln Ave &amp; Diversey Pkwy  | 152 | 41.8964 | -87.6610 | 41.9322 | -87.6586 | member |\n",
       "| 5405B80E996FF60D | docked_bike | 2020-04-17 17:08:54 | 2020-04-17 17:17:03 | Drake Ave &amp; Fullerton Ave           | 503 | Kosciuszko Park              | 499 | 41.9244 | -87.7154 | 41.9306 | -87.7238 | member |\n",
       "| 5DD24A79A4E006F4 | docked_bike | 2020-04-01 17:54:13 | 2020-04-01 18:08:36 | McClurg Ct &amp; Erie St                | 142 | Indiana Ave &amp; Roosevelt Rd   | 255 | 41.8945 | -87.6179 | 41.8679 | -87.6230 | member |\n",
       "| 2A59BBDF5CDBA725 | docked_bike | 2020-04-07 12:50:19 | 2020-04-07 13:02:31 | California Ave &amp; Division St        | 216 | Wood St &amp; Augusta Blvd       | 657 | 41.9030 | -87.6975 | 41.8992 | -87.6722 | member |\n",
       "| 27AD306C119C6158 | docked_bike | 2020-04-18 10:22:59 | 2020-04-18 11:15:54 | Rush St &amp; Hubbard St                | 125 | Sheridan Rd &amp; Lawrence Ave   | 323 | 41.8902 | -87.6262 | 41.9695 | -87.6547 | casual |\n",
       "| 356216E875132F61 | docked_bike | 2020-04-30 17:55:47 | 2020-04-30 18:01:11 | Mies van der Rohe Way &amp; Chicago Ave | 173 | Streeter Dr &amp; Grand Ave      | 35  | 41.8969 | -87.6217 | 41.8923 | -87.6120 | member |\n",
       "| A2759CB06A81F2BC | docked_bike | 2020-04-02 14:47:19 | 2020-04-02 14:52:32 | Streeter Dr &amp; Grand Ave             | 35  | Fairbanks St &amp; Superior St   | 635 | 41.8923 | -87.6120 | 41.8957 | -87.6201 | member |\n",
       "| FC8BC2E2D54F35ED | docked_bike | 2020-04-07 12:22:20 | 2020-04-07 13:38:09 | Ogden Ave &amp; Roosevelt Rd            | 434 | Western Ave &amp; Congress Pkwy  | 382 | 41.8665 | -87.6847 | 41.8747 | -87.6864 | casual |\n",
       "| 9EC5648678DE06E6 | docked_bike | 2020-04-15 10:30:11 | 2020-04-15 10:35:55 | LaSalle Dr &amp; Huron St               | 627 | Larrabee St &amp; Division St    | 359 | 41.8949 | -87.6323 | 41.9035 | -87.6434 | casual |\n",
       "| A8FFF89140C33017 | docked_bike | 2020-04-04 15:02:28 | 2020-04-04 15:19:47 | Kedzie Ave &amp; Lake St                | 377 | Central Park Ave &amp; North Ave | 508 | 41.8846 | -87.7063 | 41.9097 | -87.7166 | member |\n",
       "\n"
      ],
      "text/plain": [
       "   ride_id          rideable_type started_at          ended_at           \n",
       "1  A847FADBBC638E45 docked_bike   2020-04-26 17:45:14 2020-04-26 18:12:03\n",
       "2  5405B80E996FF60D docked_bike   2020-04-17 17:08:54 2020-04-17 17:17:03\n",
       "3  5DD24A79A4E006F4 docked_bike   2020-04-01 17:54:13 2020-04-01 18:08:36\n",
       "4  2A59BBDF5CDBA725 docked_bike   2020-04-07 12:50:19 2020-04-07 13:02:31\n",
       "5  27AD306C119C6158 docked_bike   2020-04-18 10:22:59 2020-04-18 11:15:54\n",
       "6  356216E875132F61 docked_bike   2020-04-30 17:55:47 2020-04-30 18:01:11\n",
       "7  A2759CB06A81F2BC docked_bike   2020-04-02 14:47:19 2020-04-02 14:52:32\n",
       "8  FC8BC2E2D54F35ED docked_bike   2020-04-07 12:22:20 2020-04-07 13:38:09\n",
       "9  9EC5648678DE06E6 docked_bike   2020-04-15 10:30:11 2020-04-15 10:35:55\n",
       "10 A8FFF89140C33017 docked_bike   2020-04-04 15:02:28 2020-04-04 15:19:47\n",
       "   start_station_name                  start_station_id\n",
       "1  Eckhart Park                        86              \n",
       "2  Drake Ave & Fullerton Ave           503             \n",
       "3  McClurg Ct & Erie St                142             \n",
       "4  California Ave & Division St        216             \n",
       "5  Rush St & Hubbard St                125             \n",
       "6  Mies van der Rohe Way & Chicago Ave 173             \n",
       "7  Streeter Dr & Grand Ave             35              \n",
       "8  Ogden Ave & Roosevelt Rd            434             \n",
       "9  LaSalle Dr & Huron St               627             \n",
       "10 Kedzie Ave & Lake St                377             \n",
       "   end_station_name             end_station_id start_lat start_lng end_lat\n",
       "1  Lincoln Ave & Diversey Pkwy  152            41.8964   -87.6610  41.9322\n",
       "2  Kosciuszko Park              499            41.9244   -87.7154  41.9306\n",
       "3  Indiana Ave & Roosevelt Rd   255            41.8945   -87.6179  41.8679\n",
       "4  Wood St & Augusta Blvd       657            41.9030   -87.6975  41.8992\n",
       "5  Sheridan Rd & Lawrence Ave   323            41.8902   -87.6262  41.9695\n",
       "6  Streeter Dr & Grand Ave      35             41.8969   -87.6217  41.8923\n",
       "7  Fairbanks St & Superior St   635            41.8923   -87.6120  41.8957\n",
       "8  Western Ave & Congress Pkwy  382            41.8665   -87.6847  41.8747\n",
       "9  Larrabee St & Division St    359            41.8949   -87.6323  41.9035\n",
       "10 Central Park Ave & North Ave 508            41.8846   -87.7063  41.9097\n",
       "   end_lng  member_casual\n",
       "1  -87.6586 member       \n",
       "2  -87.7238 member       \n",
       "3  -87.6230 member       \n",
       "4  -87.6722 member       \n",
       "5  -87.6547 casual       \n",
       "6  -87.6120 member       \n",
       "7  -87.6201 member       \n",
       "8  -87.6864 casual       \n",
       "9  -87.6434 casual       \n",
       "10 -87.7166 member       "
      ]
     },
     "metadata": {},
     "output_type": "display_data"
    }
   ],
   "source": [
    "head(ride_data, n=10)"
   ]
  },
  {
   "cell_type": "code",
   "execution_count": 4,
   "id": "b3d0a17f-65e2-4cff-abcb-873e396851dc",
   "metadata": {},
   "outputs": [
    {
     "name": "stdout",
     "output_type": "stream",
     "text": [
      "Rows: 3,489,748\n",
      "Columns: 13\n",
      "$ ride_id            \u001b[3m\u001b[90m<chr>\u001b[39m\u001b[23m \"A847FADBBC638E45\", \"5405B80E996FF60D\", \"5DD24A79A4…\n",
      "$ rideable_type      \u001b[3m\u001b[90m<chr>\u001b[39m\u001b[23m \"docked_bike\", \"docked_bike\", \"docked_bike\", \"docke…\n",
      "$ started_at         \u001b[3m\u001b[90m<dttm>\u001b[39m\u001b[23m 2020-04-26 17:45:14, 2020-04-17 17:08:54, 2020-04-…\n",
      "$ ended_at           \u001b[3m\u001b[90m<dttm>\u001b[39m\u001b[23m 2020-04-26 18:12:03, 2020-04-17 17:17:03, 2020-04-…\n",
      "$ start_station_name \u001b[3m\u001b[90m<chr>\u001b[39m\u001b[23m \"Eckhart Park\", \"Drake Ave & Fullerton Ave\", \"McClu…\n",
      "$ start_station_id   \u001b[3m\u001b[90m<chr>\u001b[39m\u001b[23m \"86\", \"503\", \"142\", \"216\", \"125\", \"173\", \"35\", \"434…\n",
      "$ end_station_name   \u001b[3m\u001b[90m<chr>\u001b[39m\u001b[23m \"Lincoln Ave & Diversey Pkwy\", \"Kosciuszko Park\", \"…\n",
      "$ end_station_id     \u001b[3m\u001b[90m<chr>\u001b[39m\u001b[23m \"152\", \"499\", \"255\", \"657\", \"323\", \"35\", \"635\", \"38…\n",
      "$ start_lat          \u001b[3m\u001b[90m<dbl>\u001b[39m\u001b[23m 41.8964, 41.9244, 41.8945, 41.9030, 41.8902, 41.896…\n",
      "$ start_lng          \u001b[3m\u001b[90m<dbl>\u001b[39m\u001b[23m -87.6610, -87.7154, -87.6179, -87.6975, -87.6262, -…\n",
      "$ end_lat            \u001b[3m\u001b[90m<dbl>\u001b[39m\u001b[23m 41.9322, 41.9306, 41.8679, 41.8992, 41.9695, 41.892…\n",
      "$ end_lng            \u001b[3m\u001b[90m<dbl>\u001b[39m\u001b[23m -87.6586, -87.7238, -87.6230, -87.6722, -87.6547, -…\n",
      "$ member_casual      \u001b[3m\u001b[90m<chr>\u001b[39m\u001b[23m \"member\", \"member\", \"member\", \"member\", \"casual\", \"…\n"
     ]
    }
   ],
   "source": [
    "glimpse(ride_data)"
   ]
  },
  {
   "cell_type": "markdown",
   "id": "be5199f4",
   "metadata": {},
   "source": [
    "## Cleaning The Data\n",
    "\n",
    "Lets examine each variable in turn.\n",
    "\n",
    "* __ride_id__: Each ride_id should be unique as each represents a unique trip. "
   ]
  },
  {
   "cell_type": "code",
   "execution_count": 5,
   "id": "49caa4e9-5035-4e2c-88ac-9c1929b70d50",
   "metadata": {},
   "outputs": [
    {
     "data": {
      "text/html": [
       "209"
      ],
      "text/latex": [
       "209"
      ],
      "text/markdown": [
       "209"
      ],
      "text/plain": [
       "[1] 209"
      ]
     },
     "metadata": {},
     "output_type": "display_data"
    }
   ],
   "source": [
    "sum(duplicated(ride_data$ride_id))"
   ]
  },
  {
   "cell_type": "code",
   "execution_count": 6,
   "id": "64361b8e-4d64-475c-9015-37903a66a1a8",
   "metadata": {},
   "outputs": [
    {
     "data": {
      "text/html": [
       "0"
      ],
      "text/latex": [
       "0"
      ],
      "text/markdown": [
       "0"
      ],
      "text/plain": [
       "[1] 0"
      ]
     },
     "metadata": {},
     "output_type": "display_data"
    }
   ],
   "source": [
    "sum(is.na(ride_data$ride_id))"
   ]
  },
  {
   "cell_type": "markdown",
   "id": "a36ea70d-9a88-4642-9a50-a48a95d5c061",
   "metadata": {},
   "source": [
    "But when we check there are 209 duplications, although no missing data. \n",
    "\n",
    "The number of duplications is tiny in comparison with the total number of rows, so lets remove the duplicate rows."
   ]
  },
  {
   "cell_type": "code",
   "execution_count": 7,
   "id": "1b02cafb",
   "metadata": {},
   "outputs": [],
   "source": [
    "ride_data_clean <- ride_data %>%\n",
    "    filter(\n",
    "        !duplicated(ride_data$ride_id)\n",
    "    )"
   ]
  },
  {
   "cell_type": "markdown",
   "id": "fd34be01",
   "metadata": {},
   "source": [
    "* __rideable_type__: "
   ]
  },
  {
   "cell_type": "code",
   "execution_count": 8,
   "id": "d20cbd60",
   "metadata": {},
   "outputs": [
    {
     "data": {
      "text/html": [
       "<style>\n",
       ".list-inline {list-style: none; margin:0; padding: 0}\n",
       ".list-inline>li {display: inline-block}\n",
       ".list-inline>li:not(:last-child)::after {content: \"\\00b7\"; padding: 0 .5ex}\n",
       "</style>\n",
       "<ol class=list-inline><li>'docked_bike'</li><li>'electric_bike'</li><li>'classic_bike'</li></ol>\n"
      ],
      "text/latex": [
       "\\begin{enumerate*}\n",
       "\\item 'docked\\_bike'\n",
       "\\item 'electric\\_bike'\n",
       "\\item 'classic\\_bike'\n",
       "\\end{enumerate*}\n"
      ],
      "text/markdown": [
       "1. 'docked_bike'\n",
       "2. 'electric_bike'\n",
       "3. 'classic_bike'\n",
       "\n",
       "\n"
      ],
      "text/plain": [
       "[1] \"docked_bike\"   \"electric_bike\" \"classic_bike\" "
      ]
     },
     "metadata": {},
     "output_type": "display_data"
    }
   ],
   "source": [
    "unique(ride_data_clean$rideable_type)"
   ]
  },
  {
   "cell_type": "code",
   "execution_count": 9,
   "id": "8d2f0fb2-d6bf-46b3-b33a-89d4eb7b2fd1",
   "metadata": {},
   "outputs": [
    {
     "data": {
      "text/html": [
       "0"
      ],
      "text/latex": [
       "0"
      ],
      "text/markdown": [
       "0"
      ],
      "text/plain": [
       "[1] 0"
      ]
     },
     "metadata": {},
     "output_type": "display_data"
    }
   ],
   "source": [
    "sum(is.na(ride_data_clean$rideable_type))"
   ]
  },
  {
   "cell_type": "markdown",
   "id": "7919b515-cbb8-4fe5-aeef-cebb87354aad",
   "metadata": {},
   "source": [
    "This column only contains three values with no missing data."
   ]
  },
  {
   "cell_type": "markdown",
   "id": "eeb2d7e9",
   "metadata": {},
   "source": [
    "* __started_at__: This is a datetime."
   ]
  },
  {
   "cell_type": "code",
   "execution_count": 10,
   "id": "98353521",
   "metadata": {},
   "outputs": [
    {
     "data": {
      "text/html": [
       "0"
      ],
      "text/latex": [
       "0"
      ],
      "text/markdown": [
       "0"
      ],
      "text/plain": [
       "[1] 0"
      ]
     },
     "metadata": {},
     "output_type": "display_data"
    }
   ],
   "source": [
    "sum(is.na(ride_data_clean$started_at))"
   ]
  },
  {
   "cell_type": "markdown",
   "id": "04564705-c262-4e2e-b333-b9eb2420bb36",
   "metadata": {},
   "source": [
    " There are no missing values."
   ]
  },
  {
   "cell_type": "markdown",
   "id": "7bc432e7",
   "metadata": {},
   "source": [
    "* __ended_at__: Another datetime.  "
   ]
  },
  {
   "cell_type": "code",
   "execution_count": 11,
   "id": "e680e52d",
   "metadata": {},
   "outputs": [
    {
     "data": {
      "text/html": [
       "0"
      ],
      "text/latex": [
       "0"
      ],
      "text/markdown": [
       "0"
      ],
      "text/plain": [
       "[1] 0"
      ]
     },
     "metadata": {},
     "output_type": "display_data"
    }
   ],
   "source": [
    "sum(is.na(ride_data_clean$ended_at))"
   ]
  },
  {
   "cell_type": "markdown",
   "id": "94a8edda-386a-4cb1-9759-ef4d8e8131b3",
   "metadata": {},
   "source": [
    "But we also need to check the consistency of the time data: the ride end time should be after the start time, for example."
   ]
  },
  {
   "cell_type": "code",
   "execution_count": 12,
   "id": "a926d703-1c7a-494a-b44d-e2036082a09b",
   "metadata": {},
   "outputs": [
    {
     "data": {
      "text/html": [
       "386"
      ],
      "text/latex": [
       "386"
      ],
      "text/markdown": [
       "386"
      ],
      "text/plain": [
       "[1] 386"
      ]
     },
     "metadata": {},
     "output_type": "display_data"
    }
   ],
   "source": [
    "sum(\n",
    "    (ride_data_clean$ended_at - ride_data_clean$started_at) == 0\n",
    ")"
   ]
  },
  {
   "cell_type": "code",
   "execution_count": 13,
   "id": "89d2de82-eb6c-413f-95f1-7e424d5966bd",
   "metadata": {},
   "outputs": [
    {
     "data": {
      "text/html": [
       "10550"
      ],
      "text/latex": [
       "10550"
      ],
      "text/markdown": [
       "10550"
      ],
      "text/plain": [
       "[1] 10550"
      ]
     },
     "metadata": {},
     "output_type": "display_data"
    }
   ],
   "source": [
    "sum(\n",
    "    (ride_data_clean$ended_at - ride_data_clean$started_at) < 0\n",
    ")"
   ]
  },
  {
   "cell_type": "markdown",
   "id": "55bc533f-a6f6-4815-940c-e2c976e11a18",
   "metadata": {},
   "source": [
    "In fact though there are 386 trips with zero duration and 10550 with negative duration. These again are only a relatively small proportion of the total number of observations, so lets remove them."
   ]
  },
  {
   "cell_type": "code",
   "execution_count": 14,
   "id": "5ace0982-bb90-493a-97d6-74c810249d1f",
   "metadata": {},
   "outputs": [],
   "source": [
    "ride_data_clean <- ride_data_clean %>%\n",
    "    filter(\n",
    "        (ride_data_clean$ended_at - ride_data_clean$started_at) > 0\n",
    "    )"
   ]
  },
  {
   "cell_type": "markdown",
   "id": "f3fc48ed",
   "metadata": {},
   "source": [
    "  As we have a start datetime and an end datetime, we can also look at consistency in terms of trip duration. Lets add trip duration as a column."
   ]
  },
  {
   "cell_type": "code",
   "execution_count": 15,
   "id": "c3dbfad3",
   "metadata": {},
   "outputs": [],
   "source": [
    "ride_data_clean <- ride_data_clean %>%\n",
    "    mutate(\n",
    "        trip_duration_min = as.numeric(\n",
    "            (ended_at - started_at) / 60\n",
    "        )\n",
    "    )"
   ]
  },
  {
   "cell_type": "code",
   "execution_count": 16,
   "id": "e6fa9e74-ac79-4f14-8c2b-1b1cdde606e6",
   "metadata": {},
   "outputs": [
    {
     "data": {
      "text/html": [
       "6343"
      ],
      "text/latex": [
       "6343"
      ],
      "text/markdown": [
       "6343"
      ],
      "text/plain": [
       "[1] 6343"
      ]
     },
     "metadata": {},
     "output_type": "display_data"
    }
   ],
   "source": [
    "nrow(\n",
    "    ride_data_clean %>%\n",
    "    filter(\n",
    "        trip_duration_min > 720\n",
    "    )\n",
    ")"
   ]
  },
  {
   "cell_type": "markdown",
   "id": "4e850ccb",
   "metadata": {},
   "source": [
    "  There are some outlier trip durations which are greater than 12 hours. I am going to make the decision to consider these anomalies, given the relatively small number of them. Lets remove them."
   ]
  },
  {
   "cell_type": "code",
   "execution_count": 17,
   "id": "6bf08ad6",
   "metadata": {},
   "outputs": [],
   "source": [
    "ride_data_clean <- ride_data_clean %>%\n",
    "    filter(\n",
    "        !(trip_duration_min > 720)\n",
    "    )"
   ]
  },
  {
   "cell_type": "markdown",
   "id": "940e0035",
   "metadata": {},
   "source": [
    "* __start_station_name__: "
   ]
  },
  {
   "cell_type": "code",
   "execution_count": 18,
   "id": "b4d9829e",
   "metadata": {},
   "outputs": [
    {
     "data": {
      "text/html": [
       "122126"
      ],
      "text/latex": [
       "122126"
      ],
      "text/markdown": [
       "122126"
      ],
      "text/plain": [
       "[1] 122126"
      ]
     },
     "metadata": {},
     "output_type": "display_data"
    }
   ],
   "source": [
    "sum(is.na(ride_data_clean$start_station_name))"
   ]
  },
  {
   "cell_type": "markdown",
   "id": "a9eb8545-ef57-45c2-95f5-f9d67775fee7",
   "metadata": {},
   "source": [
    "There are 122175 observations without values. Lets pin this point for the moment and come back to it."
   ]
  },
  {
   "cell_type": "markdown",
   "id": "562189c6",
   "metadata": {},
   "source": [
    "* __start_station_id__:  "
   ]
  },
  {
   "cell_type": "code",
   "execution_count": 19,
   "id": "d2d2e7b1",
   "metadata": {},
   "outputs": [
    {
     "data": {
      "text/html": [
       "122752"
      ],
      "text/latex": [
       "122752"
      ],
      "text/markdown": [
       "122752"
      ],
      "text/plain": [
       "[1] 122752"
      ]
     },
     "metadata": {},
     "output_type": "display_data"
    }
   ],
   "source": [
    "sum(is.na(ride_data_clean$start_station_id))"
   ]
  },
  {
   "cell_type": "markdown",
   "id": "597b54a5-a539-44c6-b574-8f6197bf9777",
   "metadata": {},
   "source": [
    "There are 122801 missing values. Lets pin this point as well."
   ]
  },
  {
   "cell_type": "markdown",
   "id": "27bf52d0",
   "metadata": {},
   "source": [
    "* __end_station_name__:  "
   ]
  },
  {
   "cell_type": "code",
   "execution_count": 20,
   "id": "d3e859c1",
   "metadata": {},
   "outputs": [
    {
     "data": {
      "text/html": [
       "142033"
      ],
      "text/latex": [
       "142033"
      ],
      "text/markdown": [
       "142033"
      ],
      "text/plain": [
       "[1] 142033"
      ]
     },
     "metadata": {},
     "output_type": "display_data"
    }
   ],
   "source": [
    "sum(is.na(ride_data_clean$end_station_name))"
   ]
  },
  {
   "cell_type": "markdown",
   "id": "66a77672-a4de-4271-942c-12d888e20e32",
   "metadata": {},
   "source": [
    "There are 142214 missing values."
   ]
  },
  {
   "cell_type": "markdown",
   "id": "3449a57d",
   "metadata": {},
   "source": [
    "* __end_station_id__: "
   ]
  },
  {
   "cell_type": "code",
   "execution_count": 21,
   "id": "f1980840",
   "metadata": {},
   "outputs": [
    {
     "data": {
      "text/html": [
       "142494"
      ],
      "text/latex": [
       "142494"
      ],
      "text/markdown": [
       "142494"
      ],
      "text/plain": [
       "[1] 142494"
      ]
     },
     "metadata": {},
     "output_type": "display_data"
    }
   ],
   "source": [
    "sum(is.na(ride_data_clean$end_station_id))"
   ]
  },
  {
   "cell_type": "markdown",
   "id": "a71e360d-8404-4d5f-96f3-1755c29162ed",
   "metadata": {},
   "source": [
    "There are 142675 missing values."
   ]
  },
  {
   "cell_type": "markdown",
   "id": "ef6513f2",
   "metadata": {},
   "source": [
    "* __start_lat__: "
   ]
  },
  {
   "cell_type": "code",
   "execution_count": 22,
   "id": "57698db9",
   "metadata": {},
   "outputs": [
    {
     "data": {
      "text/html": [
       "0"
      ],
      "text/latex": [
       "0"
      ],
      "text/markdown": [
       "0"
      ],
      "text/plain": [
       "[1] 0"
      ]
     },
     "metadata": {},
     "output_type": "display_data"
    }
   ],
   "source": [
    "sum(is.na(ride_data_clean$start_lat))"
   ]
  },
  {
   "cell_type": "markdown",
   "id": "fbcf146c-647c-4239-b12f-1a4e792a5a80",
   "metadata": {},
   "source": [
    "There are no missing values."
   ]
  },
  {
   "cell_type": "markdown",
   "id": "1bb8a874",
   "metadata": {},
   "source": [
    "* __start_lng__: "
   ]
  },
  {
   "cell_type": "code",
   "execution_count": 23,
   "id": "61e1339d",
   "metadata": {},
   "outputs": [
    {
     "data": {
      "text/html": [
       "0"
      ],
      "text/latex": [
       "0"
      ],
      "text/markdown": [
       "0"
      ],
      "text/plain": [
       "[1] 0"
      ]
     },
     "metadata": {},
     "output_type": "display_data"
    }
   ],
   "source": [
    "sum(is.na(ride_data_clean$start_lng))"
   ]
  },
  {
   "cell_type": "markdown",
   "id": "0bfff47c-2496-429c-a9a9-a4fedc28071f",
   "metadata": {},
   "source": [
    "There are no missing values."
   ]
  },
  {
   "cell_type": "markdown",
   "id": "0c7d3dbf",
   "metadata": {},
   "source": [
    "* __end_lat__: "
   ]
  },
  {
   "cell_type": "code",
   "execution_count": 24,
   "id": "77b41a4c-41b3-4f0f-b46b-855db29bc45d",
   "metadata": {},
   "outputs": [
    {
     "data": {
      "text/html": [
       "3715"
      ],
      "text/latex": [
       "3715"
      ],
      "text/markdown": [
       "3715"
      ],
      "text/plain": [
       "[1] 3715"
      ]
     },
     "metadata": {},
     "output_type": "display_data"
    }
   ],
   "source": [
    "sum(is.na(ride_data_clean$end_lat))"
   ]
  },
  {
   "cell_type": "markdown",
   "id": "ed3928a3-ef80-42a0-a351-88ef36d77c7b",
   "metadata": {},
   "source": [
    "There are 3776 missing values."
   ]
  },
  {
   "cell_type": "markdown",
   "id": "1a5c03e0",
   "metadata": {},
   "source": [
    "* __end_lng__: "
   ]
  },
  {
   "cell_type": "code",
   "execution_count": 25,
   "id": "ddadfdc8",
   "metadata": {},
   "outputs": [
    {
     "data": {
      "text/html": [
       "3715"
      ],
      "text/latex": [
       "3715"
      ],
      "text/markdown": [
       "3715"
      ],
      "text/plain": [
       "[1] 3715"
      ]
     },
     "metadata": {},
     "output_type": "display_data"
    }
   ],
   "source": [
    "sum(is.na(ride_data_clean$end_lng))"
   ]
  },
  {
   "cell_type": "markdown",
   "id": "6f8a3c08-2cc6-4fc9-8105-f54c4d06e75f",
   "metadata": {},
   "source": [
    "There are 3776 missing values."
   ]
  },
  {
   "cell_type": "markdown",
   "id": "6f959515",
   "metadata": {},
   "source": [
    "* __member_casual__: "
   ]
  },
  {
   "cell_type": "code",
   "execution_count": 26,
   "id": "839911af",
   "metadata": {},
   "outputs": [
    {
     "data": {
      "text/html": [
       "0"
      ],
      "text/latex": [
       "0"
      ],
      "text/markdown": [
       "0"
      ],
      "text/plain": [
       "[1] 0"
      ]
     },
     "metadata": {},
     "output_type": "display_data"
    }
   ],
   "source": [
    "sum(is.na(ride_data_clean$member_casual))"
   ]
  },
  {
   "cell_type": "code",
   "execution_count": 27,
   "id": "68f78637-cc77-4baa-80c6-cee4f29787eb",
   "metadata": {},
   "outputs": [
    {
     "data": {
      "text/html": [
       "<style>\n",
       ".list-inline {list-style: none; margin:0; padding: 0}\n",
       ".list-inline>li {display: inline-block}\n",
       ".list-inline>li:not(:last-child)::after {content: \"\\00b7\"; padding: 0 .5ex}\n",
       "</style>\n",
       "<ol class=list-inline><li>'member'</li><li>'casual'</li></ol>\n"
      ],
      "text/latex": [
       "\\begin{enumerate*}\n",
       "\\item 'member'\n",
       "\\item 'casual'\n",
       "\\end{enumerate*}\n"
      ],
      "text/markdown": [
       "1. 'member'\n",
       "2. 'casual'\n",
       "\n",
       "\n"
      ],
      "text/plain": [
       "[1] \"member\" \"casual\""
      ]
     },
     "metadata": {},
     "output_type": "display_data"
    }
   ],
   "source": [
    "unique(ride_data_clean$member_casual)"
   ]
  },
  {
   "cell_type": "markdown",
   "id": "337eb833-b3e6-4f8a-86ce-864500961c50",
   "metadata": {},
   "source": [
    "There are no missing values and only the two expected values."
   ]
  },
  {
   "cell_type": "markdown",
   "id": "d30cfd12",
   "metadata": {},
   "source": [
    "So the two outstanding issues are:\n",
    "\n",
    "* __Station Names__: we have data with missing station names and station ids.\n",
    "* __Trip End Coordinates__: we have data missing the trip end latitude and longitude.\n",
    "\n",
    "We could try to create a look-up table for the stations using the observations with complete data and then insert missing values using that; and we could try to do something similar for the missing coordinates. But this would be quite complicated.\n",
    "\n",
    "Or we could just exclude all the observations with missing data. If we do this we would still be keeping most of the data and we will still have a huge number of observations. So lets proceed that way."
   ]
  },
  {
   "cell_type": "code",
   "execution_count": 28,
   "id": "6fa700f3",
   "metadata": {},
   "outputs": [],
   "source": [
    "ride_data_clean <- ride_data_clean %>%\n",
    "    filter(\n",
    "        !(\n",
    "            is.na(ride_data_clean$start_station_name) |\n",
    "            is.na(ride_data_clean$end_station_name) |\n",
    "            is.na(ride_data_clean$start_station_id) |\n",
    "            is.na(ride_data_clean$end_station_id) |\n",
    "            is.na(ride_data_clean$end_lat) |\n",
    "            is.na(ride_data_clean$end_lng)\n",
    "        )\n",
    "    )"
   ]
  },
  {
   "cell_type": "markdown",
   "id": "662ad799",
   "metadata": {},
   "source": [
    "## Exploration\n",
    "\n",
    "We could explore the differences in usage between members and casual users in several ways:\n",
    "\n",
    "* The number of trips each group takes.\n",
    "* Trip duration.\n",
    "* Trip start time.\n",
    "* Distribution of trips across the data period.\n",
    "* Distance travelled between start and end station.\n",
    "* Riding speed.\n",
    "* Geographical clustering of start/end stations.\n",
    "\n",
    "Lets examine each in turn."
   ]
  },
  {
   "cell_type": "markdown",
   "id": "2a79c78b",
   "metadata": {},
   "source": [
    "### Number of Trips"
   ]
  },
  {
   "cell_type": "code",
   "execution_count": 29,
   "id": "a83a9c52",
   "metadata": {},
   "outputs": [
    {
     "data": {
      "text/html": [
       "<table class=\"dataframe\">\n",
       "<caption>A tibble: 2 × 3</caption>\n",
       "<thead>\n",
       "\t<tr><th scope=col>member_casual</th><th scope=col>trip_count</th><th scope=col>trip_perc</th></tr>\n",
       "\t<tr><th scope=col>&lt;chr&gt;</th><th scope=col>&lt;int&gt;</th><th scope=col>&lt;dbl&gt;</th></tr>\n",
       "</thead>\n",
       "<tbody>\n",
       "\t<tr><td>casual</td><td>1343098</td><td>0.4096777</td></tr>\n",
       "\t<tr><td>member</td><td>1935328</td><td>0.5903223</td></tr>\n",
       "</tbody>\n",
       "</table>\n"
      ],
      "text/latex": [
       "A tibble: 2 × 3\n",
       "\\begin{tabular}{lll}\n",
       " member\\_casual & trip\\_count & trip\\_perc\\\\\n",
       " <chr> & <int> & <dbl>\\\\\n",
       "\\hline\n",
       "\t casual & 1343098 & 0.4096777\\\\\n",
       "\t member & 1935328 & 0.5903223\\\\\n",
       "\\end{tabular}\n"
      ],
      "text/markdown": [
       "\n",
       "A tibble: 2 × 3\n",
       "\n",
       "| member_casual &lt;chr&gt; | trip_count &lt;int&gt; | trip_perc &lt;dbl&gt; |\n",
       "|---|---|---|\n",
       "| casual | 1343098 | 0.4096777 |\n",
       "| member | 1935328 | 0.5903223 |\n",
       "\n"
      ],
      "text/plain": [
       "  member_casual trip_count trip_perc\n",
       "1 casual        1343098    0.4096777\n",
       "2 member        1935328    0.5903223"
      ]
     },
     "metadata": {},
     "output_type": "display_data"
    }
   ],
   "source": [
    "num_of_trips <- ride_data_clean %>%\n",
    "    select(\n",
    "        ride_id, \n",
    "        member_casual\n",
    "    ) %>%\n",
    "    group_by(member_casual) %>%\n",
    "    summarise(trip_count = n()) %>%\n",
    "    mutate(\n",
    "        trip_perc = trip_count / sum(trip_count)\n",
    "    ) %>%\n",
    "    ungroup()\n",
    "\n",
    "num_of_trips"
   ]
  },
  {
   "cell_type": "markdown",
   "id": "949d3565-7c1f-4016-b7e7-e3b91f9e954c",
   "metadata": {},
   "source": [
    "The number of trips for each user type indicates that members take 59% of the total trips, 18% more than casual users."
   ]
  },
  {
   "cell_type": "code",
   "execution_count": 30,
   "id": "1497e3e5-db09-4465-87eb-972c367b5ab4",
   "metadata": {},
   "outputs": [
    {
     "data": {
      "image/png": "[encoded data removed]",
      "text/plain": [
       "plot without title"
      ]
     },
     "metadata": {
      "image/png": {
       "height": 420,
       "width": 420
      }
     },
     "output_type": "display_data"
    }
   ],
   "source": [
    "ggplot(\n",
    "    num_of_trips,\n",
    "    aes(\n",
    "        x = member_casual,\n",
    "        y = trip_count, \n",
    "        fill = member_casual)\n",
    ") +\n",
    "    geom_bar(stat = \"identity\") +\n",
    "    ggtitle(\"Number of Trips by User Type\")"
   ]
  },
  {
   "cell_type": "markdown",
   "id": "9a60d2b2",
   "metadata": {},
   "source": [
    "### Trip Duration\n",
    "Now lets see which group of users spend the most time riding."
   ]
  },
  {
   "cell_type": "code",
   "execution_count": 31,
   "id": "e274a8fe",
   "metadata": {},
   "outputs": [
    {
     "data": {
      "text/html": [
       "<table class=\"dataframe\">\n",
       "<caption>A tibble: 2 × 3</caption>\n",
       "<thead>\n",
       "\t<tr><th scope=col>member_casual</th><th scope=col>mean_trip_time_minutes</th><th scope=col>median_trip_time_minutes</th></tr>\n",
       "\t<tr><th scope=col>&lt;chr&gt;</th><th scope=col>&lt;dbl&gt;</th><th scope=col>&lt;dbl&gt;</th></tr>\n",
       "</thead>\n",
       "<tbody>\n",
       "\t<tr><td>casual</td><td>34.85772</td><td>21.55000</td></tr>\n",
       "\t<tr><td>member</td><td>15.33231</td><td>11.58333</td></tr>\n",
       "</tbody>\n",
       "</table>\n"
      ],
      "text/latex": [
       "A tibble: 2 × 3\n",
       "\\begin{tabular}{lll}\n",
       " member\\_casual & mean\\_trip\\_time\\_minutes & median\\_trip\\_time\\_minutes\\\\\n",
       " <chr> & <dbl> & <dbl>\\\\\n",
       "\\hline\n",
       "\t casual & 34.85772 & 21.55000\\\\\n",
       "\t member & 15.33231 & 11.58333\\\\\n",
       "\\end{tabular}\n"
      ],
      "text/markdown": [
       "\n",
       "A tibble: 2 × 3\n",
       "\n",
       "| member_casual &lt;chr&gt; | mean_trip_time_minutes &lt;dbl&gt; | median_trip_time_minutes &lt;dbl&gt; |\n",
       "|---|---|---|\n",
       "| casual | 34.85772 | 21.55000 |\n",
       "| member | 15.33231 | 11.58333 |\n",
       "\n"
      ],
      "text/plain": [
       "  member_casual mean_trip_time_minutes median_trip_time_minutes\n",
       "1 casual        34.85772               21.55000                \n",
       "2 member        15.33231               11.58333                "
      ]
     },
     "metadata": {},
     "output_type": "display_data"
    }
   ],
   "source": [
    "riding_time_by_usertype_min <- ride_data_clean %>%\n",
    "    select(\n",
    "        ride_id,\n",
    "        member_casual,\n",
    "        trip_duration_min\n",
    "    )  %>%\n",
    "    group_by(member_casual) %>%\n",
    "    summarise(\n",
    "        mean_trip_time_minutes = mean(trip_duration_min),\n",
    "        median_trip_time_minutes = median(trip_duration_min)\n",
    "    ) %>%\n",
    "    ungroup()\n",
    "\n",
    "riding_time_by_usertype_min"
   ]
  },
  {
   "cell_type": "markdown",
   "id": "7d60ef4c-39c6-49a4-9a15-1961e165d93f",
   "metadata": {},
   "source": [
    "* Members on average ride for 11.45 minutes with a median of 11.55.\n",
    "* Casual users ride for an average of 33.58 minutes with a median of 21.5.\n",
    "\n",
    "So there is a clear difference in trip duration between the user groups, with members taking shorter trips than casual users."
   ]
  },
  {
   "cell_type": "markdown",
   "id": "b6352c91-7f28-439d-ad45-96b6f51d2717",
   "metadata": {},
   "source": [
    "And we can look at the distribution of trip durations (I've limited trip duration to 200 in the graphs below, as the number of trips longer than this is small)."
   ]
  },
  {
   "cell_type": "code",
   "execution_count": 32,
   "id": "05ead69f-b759-4e58-a58e-e11d27df40c0",
   "metadata": {},
   "outputs": [
    {
     "name": "stderr",
     "output_type": "stream",
     "text": [
      "Warning message:\n",
      "\"\u001b[1m\u001b[22mRemoved 13310 rows containing non-finite values (`stat_bin()`).\"\n",
      "Warning message:\n",
      "\"\u001b[1m\u001b[22mRemoved 4 rows containing missing values (`geom_path()`).\"\n"
     ]
    },
    {
     "data": {
      "image/png": "[encoded data removed]",
      "text/plain": [
       "plot without title"
      ]
     },
     "metadata": {
      "image/png": {
       "height": 420,
       "width": 420
      }
     },
     "output_type": "display_data"
    }
   ],
   "source": [
    "ride_data_clean %>%\n",
    "    select(\n",
    "        ride_id, \n",
    "        member_casual,\n",
    "        trip_duration_min\n",
    "    ) %>%\n",
    "ggplot(\n",
    "    aes(\n",
    "        trip_duration_min, \n",
    "        color = member_casual\n",
    "    )\n",
    ") +\n",
    "    geom_freqpoly(binwidth = 1) + \n",
    "    xlim(0, 200) + \n",
    "    ggtitle(\"Member Riding Times\")"
   ]
  },
  {
   "cell_type": "markdown",
   "id": "e0c100cf",
   "metadata": {},
   "source": [
    "### Trip Start Times\n",
    "We can look at what times the two groups start trips. "
   ]
  },
  {
   "cell_type": "code",
   "execution_count": 33,
   "id": "8960d459",
   "metadata": {
    "scrolled": true
   },
   "outputs": [
    {
     "name": "stderr",
     "output_type": "stream",
     "text": [
      "\u001b[1m\u001b[22m`summarise()` has grouped output by 'member_casual'. You can override using the `.groups` argument.\n"
     ]
    }
   ],
   "source": [
    "popular_start_times <- ride_data_clean %>%\n",
    "    select(\n",
    "        member_casual, \n",
    "        started_at\n",
    "    ) %>%\n",
    "    mutate(\n",
    "        start_hour = \n",
    "            format(\n",
    "                as.POSIXct(started_at), \n",
    "                format = \"%H\"\n",
    "            )\n",
    "    ) %>%\n",
    "    group_by(\n",
    "        member_casual,\n",
    "        start_hour\n",
    "    ) %>%\n",
    "    summarise(\n",
    "        num_of_trips = n()\n",
    "    ) %>%\n",
    "    ungroup()"
   ]
  },
  {
   "cell_type": "code",
   "execution_count": 34,
   "id": "af5044ba-0231-433f-a624-039f95326efc",
   "metadata": {},
   "outputs": [
    {
     "data": {
      "image/png": "[encoded data removed]",
      "text/plain": [
       "plot without title"
      ]
     },
     "metadata": {
      "image/png": {
       "height": 420,
       "width": 420
      }
     },
     "output_type": "display_data"
    }
   ],
   "source": [
    "ggplot(\n",
    "    popular_start_times,\n",
    "    aes(\n",
    "        start_hour,\n",
    "        num_of_trips,\n",
    "        fill = member_casual\n",
    "    )\n",
    ") +\n",
    "    geom_bar(\n",
    "        stat = \"identity\", \n",
    "        position = position_dodge()\n",
    "    ) +\n",
    "    ggtitle(\"Popular Trip Start Times\")"
   ]
  },
  {
   "cell_type": "markdown",
   "id": "ad753672-cca9-4599-8198-d1f7c326bee7",
   "metadata": {},
   "source": [
    "There is a difference between the two groups: member usage has peaks aligning with rush hour commuting hours and lunchtime."
   ]
  },
  {
   "cell_type": "markdown",
   "id": "7e03a19d",
   "metadata": {},
   "source": [
    "### Distribution of trips across the data period.\n",
    "We can look at the number of trips across the 12 month data period to see if there is any difference between members and casual users. "
   ]
  },
  {
   "cell_type": "code",
   "execution_count": 35,
   "id": "58634860",
   "metadata": {},
   "outputs": [
    {
     "name": "stderr",
     "output_type": "stream",
     "text": [
      "\u001b[1m\u001b[22m`summarise()` has grouped output by 'member_casual'. You can override using the `.groups` argument.\n"
     ]
    }
   ],
   "source": [
    "trips_per_day <- ride_data_clean %>%\n",
    "    select(\n",
    "        ride_id,\n",
    "        started_at,\n",
    "        member_casual\n",
    "    ) %>%\n",
    "    mutate(\n",
    "        ride_date = as.Date(started_at)\n",
    "    ) %>%\n",
    "    group_by(\n",
    "        member_casual,\n",
    "        ride_date\n",
    "    ) %>%\n",
    "    summarise(\n",
    "        num_of_trips = n()\n",
    "    ) %>%\n",
    "    ungroup()"
   ]
  },
  {
   "cell_type": "code",
   "execution_count": 36,
   "id": "1c6147e7-82c4-4d08-9450-88163eb40264",
   "metadata": {},
   "outputs": [
    {
     "name": "stderr",
     "output_type": "stream",
     "text": [
      "\u001b[1m\u001b[22m`geom_smooth()` using method = 'loess' and formula = 'y ~ x'\n"
     ]
    },
    {
     "data": {
      "image/png": "[encoded data removed]",
      "text/plain": [
       "plot without title"
      ]
     },
     "metadata": {
      "image/png": {
       "height": 420,
       "width": 420
      }
     },
     "output_type": "display_data"
    }
   ],
   "source": [
    "ggplot(\n",
    "    trips_per_day,\n",
    "    aes(\n",
    "        ride_date,\n",
    "        num_of_trips)\n",
    ") +\n",
    "    facet_wrap(~ member_casual) +\n",
    "    geom_line(stat = \"identity\") +\n",
    "    geom_smooth() +\n",
    "    ggtitle(\"Trips Per Day\")"
   ]
  },
  {
   "cell_type": "markdown",
   "id": "98d7b3f7-e40e-4c5a-8a42-bdd7df800965",
   "metadata": {},
   "source": [
    "We can see that there is a seasonal pattern common to both members and casual users, but members are more consistent in their use of the service, whilst casual users shows considerable short-term variation, especially in the summer months, but also around other specific periods."
   ]
  },
  {
   "cell_type": "markdown",
   "id": "37681333",
   "metadata": {},
   "source": [
    "### Distance Between Start and End Stations\n",
    "We can _approximate_ the linear distance between start and end stations as difference of latitude and longitude using the Pythagorean theorem - this is not strictly true on the surface of a sphere but as the distances we are considering are very short in comparison to the size of the Earth the surface can be considered as locally flat. \n",
    "\n",
    "If we multiply the result by 111139 we get the straight line distance in metres and dividing that by 1000 gives us the distance in kilometres. So we can just multiply by 111.139 to directly get the distance in kilometres. \n",
    "\n",
    "Lets add this to the data as a column. We need to remember that this is the distance between start and end stations, not the actual distance the users travelled."
   ]
  },
  {
   "cell_type": "code",
   "execution_count": 37,
   "id": "60253def",
   "metadata": {},
   "outputs": [],
   "source": [
    "ride_data_clean <- ride_data_clean %>%\n",
    "    mutate(\n",
    "        straight_line_distance_km =\n",
    "            (sqrt(\n",
    "                (start_lat - end_lat)^2 +\n",
    "                (start_lng - end_lng)^2\n",
    "                ) \n",
    "                * 111.139\n",
    "            )\n",
    "    )"
   ]
  },
  {
   "cell_type": "markdown",
   "id": "9ce1e243",
   "metadata": {},
   "source": [
    "Now lets look at the differences in straight line distance between the two user types."
   ]
  },
  {
   "cell_type": "code",
   "execution_count": 38,
   "id": "f832cf7a",
   "metadata": {
    "scrolled": true
   },
   "outputs": [
    {
     "data": {
      "text/html": [
       "<table class=\"dataframe\">\n",
       "<caption>A tibble: 2 × 3</caption>\n",
       "<thead>\n",
       "\t<tr><th scope=col>member_casual</th><th scope=col>mean_trip_distance_km</th><th scope=col>median_trip_distance_km</th></tr>\n",
       "\t<tr><th scope=col>&lt;chr&gt;</th><th scope=col>&lt;dbl&gt;</th><th scope=col>&lt;dbl&gt;</th></tr>\n",
       "</thead>\n",
       "<tbody>\n",
       "\t<tr><td>casual</td><td>2.407748</td><td>1.882123</td></tr>\n",
       "\t<tr><td>member</td><td>2.534344</td><td>1.977223</td></tr>\n",
       "</tbody>\n",
       "</table>\n"
      ],
      "text/latex": [
       "A tibble: 2 × 3\n",
       "\\begin{tabular}{lll}\n",
       " member\\_casual & mean\\_trip\\_distance\\_km & median\\_trip\\_distance\\_km\\\\\n",
       " <chr> & <dbl> & <dbl>\\\\\n",
       "\\hline\n",
       "\t casual & 2.407748 & 1.882123\\\\\n",
       "\t member & 2.534344 & 1.977223\\\\\n",
       "\\end{tabular}\n"
      ],
      "text/markdown": [
       "\n",
       "A tibble: 2 × 3\n",
       "\n",
       "| member_casual &lt;chr&gt; | mean_trip_distance_km &lt;dbl&gt; | median_trip_distance_km &lt;dbl&gt; |\n",
       "|---|---|---|\n",
       "| casual | 2.407748 | 1.882123 |\n",
       "| member | 2.534344 | 1.977223 |\n",
       "\n"
      ],
      "text/plain": [
       "  member_casual mean_trip_distance_km median_trip_distance_km\n",
       "1 casual        2.407748              1.882123               \n",
       "2 member        2.534344              1.977223               "
      ]
     },
     "metadata": {},
     "output_type": "display_data"
    }
   ],
   "source": [
    "distance_by_usertype <- ride_data_clean %>%\n",
    "    group_by(member_casual) %>%\n",
    "    summarise(\n",
    "        mean_trip_distance_km = mean(straight_line_distance_km),\n",
    "        median_trip_distance_km = median(straight_line_distance_km)\n",
    "    ) %>%\n",
    "    ungroup()\n",
    "\n",
    "distance_by_usertype"
   ]
  },
  {
   "cell_type": "markdown",
   "id": "da304ab3-e1ec-4482-a477-13fef4614a49",
   "metadata": {},
   "source": [
    "There only seems to be a small difference between members and casual users."
   ]
  },
  {
   "cell_type": "code",
   "execution_count": 39,
   "id": "7484225b-507b-4987-9b1f-23439b17a6d2",
   "metadata": {},
   "outputs": [
    {
     "data": {
      "image/png": "[encoded data removed]",
      "text/plain": [
       "plot without title"
      ]
     },
     "metadata": {
      "image/png": {
       "height": 420,
       "width": 420
      }
     },
     "output_type": "display_data"
    }
   ],
   "source": [
    "ggplot(\n",
    "    distance_by_usertype,\n",
    "    aes(\n",
    "        x = member_casual, \n",
    "        y = mean_trip_distance_km, \n",
    "        fill = member_casual\n",
    "    )\n",
    ") +\n",
    "    geom_bar(stat = \"identity\") +\n",
    "    ggtitle(\"Mean Station To Station Trip Distance\")"
   ]
  },
  {
   "cell_type": "markdown",
   "id": "873a3206-37d8-45af-bfbf-8dd42b651ef9",
   "metadata": {},
   "source": [
    "Lets look at the distribution."
   ]
  },
  {
   "cell_type": "code",
   "execution_count": 40,
   "id": "62cfa39b-7128-4722-9199-e2b14b13fa73",
   "metadata": {},
   "outputs": [],
   "source": [
    "trips_by_distance <- ride_data_clean %>%\n",
    "    select(\n",
    "        ride_id, \n",
    "        member_casual, \n",
    "        straight_line_distance_km)"
   ]
  },
  {
   "cell_type": "code",
   "execution_count": 41,
   "id": "df28a035-2d4a-4de8-b525-57069b6e7663",
   "metadata": {},
   "outputs": [
    {
     "name": "stderr",
     "output_type": "stream",
     "text": [
      "Warning message:\n",
      "\"\u001b[1m\u001b[22mRemoved 2806 rows containing non-finite values (`stat_bin()`).\"\n",
      "Warning message:\n",
      "\"\u001b[1m\u001b[22mRemoved 4 rows containing missing values (`geom_path()`).\"\n"
     ]
    },
    {
     "data": {
      "image/png": "[encoded data removed]",
      "text/plain": [
       "plot without title"
      ]
     },
     "metadata": {
      "image/png": {
       "height": 420,
       "width": 420
      }
     },
     "output_type": "display_data"
    }
   ],
   "source": [
    "ggplot(\n",
    "    trips_by_distance, \n",
    "    aes(\n",
    "        x = straight_line_distance_km, \n",
    "        color = member_casual)\n",
    ") +\n",
    "    geom_freqpoly(binwidth = 1) +\n",
    "    xlim(0, 15) + \n",
    "    ggtitle(\"Number of Trips by Distance\")"
   ]
  },
  {
   "cell_type": "markdown",
   "id": "50b3e7ab-8775-4a16-9150-e939f53d14b0",
   "metadata": {},
   "source": [
    "There are some differences in the distribution of trips. "
   ]
  },
  {
   "cell_type": "markdown",
   "id": "2ec518d2",
   "metadata": {},
   "source": [
    "### Riding Speed\n",
    "Lets also work out how fast each rider would have to be travelling in km/h to cover the distance between start and end stations in the riding time, if they were travelling point-to-point. \n",
    "\n",
    "Lets add that as a variable."
   ]
  },
  {
   "cell_type": "code",
   "execution_count": 42,
   "id": "89088c6f",
   "metadata": {},
   "outputs": [],
   "source": [
    "ride_data_clean <- ride_data_clean %>%\n",
    "    mutate(\n",
    "        speed_kmh = (\n",
    "            straight_line_distance_km\n",
    "            / (as.numeric(trip_duration_min) \n",
    "            / 60)\n",
    "        )\n",
    "    )"
   ]
  },
  {
   "cell_type": "markdown",
   "id": "fa85bb6e",
   "metadata": {},
   "source": [
    "The very best cyclists might be able to ride at a maximum of 40km/h in perfect conditions. So lets count how many observations exceed 40km/h."
   ]
  },
  {
   "cell_type": "code",
   "execution_count": 43,
   "id": "6abbce63",
   "metadata": {},
   "outputs": [
    {
     "data": {
      "text/html": [
       "1604"
      ],
      "text/latex": [
       "1604"
      ],
      "text/markdown": [
       "1604"
      ],
      "text/plain": [
       "[1] 1604"
      ]
     },
     "metadata": {},
     "output_type": "display_data"
    }
   ],
   "source": [
    "nrow(\n",
    "    ride_data_clean %>%\n",
    "    filter(\n",
    "        speed_kmh > 40\n",
    "    )\n",
    ")"
   ]
  },
  {
   "cell_type": "markdown",
   "id": "ce3e49ae",
   "metadata": {},
   "source": [
    "The number of anomalies is small, but lets remove them from the data."
   ]
  },
  {
   "cell_type": "code",
   "execution_count": 44,
   "id": "5a89d2f6",
   "metadata": {},
   "outputs": [],
   "source": [
    "ride_data_clean <- ride_data_clean %>%\n",
    "    filter(\n",
    "        !(speed_kmh > 40)\n",
    "    )"
   ]
  },
  {
   "cell_type": "markdown",
   "id": "a5c07d68",
   "metadata": {},
   "source": [
    "And we can compare the average speeds of the two user groups."
   ]
  },
  {
   "cell_type": "code",
   "execution_count": 45,
   "id": "0711ac36",
   "metadata": {
    "scrolled": true
   },
   "outputs": [
    {
     "data": {
      "text/html": [
       "<table class=\"dataframe\">\n",
       "<caption>A tibble: 2 × 3</caption>\n",
       "<thead>\n",
       "\t<tr><th scope=col>member_casual</th><th scope=col>mean_speed_kmh</th><th scope=col>median_speed_kmh</th></tr>\n",
       "\t<tr><th scope=col>&lt;chr&gt;</th><th scope=col>&lt;dbl&gt;</th><th scope=col>&lt;dbl&gt;</th></tr>\n",
       "</thead>\n",
       "<tbody>\n",
       "\t<tr><td>casual</td><td> 7.471261</td><td> 7.934018</td></tr>\n",
       "\t<tr><td>member</td><td>11.360207</td><td>11.792513</td></tr>\n",
       "</tbody>\n",
       "</table>\n"
      ],
      "text/latex": [
       "A tibble: 2 × 3\n",
       "\\begin{tabular}{lll}\n",
       " member\\_casual & mean\\_speed\\_kmh & median\\_speed\\_kmh\\\\\n",
       " <chr> & <dbl> & <dbl>\\\\\n",
       "\\hline\n",
       "\t casual &  7.471261 &  7.934018\\\\\n",
       "\t member & 11.360207 & 11.792513\\\\\n",
       "\\end{tabular}\n"
      ],
      "text/markdown": [
       "\n",
       "A tibble: 2 × 3\n",
       "\n",
       "| member_casual &lt;chr&gt; | mean_speed_kmh &lt;dbl&gt; | median_speed_kmh &lt;dbl&gt; |\n",
       "|---|---|---|\n",
       "| casual |  7.471261 |  7.934018 |\n",
       "| member | 11.360207 | 11.792513 |\n",
       "\n"
      ],
      "text/plain": [
       "  member_casual mean_speed_kmh median_speed_kmh\n",
       "1 casual         7.471261       7.934018       \n",
       "2 member        11.360207      11.792513       "
      ]
     },
     "metadata": {},
     "output_type": "display_data"
    }
   ],
   "source": [
    "speed_kmh_by_usertype <- ride_data_clean %>%\n",
    "    group_by(member_casual) %>%\n",
    "    summarise(\n",
    "        mean_speed_kmh = mean(speed_kmh),\n",
    "        median_speed_kmh = median(speed_kmh)\n",
    "    ) %>%\n",
    "    ungroup()\n",
    "\n",
    "speed_kmh_by_usertype"
   ]
  },
  {
   "cell_type": "markdown",
   "id": "f1170c96-8512-451d-83dd-171946739f9e",
   "metadata": {},
   "source": [
    "Members seem to cycle much faster than casual users. "
   ]
  },
  {
   "cell_type": "code",
   "execution_count": 46,
   "id": "4661ff52-b627-499f-a02c-1cf78b90f4b9",
   "metadata": {},
   "outputs": [
    {
     "data": {
      "image/png": "[encoded data removed]",
      "text/plain": [
       "plot without title"
      ]
     },
     "metadata": {
      "image/png": {
       "height": 420,
       "width": 420
      }
     },
     "output_type": "display_data"
    }
   ],
   "source": [
    "ggplot(\n",
    "    speed_kmh_by_usertype,\n",
    "    aes(\n",
    "        x = member_casual, \n",
    "        y = mean_speed_kmh, \n",
    "        fill = member_casual\n",
    "    )\n",
    ") +\n",
    "    geom_bar(stat = \"identity\") +\n",
    "    ggtitle(\"Mean Station To Station Trip Speed\")"
   ]
  },
  {
   "cell_type": "code",
   "execution_count": 47,
   "id": "b2f7d5d3-c548-4c99-86bc-039a4a0d1d49",
   "metadata": {},
   "outputs": [],
   "source": [
    "speed_trips_by_usertype <- ride_data_clean %>%\n",
    "    select(\n",
    "        ride_id, \n",
    "        speed_kmh,\n",
    "        member_casual\n",
    "    )"
   ]
  },
  {
   "cell_type": "code",
   "execution_count": 48,
   "id": "af959ad7-0609-411a-bd39-a987b3b3da3c",
   "metadata": {},
   "outputs": [
    {
     "name": "stderr",
     "output_type": "stream",
     "text": [
      "Warning message:\n",
      "\"\u001b[1m\u001b[22mRemoved 4 rows containing missing values (`geom_path()`).\"\n"
     ]
    },
    {
     "data": {
      "image/png": "[encoded data removed]",
      "text/plain": [
       "plot without title"
      ]
     },
     "metadata": {
      "image/png": {
       "height": 420,
       "width": 420
      }
     },
     "output_type": "display_data"
    }
   ],
   "source": [
    "ggplot(\n",
    "    speed_trips_by_usertype, \n",
    "    aes(\n",
    "        x = speed_kmh, \n",
    "        color = member_casual\n",
    "    )\n",
    ") +\n",
    "    geom_freqpoly(binwidth = 1) + \n",
    "    xlim(0, 40) + \n",
    "    ggtitle(\"Trips by Speed\")"
   ]
  },
  {
   "cell_type": "markdown",
   "id": "6bc3a2c7",
   "metadata": {},
   "source": [
    "### Geographical Clustering\n",
    "We can look at the coordinates members and casual users start their journeys at. In future, we could plot these coordinates on a map of Chicago to see exactly which districts and neibourhoods each group preferred, but for now we will just examine whether there is in fact a geographical preference difference between members and casual users.\n",
    "\n",
    "We have far too many observations to plot all of them, so we will plot a random sample of 100,000 of each user type."
   ]
  },
  {
   "cell_type": "code",
   "execution_count": 49,
   "id": "0b471866",
   "metadata": {
    "scrolled": true
   },
   "outputs": [],
   "source": [
    "geographical_sample_members <- ride_data_clean %>%\n",
    "    filter(\n",
    "        member_casual == \"member\" &\n",
    "        start_lat > 41.8 &\n",
    "        start_lat < 42.1 &\n",
    "        start_lng < 87.75\n",
    "    ) %>%\n",
    "    select(\n",
    "        ride_id, \n",
    "        member_casual,\n",
    "        start_lat,\n",
    "        start_lng\n",
    "    ) %>%\n",
    "    sample_n(100000)\n",
    "\n",
    "geographical_sample_casual <- ride_data_clean %>%\n",
    "    filter(\n",
    "        member_casual == \"casual\"  &\n",
    "        start_lat > 41.8 &\n",
    "        start_lat < 42.1 &\n",
    "        start_lng < 87.70\n",
    "    ) %>%\n",
    "    select(\n",
    "        ride_id, \n",
    "        member_casual, \n",
    "        start_lat, \n",
    "        start_lng\n",
    "    ) %>%\n",
    "    sample_n(100000)\n",
    "\n",
    "geographical_sample_all <-\n",
    "    rbind(\n",
    "        geographical_sample_members,\n",
    "        geographical_sample_casual\n",
    "    )"
   ]
  },
  {
   "cell_type": "code",
   "execution_count": 50,
   "id": "f7819299-4b6d-4597-9fc0-b422531821d3",
   "metadata": {},
   "outputs": [
    {
     "name": "stderr",
     "output_type": "stream",
     "text": [
      "Warning message:\n",
      "\"\u001b[1m\u001b[22mRemoved 6358 rows containing non-finite values (`stat_density2d_filled()`).\"\n"
     ]
    },
    {
     "data": {
      "image/png": "[encoded data removed]",
      "text/plain": [
       "plot without title"
      ]
     },
     "metadata": {
      "image/png": {
       "height": 420,
       "width": 420
      }
     },
     "output_type": "display_data"
    }
   ],
   "source": [
    "ggplot(\n",
    "    geographical_sample_all, \n",
    "    aes(\n",
    "        start_lat, \n",
    "        start_lng\n",
    "    )\n",
    ") +\n",
    "    facet_wrap(~ member_casual) +\n",
    "    geom_density_2d_filled() +\n",
    "    ylim(-87.70, -87.60) +\n",
    "    ggtitle(\"Random Sample - n = 100,000 members, n = 100,000 casual users\")"
   ]
  },
  {
   "cell_type": "markdown",
   "id": "dee4afe6-65d1-423f-aae4-100bdd8a24b6",
   "metadata": {},
   "source": [
    "We can see that there is a clear difference between the two groups: casual use peaks in a small area; member use is more geographically spread out. "
   ]
  },
  {
   "cell_type": "markdown",
   "id": "cc94580c-80c9-472c-8666-ae7dfa00354e",
   "metadata": {},
   "source": [
    "## Conclusions\n",
    "\n",
    "We have found several clear indicators of differences between cycle hire usage of casual users and members. Further investigation along these lines could provide input to a marketing campaign. There are of course other differences we could also examine. "
   ]
  }
 ],
 "metadata": {
  "kernelspec": {
   "display_name": "R",
   "language": "R",
   "name": "ir"
  },
  "language_info": {
   "codemirror_mode": "r",
   "file_extension": ".r",
   "mimetype": "text/x-r-source",
   "name": "R",
   "pygments_lexer": "r",
   "version": "4.2.2"
  }
 },
 "nbformat": 4,
 "nbformat_minor": 5
}
