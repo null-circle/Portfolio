{
 "cells": [
  {
   "cell_type": "markdown",
   "id": "b42c94ae",
   "metadata": {},
   "source": [
    "# Ages of Summer Olympic Games Athletes\n",
    "\n",
    "#### A study of mean ages of Olympic athletes competing from 1896 to 2020. \n",
    "Author: Mark Richards (mark.thomas.richards@outlook.com)\n",
    "\n",
    "- Data Source: https://www.kaggle.com/datasets/nitishsharma01/olympics-124-years-datasettill-2020\n",
    "- Data Source License: CC0: Public Domain"
   ]
  },
  {
   "cell_type": "code",
   "execution_count": 1,
   "id": "0f2f1df5",
   "metadata": {},
   "outputs": [],
   "source": [
    "import pandas as pd\n",
    "import matplotlib.pyplot as plt"
   ]
  },
  {
   "cell_type": "code",
   "execution_count": 2,
   "id": "a2ef8c32",
   "metadata": {},
   "outputs": [],
   "source": [
    "plt.style.use(\"seaborn-darkgrid\")"
   ]
  },
  {
   "cell_type": "code",
   "execution_count": 3,
   "id": "35c22a40",
   "metadata": {},
   "outputs": [],
   "source": [
    "df_olympics_raw = pd.read_csv(\"Athletes_summer_games.csv\")"
   ]
  },
  {
   "cell_type": "markdown",
   "id": "add388fe",
   "metadata": {},
   "source": [
    "## Business Task\n",
    "\n",
    "The questions I'd like to address revolve around the __age__ of the athletes:\n",
    "\n",
    "- Is there any change in the mean age of male and female competitors over the 124 years the data covers?\n",
    "- Is there any change in the mean age of male and female medal winners over the same period?"
   ]
  },
  {
   "cell_type": "markdown",
   "id": "a2f56e94",
   "metadata": {},
   "source": [
    "## Cleaning"
   ]
  },
  {
   "cell_type": "code",
   "execution_count": 4,
   "id": "62cb62e3",
   "metadata": {},
   "outputs": [
    {
     "name": "stdout",
     "output_type": "stream",
     "text": [
      "<class 'pandas.core.frame.DataFrame'>\n",
      "RangeIndex: 237673 entries, 0 to 237672\n",
      "Data columns (total 13 columns):\n",
      " #   Column      Non-Null Count   Dtype  \n",
      "---  ------      --------------   -----  \n",
      " 0   Unnamed: 0  237673 non-null  int64  \n",
      " 1   Name        237673 non-null  object \n",
      " 2   Sex         237673 non-null  object \n",
      " 3   Age         228484 non-null  float64\n",
      " 4   Team        237673 non-null  object \n",
      " 5   NOC         237673 non-null  object \n",
      " 6   Games       237673 non-null  object \n",
      " 7   Year        237673 non-null  int64  \n",
      " 8   Season      237673 non-null  object \n",
      " 9   City        237673 non-null  object \n",
      " 10  Sport       237673 non-null  object \n",
      " 11  Event       237673 non-null  object \n",
      " 12  Medal       36537 non-null   object \n",
      "dtypes: float64(1), int64(2), object(10)\n",
      "memory usage: 23.6+ MB\n"
     ]
    },
    {
     "data": {
      "text/html": [
       "<div>\n",
       "<style scoped>\n",
       "    .dataframe tbody tr th:only-of-type {\n",
       "        vertical-align: middle;\n",
       "    }\n",
       "\n",
       "    .dataframe tbody tr th {\n",
       "        vertical-align: top;\n",
       "    }\n",
       "\n",
       "    .dataframe thead th {\n",
       "        text-align: right;\n",
       "    }\n",
       "</style>\n",
       "<table border=\"1\" class=\"dataframe\">\n",
       "  <thead>\n",
       "    <tr style=\"text-align: right;\">\n",
       "      <th></th>\n",
       "      <th>Unnamed: 0</th>\n",
       "      <th>Name</th>\n",
       "      <th>Sex</th>\n",
       "      <th>Age</th>\n",
       "      <th>Team</th>\n",
       "      <th>NOC</th>\n",
       "      <th>Games</th>\n",
       "      <th>Year</th>\n",
       "      <th>Season</th>\n",
       "      <th>City</th>\n",
       "      <th>Sport</th>\n",
       "      <th>Event</th>\n",
       "      <th>Medal</th>\n",
       "    </tr>\n",
       "  </thead>\n",
       "  <tbody>\n",
       "    <tr>\n",
       "      <th>0</th>\n",
       "      <td>0</td>\n",
       "      <td>A Dijiang</td>\n",
       "      <td>M</td>\n",
       "      <td>24.0</td>\n",
       "      <td>China</td>\n",
       "      <td>CHN</td>\n",
       "      <td>1992 Summer</td>\n",
       "      <td>1992</td>\n",
       "      <td>Summer</td>\n",
       "      <td>Barcelona</td>\n",
       "      <td>Basketball</td>\n",
       "      <td>Basketball Men's Basketball</td>\n",
       "      <td>NaN</td>\n",
       "    </tr>\n",
       "    <tr>\n",
       "      <th>1</th>\n",
       "      <td>1</td>\n",
       "      <td>A Lamusi</td>\n",
       "      <td>M</td>\n",
       "      <td>23.0</td>\n",
       "      <td>China</td>\n",
       "      <td>CHN</td>\n",
       "      <td>2012 Summer</td>\n",
       "      <td>2012</td>\n",
       "      <td>Summer</td>\n",
       "      <td>London</td>\n",
       "      <td>Judo</td>\n",
       "      <td>Judo Men's Extra-Lightweight</td>\n",
       "      <td>NaN</td>\n",
       "    </tr>\n",
       "    <tr>\n",
       "      <th>2</th>\n",
       "      <td>2</td>\n",
       "      <td>Gunnar Nielsen Aaby</td>\n",
       "      <td>M</td>\n",
       "      <td>24.0</td>\n",
       "      <td>Denmark</td>\n",
       "      <td>DEN</td>\n",
       "      <td>1920 Summer</td>\n",
       "      <td>1920</td>\n",
       "      <td>Summer</td>\n",
       "      <td>Antwerpen</td>\n",
       "      <td>Football</td>\n",
       "      <td>Football Men's Football</td>\n",
       "      <td>NaN</td>\n",
       "    </tr>\n",
       "    <tr>\n",
       "      <th>3</th>\n",
       "      <td>3</td>\n",
       "      <td>Edgar Lindenau Aabye</td>\n",
       "      <td>M</td>\n",
       "      <td>34.0</td>\n",
       "      <td>Denmark/Sweden</td>\n",
       "      <td>DEN</td>\n",
       "      <td>1900 Summer</td>\n",
       "      <td>1900</td>\n",
       "      <td>Summer</td>\n",
       "      <td>Paris</td>\n",
       "      <td>Tug-Of-War</td>\n",
       "      <td>Tug-Of-War Men's Tug-Of-War</td>\n",
       "      <td>Gold</td>\n",
       "    </tr>\n",
       "    <tr>\n",
       "      <th>4</th>\n",
       "      <td>26</td>\n",
       "      <td>Cornelia \"Cor\" Aalten (-Strannood)</td>\n",
       "      <td>F</td>\n",
       "      <td>18.0</td>\n",
       "      <td>Netherlands</td>\n",
       "      <td>NED</td>\n",
       "      <td>1932 Summer</td>\n",
       "      <td>1932</td>\n",
       "      <td>Summer</td>\n",
       "      <td>Los Angeles</td>\n",
       "      <td>Athletics</td>\n",
       "      <td>Athletics Women's 100 metres</td>\n",
       "      <td>NaN</td>\n",
       "    </tr>\n",
       "  </tbody>\n",
       "</table>\n",
       "</div>"
      ],
      "text/plain": [
       "   Unnamed: 0                                Name Sex   Age            Team  \\\n",
       "0           0                           A Dijiang   M  24.0           China   \n",
       "1           1                            A Lamusi   M  23.0           China   \n",
       "2           2                 Gunnar Nielsen Aaby   M  24.0         Denmark   \n",
       "3           3                Edgar Lindenau Aabye   M  34.0  Denmark/Sweden   \n",
       "4          26  Cornelia \"Cor\" Aalten (-Strannood)   F  18.0     Netherlands   \n",
       "\n",
       "   NOC        Games  Year  Season         City       Sport  \\\n",
       "0  CHN  1992 Summer  1992  Summer    Barcelona  Basketball   \n",
       "1  CHN  2012 Summer  2012  Summer       London        Judo   \n",
       "2  DEN  1920 Summer  1920  Summer    Antwerpen    Football   \n",
       "3  DEN  1900 Summer  1900  Summer        Paris  Tug-Of-War   \n",
       "4  NED  1932 Summer  1932  Summer  Los Angeles   Athletics   \n",
       "\n",
       "                          Event Medal  \n",
       "0   Basketball Men's Basketball   NaN  \n",
       "1  Judo Men's Extra-Lightweight   NaN  \n",
       "2       Football Men's Football   NaN  \n",
       "3   Tug-Of-War Men's Tug-Of-War  Gold  \n",
       "4  Athletics Women's 100 metres   NaN  "
      ]
     },
     "execution_count": 4,
     "metadata": {},
     "output_type": "execute_result"
    }
   ],
   "source": [
    "# Lets have a look at the data\n",
    "df_olympics_raw.info(verbose=True)\n",
    "df_olympics_raw.head()"
   ]
  },
  {
   "cell_type": "markdown",
   "id": "ab4b9f9b",
   "metadata": {},
   "source": [
    "There are 237673 rows and we can see immediately that __9189 rows do not have an age__ (which is why this column is dtype float64 not int64, as int64 does not support NaN values). \n",
    "\n",
    "Since we need the age field for our analysis we seem to have little choice but to drop these rows, but before we do that we need to consider if there is any systematic reason age was not recorded: perhaps the earlier games did not record the age of their competitors? If so we may need to change the timeframe of the analysis. Lets check."
   ]
  },
  {
   "cell_type": "code",
   "execution_count": 5,
   "id": "d7e98fd2",
   "metadata": {},
   "outputs": [
    {
     "data": {
      "image/png": "[encoded data removed]",
      "text/plain": [
       "<Figure size 640x480 with 1 Axes>"
      ]
     },
     "metadata": {},
     "output_type": "display_data"
    }
   ],
   "source": [
    "ch_bar_athletes_without_age = (\n",
    "    df_olympics_raw\n",
    "     .loc[df_olympics_raw[\"Age\"].isna()]\n",
    "     .loc[:,\"Year\"]\n",
    "     .plot(\n",
    "         kind=\"hist\",\n",
    "         bins=124,\n",
    "         title=\"Number of Athletes Without Recorded Age\")\n",
    ")"
   ]
  },
  {
   "cell_type": "markdown",
   "id": "7eb1f7dd",
   "metadata": {},
   "source": [
    "It's not so clear cut: there are several specific Olympic games with higher rates of missing age data, so we cannot simply move the timeframe. We will have to exclude the rows, as we have no easy way to get the missing data (other than by looking up the dates of birth of the athletes and calculating their ages when competing). We would need to make this point if we were presenting this analysis."
   ]
  },
  {
   "cell_type": "markdown",
   "id": "3218ebb3",
   "metadata": {},
   "source": [
    "We also need to check for __consistency of the age column__ in case there are any value errors which may skew any mean we calculate. "
   ]
  },
  {
   "cell_type": "code",
   "execution_count": 6,
   "id": "4d98d804",
   "metadata": {},
   "outputs": [
    {
     "data": {
      "text/plain": [
       "count    228484.000000\n",
       "mean         25.746267\n",
       "std           6.638720\n",
       "min          10.000000\n",
       "25%          21.000000\n",
       "50%          25.000000\n",
       "75%          29.000000\n",
       "max          97.000000\n",
       "Name: Age, dtype: float64"
      ]
     },
     "execution_count": 6,
     "metadata": {},
     "output_type": "execute_result"
    }
   ],
   "source": [
    "(df_olympics_raw\n",
    "    .loc[:, \"Age\"]\n",
    "    .describe()\n",
    ")"
   ]
  },
  {
   "cell_type": "markdown",
   "id": "27a1afec",
   "metadata": {},
   "source": [
    "We seem to have children as young as 10 and people as old as 97 competing. Lets see how many of these outliers exist."
   ]
  },
  {
   "cell_type": "code",
   "execution_count": 7,
   "id": "442d8120",
   "metadata": {},
   "outputs": [
    {
     "data": {
      "text/plain": [
       "10.0       1\n",
       "11.0       6\n",
       "12.0      33\n",
       "13.0     175\n",
       "14.0     793\n",
       "15.0    2066\n",
       "16.0    3499\n",
       "17.0    4715\n",
       "18.0    7081\n",
       "19.0    9944\n",
       "Name: Age, dtype: int64"
      ]
     },
     "execution_count": 7,
     "metadata": {},
     "output_type": "execute_result"
    }
   ],
   "source": [
    "s_competitor_ages = (\n",
    "    df_olympics_raw\n",
    "    .loc[:, \"Age\"]\n",
    "    .value_counts()\n",
    "    .sort_index()\n",
    ")\n",
    "\n",
    "s_competitor_ages.head(10)"
   ]
  },
  {
   "cell_type": "code",
   "execution_count": 8,
   "id": "f8f2ecb8",
   "metadata": {},
   "outputs": [
    {
     "data": {
      "text/plain": [
       "74.0    12\n",
       "75.0     4\n",
       "76.0     7\n",
       "77.0     2\n",
       "80.0     3\n",
       "81.0     2\n",
       "84.0     1\n",
       "88.0     3\n",
       "96.0     1\n",
       "97.0     1\n",
       "Name: Age, dtype: int64"
      ]
     },
     "execution_count": 8,
     "metadata": {},
     "output_type": "execute_result"
    }
   ],
   "source": [
    "s_competitor_ages.tail(10)"
   ]
  },
  {
   "cell_type": "markdown",
   "id": "3d9fd41c",
   "metadata": {},
   "source": [
    "Not very many. The problem is that we have no a priori reason to assume these are errors: it is possible the children could be gymnasts, for instance, and the older people could also be valid competitors. \n",
    "\n",
    "In fact if we check the names of some of these competitors online it seems they did compete (and are famous as being the youngest Olympic competitors, for example). So these outliers need to stay."
   ]
  },
  {
   "cell_type": "markdown",
   "id": "feb931ed",
   "metadata": {},
   "source": [
    "We also need to __check the consistency of the medals column__."
   ]
  },
  {
   "cell_type": "code",
   "execution_count": 9,
   "id": "4f5d224d",
   "metadata": {},
   "outputs": [
    {
     "data": {
      "text/plain": [
       "Bronze    12276\n",
       "Gold      12259\n",
       "Silver    12002\n",
       "Name: Medal, dtype: int64"
      ]
     },
     "execution_count": 9,
     "metadata": {},
     "output_type": "execute_result"
    }
   ],
   "source": [
    "(df_olympics_raw\n",
    "    .loc[:, \"Medal\"]\n",
    "    .value_counts()\n",
    ")"
   ]
  },
  {
   "cell_type": "markdown",
   "id": "e136b679",
   "metadata": {},
   "source": [
    "And we only get the expected bronze, silver and gold. But we should replace the NaN values with \"No Medal\" during the cleaning process. \n",
    "\n",
    "Lets also check for __duplicate rows__."
   ]
  },
  {
   "cell_type": "code",
   "execution_count": 10,
   "id": "79592f6e",
   "metadata": {},
   "outputs": [
    {
     "data": {
      "text/plain": [
       "0"
      ]
     },
     "execution_count": 10,
     "metadata": {},
     "output_type": "execute_result"
    }
   ],
   "source": [
    "(df_olympics_raw\n",
    "     .duplicated()\n",
    "     .sum()\n",
    ")"
   ]
  },
  {
   "cell_type": "markdown",
   "id": "28ce5b7f",
   "metadata": {},
   "source": [
    "And there are none."
   ]
  },
  {
   "cell_type": "markdown",
   "id": "cea8f882",
   "metadata": {},
   "source": [
    "__Important Point:__ During our analysis we also need to bear in mind that _the same athlete may have competed in multiple events_. Lets check this."
   ]
  },
  {
   "cell_type": "code",
   "execution_count": 11,
   "id": "49473e78",
   "metadata": {},
   "outputs": [
    {
     "data": {
      "text/plain": [
       "Robert Tait McKenzie        58\n",
       "Heikki Ilmari Savolainen    39\n",
       "Joseph \"Josy\" Stoffel       38\n",
       "Ioannis Theofilakis         36\n",
       "Takashi Ono                 33\n",
       "                            ..\n",
       "Anita Kobu (Nner-)           1\n",
       "Agnieszka Kobus              1\n",
       "Elias Kobti                  1\n",
       "Mary Elizabeth Koboldt       1\n",
       "Panagiotis Manias            1\n",
       "Name: Name, Length: 127751, dtype: int64"
      ]
     },
     "execution_count": 11,
     "metadata": {},
     "output_type": "execute_result"
    }
   ],
   "source": [
    "(df_olympics_raw\n",
    "    .loc[:, \"Name\"]\n",
    "    .value_counts()\n",
    ")"
   ]
  },
  {
   "cell_type": "markdown",
   "id": "7e14b161",
   "metadata": {},
   "source": [
    "And yes, some athletes have competed in many events and so they will be represented in multiple rows of the data. We will need to account for this during our analysis. "
   ]
  },
  {
   "cell_type": "markdown",
   "id": "e0c76322",
   "metadata": {},
   "source": [
    "Lets __define and run our cleaning function__ and then check it has worked correctly."
   ]
  },
  {
   "cell_type": "code",
   "execution_count": 12,
   "id": "c0ff57af",
   "metadata": {},
   "outputs": [],
   "source": [
    "def olympic_cleaning(df):\n",
    "    \"\"\"Clean 'Athletes_summer_games.csv' dataset.\"\"\"\n",
    "    return (\n",
    "        df\n",
    "        .dropna(subset=[\"Age\"])\n",
    "        .fillna(\"No Medal\")     # The only remaining NaN values are in the Medal column\n",
    "    )\n",
    "\n",
    "df_olympics_clean = olympic_cleaning(df_olympics_raw)"
   ]
  },
  {
   "cell_type": "code",
   "execution_count": 13,
   "id": "0870a9fa",
   "metadata": {},
   "outputs": [
    {
     "name": "stdout",
     "output_type": "stream",
     "text": [
      "<class 'pandas.core.frame.DataFrame'>\n",
      "Int64Index: 228484 entries, 0 to 237672\n",
      "Data columns (total 13 columns):\n",
      " #   Column      Non-Null Count   Dtype  \n",
      "---  ------      --------------   -----  \n",
      " 0   Unnamed: 0  228484 non-null  int64  \n",
      " 1   Name        228484 non-null  object \n",
      " 2   Sex         228484 non-null  object \n",
      " 3   Age         228484 non-null  float64\n",
      " 4   Team        228484 non-null  object \n",
      " 5   NOC         228484 non-null  object \n",
      " 6   Games       228484 non-null  object \n",
      " 7   Year        228484 non-null  int64  \n",
      " 8   Season      228484 non-null  object \n",
      " 9   City        228484 non-null  object \n",
      " 10  Sport       228484 non-null  object \n",
      " 11  Event       228484 non-null  object \n",
      " 12  Medal       228484 non-null  object \n",
      "dtypes: float64(1), int64(2), object(10)\n",
      "memory usage: 24.4+ MB\n"
     ]
    },
    {
     "data": {
      "text/html": [
       "<div>\n",
       "<style scoped>\n",
       "    .dataframe tbody tr th:only-of-type {\n",
       "        vertical-align: middle;\n",
       "    }\n",
       "\n",
       "    .dataframe tbody tr th {\n",
       "        vertical-align: top;\n",
       "    }\n",
       "\n",
       "    .dataframe thead th {\n",
       "        text-align: right;\n",
       "    }\n",
       "</style>\n",
       "<table border=\"1\" class=\"dataframe\">\n",
       "  <thead>\n",
       "    <tr style=\"text-align: right;\">\n",
       "      <th></th>\n",
       "      <th>Unnamed: 0</th>\n",
       "      <th>Name</th>\n",
       "      <th>Sex</th>\n",
       "      <th>Age</th>\n",
       "      <th>Team</th>\n",
       "      <th>NOC</th>\n",
       "      <th>Games</th>\n",
       "      <th>Year</th>\n",
       "      <th>Season</th>\n",
       "      <th>City</th>\n",
       "      <th>Sport</th>\n",
       "      <th>Event</th>\n",
       "      <th>Medal</th>\n",
       "    </tr>\n",
       "  </thead>\n",
       "  <tbody>\n",
       "    <tr>\n",
       "      <th>0</th>\n",
       "      <td>0</td>\n",
       "      <td>A Dijiang</td>\n",
       "      <td>M</td>\n",
       "      <td>24.0</td>\n",
       "      <td>China</td>\n",
       "      <td>CHN</td>\n",
       "      <td>1992 Summer</td>\n",
       "      <td>1992</td>\n",
       "      <td>Summer</td>\n",
       "      <td>Barcelona</td>\n",
       "      <td>Basketball</td>\n",
       "      <td>Basketball Men's Basketball</td>\n",
       "      <td>No Medal</td>\n",
       "    </tr>\n",
       "    <tr>\n",
       "      <th>1</th>\n",
       "      <td>1</td>\n",
       "      <td>A Lamusi</td>\n",
       "      <td>M</td>\n",
       "      <td>23.0</td>\n",
       "      <td>China</td>\n",
       "      <td>CHN</td>\n",
       "      <td>2012 Summer</td>\n",
       "      <td>2012</td>\n",
       "      <td>Summer</td>\n",
       "      <td>London</td>\n",
       "      <td>Judo</td>\n",
       "      <td>Judo Men's Extra-Lightweight</td>\n",
       "      <td>No Medal</td>\n",
       "    </tr>\n",
       "    <tr>\n",
       "      <th>2</th>\n",
       "      <td>2</td>\n",
       "      <td>Gunnar Nielsen Aaby</td>\n",
       "      <td>M</td>\n",
       "      <td>24.0</td>\n",
       "      <td>Denmark</td>\n",
       "      <td>DEN</td>\n",
       "      <td>1920 Summer</td>\n",
       "      <td>1920</td>\n",
       "      <td>Summer</td>\n",
       "      <td>Antwerpen</td>\n",
       "      <td>Football</td>\n",
       "      <td>Football Men's Football</td>\n",
       "      <td>No Medal</td>\n",
       "    </tr>\n",
       "    <tr>\n",
       "      <th>3</th>\n",
       "      <td>3</td>\n",
       "      <td>Edgar Lindenau Aabye</td>\n",
       "      <td>M</td>\n",
       "      <td>34.0</td>\n",
       "      <td>Denmark/Sweden</td>\n",
       "      <td>DEN</td>\n",
       "      <td>1900 Summer</td>\n",
       "      <td>1900</td>\n",
       "      <td>Summer</td>\n",
       "      <td>Paris</td>\n",
       "      <td>Tug-Of-War</td>\n",
       "      <td>Tug-Of-War Men's Tug-Of-War</td>\n",
       "      <td>Gold</td>\n",
       "    </tr>\n",
       "    <tr>\n",
       "      <th>4</th>\n",
       "      <td>26</td>\n",
       "      <td>Cornelia \"Cor\" Aalten (-Strannood)</td>\n",
       "      <td>F</td>\n",
       "      <td>18.0</td>\n",
       "      <td>Netherlands</td>\n",
       "      <td>NED</td>\n",
       "      <td>1932 Summer</td>\n",
       "      <td>1932</td>\n",
       "      <td>Summer</td>\n",
       "      <td>Los Angeles</td>\n",
       "      <td>Athletics</td>\n",
       "      <td>Athletics Women's 100 metres</td>\n",
       "      <td>No Medal</td>\n",
       "    </tr>\n",
       "  </tbody>\n",
       "</table>\n",
       "</div>"
      ],
      "text/plain": [
       "   Unnamed: 0                                Name Sex   Age            Team  \\\n",
       "0           0                           A Dijiang   M  24.0           China   \n",
       "1           1                            A Lamusi   M  23.0           China   \n",
       "2           2                 Gunnar Nielsen Aaby   M  24.0         Denmark   \n",
       "3           3                Edgar Lindenau Aabye   M  34.0  Denmark/Sweden   \n",
       "4          26  Cornelia \"Cor\" Aalten (-Strannood)   F  18.0     Netherlands   \n",
       "\n",
       "   NOC        Games  Year  Season         City       Sport  \\\n",
       "0  CHN  1992 Summer  1992  Summer    Barcelona  Basketball   \n",
       "1  CHN  2012 Summer  2012  Summer       London        Judo   \n",
       "2  DEN  1920 Summer  1920  Summer    Antwerpen    Football   \n",
       "3  DEN  1900 Summer  1900  Summer        Paris  Tug-Of-War   \n",
       "4  NED  1932 Summer  1932  Summer  Los Angeles   Athletics   \n",
       "\n",
       "                          Event     Medal  \n",
       "0   Basketball Men's Basketball  No Medal  \n",
       "1  Judo Men's Extra-Lightweight  No Medal  \n",
       "2       Football Men's Football  No Medal  \n",
       "3   Tug-Of-War Men's Tug-Of-War      Gold  \n",
       "4  Athletics Women's 100 metres  No Medal  "
      ]
     },
     "execution_count": 13,
     "metadata": {},
     "output_type": "execute_result"
    }
   ],
   "source": [
    "df_olympics_clean.info(verbose=True)\n",
    "df_olympics_clean.head()"
   ]
  },
  {
   "cell_type": "markdown",
   "id": "7c79a581",
   "metadata": {},
   "source": [
    "And this checks: we have 228484 rows (same as the non-null rows for \"Age\") and no missing values."
   ]
  },
  {
   "cell_type": "markdown",
   "id": "ab7b9f6c",
   "metadata": {},
   "source": [
    "## Analysis"
   ]
  },
  {
   "cell_type": "markdown",
   "id": "71954cc7",
   "metadata": {},
   "source": [
    "The questions we want to answer using this data are:\n",
    "    \n",
    "- Is there any change in the mean age of male and female competitors over the 124 years the data covers?\n",
    "- Is there any change in the mean age of male and female medal winners over the same period?"
   ]
  },
  {
   "cell_type": "markdown",
   "id": "cace6c54",
   "metadata": {},
   "source": [
    "### Mean Age of Male and Female Competitors\n",
    "\n",
    "As mentioned above, we need to account for individual athletes being represented multiple times in the data. \n",
    "\n",
    "We can pivot the data to obtain a list of unique combinations of year, name, age and sex."
   ]
  },
  {
   "cell_type": "code",
   "execution_count": 14,
   "id": "4764eaeb",
   "metadata": {},
   "outputs": [
    {
     "data": {
      "text/html": [
       "<div>\n",
       "<style scoped>\n",
       "    .dataframe tbody tr th:only-of-type {\n",
       "        vertical-align: middle;\n",
       "    }\n",
       "\n",
       "    .dataframe tbody tr th {\n",
       "        vertical-align: top;\n",
       "    }\n",
       "\n",
       "    .dataframe thead th {\n",
       "        text-align: right;\n",
       "    }\n",
       "</style>\n",
       "<table border=\"1\" class=\"dataframe\">\n",
       "  <thead>\n",
       "    <tr style=\"text-align: right;\">\n",
       "      <th></th>\n",
       "      <th>Year</th>\n",
       "      <th>Name</th>\n",
       "      <th>Age</th>\n",
       "      <th>Sex</th>\n",
       "    </tr>\n",
       "  </thead>\n",
       "  <tbody>\n",
       "    <tr>\n",
       "      <th>0</th>\n",
       "      <td>1896</td>\n",
       "      <td>Alajos (Aljoz) Szokoly (-Szokol)</td>\n",
       "      <td>24.0</td>\n",
       "      <td>M</td>\n",
       "    </tr>\n",
       "    <tr>\n",
       "      <th>1</th>\n",
       "      <td>1896</td>\n",
       "      <td>Albert Clinton Tyler</td>\n",
       "      <td>24.0</td>\n",
       "      <td>M</td>\n",
       "    </tr>\n",
       "    <tr>\n",
       "      <th>2</th>\n",
       "      <td>1896</td>\n",
       "      <td>Albin Georges Lermusiaux</td>\n",
       "      <td>21.0</td>\n",
       "      <td>M</td>\n",
       "    </tr>\n",
       "    <tr>\n",
       "      <th>3</th>\n",
       "      <td>1896</td>\n",
       "      <td>Alexander Viggo Jensen</td>\n",
       "      <td>21.0</td>\n",
       "      <td>M</td>\n",
       "    </tr>\n",
       "    <tr>\n",
       "      <th>4</th>\n",
       "      <td>1896</td>\n",
       "      <td>Alfrd (Arnold-) Hajs (Guttmann-)</td>\n",
       "      <td>18.0</td>\n",
       "      <td>M</td>\n",
       "    </tr>\n",
       "  </tbody>\n",
       "</table>\n",
       "</div>"
      ],
      "text/plain": [
       "   Year                              Name   Age Sex\n",
       "0  1896  Alajos (Aljoz) Szokoly (-Szokol)  24.0   M\n",
       "1  1896              Albert Clinton Tyler  24.0   M\n",
       "2  1896          Albin Georges Lermusiaux  21.0   M\n",
       "3  1896            Alexander Viggo Jensen  21.0   M\n",
       "4  1896  Alfrd (Arnold-) Hajs (Guttmann-)  18.0   M"
      ]
     },
     "execution_count": 14,
     "metadata": {},
     "output_type": "execute_result"
    }
   ],
   "source": [
    "df_mean_age_data_all = (\n",
    "    df_olympics_clean\n",
    "    .pivot_table(\n",
    "        index=[\"Year\", \"Name\", \"Age\", \"Sex\"],\n",
    "        )\n",
    "    .drop(\"Unnamed: 0\", axis=1)\n",
    "    .reset_index()\n",
    ")\n",
    "\n",
    "df_mean_age_data_all.head()"
   ]
  },
  {
   "cell_type": "markdown",
   "id": "9e8fd5f9",
   "metadata": {},
   "source": [
    "Now we can split this by gender and group it."
   ]
  },
  {
   "cell_type": "code",
   "execution_count": 15,
   "id": "cb38d9c5",
   "metadata": {},
   "outputs": [
    {
     "data": {
      "text/html": [
       "<div>\n",
       "<style scoped>\n",
       "    .dataframe tbody tr th:only-of-type {\n",
       "        vertical-align: middle;\n",
       "    }\n",
       "\n",
       "    .dataframe tbody tr th {\n",
       "        vertical-align: top;\n",
       "    }\n",
       "\n",
       "    .dataframe thead th {\n",
       "        text-align: right;\n",
       "    }\n",
       "</style>\n",
       "<table border=\"1\" class=\"dataframe\">\n",
       "  <thead>\n",
       "    <tr style=\"text-align: right;\">\n",
       "      <th></th>\n",
       "      <th>Age_Mean_M</th>\n",
       "      <th>Age_Mean_F</th>\n",
       "    </tr>\n",
       "    <tr>\n",
       "      <th>Year</th>\n",
       "      <th></th>\n",
       "      <th></th>\n",
       "    </tr>\n",
       "  </thead>\n",
       "  <tbody>\n",
       "    <tr>\n",
       "      <th>1896</th>\n",
       "      <td>23.138889</td>\n",
       "      <td>NaN</td>\n",
       "    </tr>\n",
       "    <tr>\n",
       "      <th>1900</th>\n",
       "      <td>28.237942</td>\n",
       "      <td>29.4375</td>\n",
       "    </tr>\n",
       "    <tr>\n",
       "      <th>1904</th>\n",
       "      <td>26.629032</td>\n",
       "      <td>48.8000</td>\n",
       "    </tr>\n",
       "    <tr>\n",
       "      <th>1906</th>\n",
       "      <td>25.625641</td>\n",
       "      <td>23.5000</td>\n",
       "    </tr>\n",
       "    <tr>\n",
       "      <th>1908</th>\n",
       "      <td>26.676882</td>\n",
       "      <td>34.5000</td>\n",
       "    </tr>\n",
       "  </tbody>\n",
       "</table>\n",
       "</div>"
      ],
      "text/plain": [
       "      Age_Mean_M  Age_Mean_F\n",
       "Year                        \n",
       "1896   23.138889         NaN\n",
       "1900   28.237942     29.4375\n",
       "1904   26.629032     48.8000\n",
       "1906   25.625641     23.5000\n",
       "1908   26.676882     34.5000"
      ]
     },
     "execution_count": 15,
     "metadata": {},
     "output_type": "execute_result"
    }
   ],
   "source": [
    "def mean_age_by_gender(df, gender):\n",
    "    \"\"\"Selects Sex == gender, groups by year, aggregates by mean.\"\"\"\n",
    "    return (\n",
    "        df\n",
    "        .query(\"Sex == @gender\")\n",
    "        .loc[:, [\"Year\", \"Age\"]]\n",
    "        .groupby(\"Year\")\n",
    "        .agg(\"mean\")\n",
    "    )\n",
    "\n",
    "# male and female mean data\n",
    "df_mean_age_data_male = mean_age_by_gender(df_mean_age_data_all, \"M\")\n",
    "df_mean_age_data_female = mean_age_by_gender(df_mean_age_data_all, \"F\")\n",
    "\n",
    "# combined male and female data on index (Year)\n",
    "df_mean_age_data_combined = df_mean_age_data_male.join(\n",
    "    df_mean_age_data_female,\n",
    "    lsuffix=\"_Mean_M\",\n",
    "    rsuffix=\"_Mean_F\")\n",
    "\n",
    "df_mean_age_data_combined.head()"
   ]
  },
  {
   "cell_type": "markdown",
   "id": "d3cd853c",
   "metadata": {},
   "source": [
    "Lets look at the results."
   ]
  },
  {
   "cell_type": "code",
   "execution_count": 16,
   "id": "073f0e24",
   "metadata": {},
   "outputs": [
    {
     "data": {
      "image/png": "[encoded data removed]",
      "text/plain": [
       "<Figure size 640x480 with 1 Axes>"
      ]
     },
     "metadata": {},
     "output_type": "display_data"
    }
   ],
   "source": [
    "ch_bar_mean_age_data_combined = df_mean_age_data_combined.plot(\n",
    "    kind=\"bar\",\n",
    "    title=\"Mean Ages of Male and Female Competitors\"\n",
    ")"
   ]
  },
  {
   "cell_type": "markdown",
   "id": "af17d0a6",
   "metadata": {},
   "source": [
    "Ignoring the 1896 games (the first games in modern times, so possibly anomalous), for men we see a decline in mean age from 1900 to 1906, then a gradual increase peaking in 1936, followed by another gradual decline reaching a minimum in 1980, then consistently increasing as we approach 2020.\n",
    "\n",
    "The trend for female competitors has a lot of variability in the early games, reaching an all time low in 1912, then increasing up to 1932 before a gradual decline with a minimum in 1968, followed by a consistent gradual increase up to almost parity with male competitors in 2020. \n",
    "\n",
    "It would be interesting to consider why there is a female minimum in 1968 but a male minimum in 1980 - they are out of sync.\n",
    "\n",
    "It seems to be that although female competitors have consistently lower ages than male competitors overall, there is a clear upward trend bringing them together, although the male competitors are also increasing in mean age at the same time. "
   ]
  },
  {
   "cell_type": "code",
   "execution_count": 17,
   "id": "0efa7405",
   "metadata": {},
   "outputs": [
    {
     "data": {
      "image/png": "[encoded data removed]",
      "text/plain": [
       "<Figure size 640x480 with 1 Axes>"
      ]
     },
     "metadata": {},
     "output_type": "display_data"
    }
   ],
   "source": [
    "ch_box_mean_age_data_combined = df_mean_age_data_combined.plot(\n",
    "    kind=\"box\",\n",
    "    title=\"Mean Ages of Male and Female Competitors\"\n",
    ")"
   ]
  },
  {
   "cell_type": "code",
   "execution_count": 18,
   "id": "1f00f36b",
   "metadata": {},
   "outputs": [
    {
     "data": {
      "text/html": [
       "<div>\n",
       "<style scoped>\n",
       "    .dataframe tbody tr th:only-of-type {\n",
       "        vertical-align: middle;\n",
       "    }\n",
       "\n",
       "    .dataframe tbody tr th {\n",
       "        vertical-align: top;\n",
       "    }\n",
       "\n",
       "    .dataframe thead th {\n",
       "        text-align: right;\n",
       "    }\n",
       "</style>\n",
       "<table border=\"1\" class=\"dataframe\">\n",
       "  <thead>\n",
       "    <tr style=\"text-align: right;\">\n",
       "      <th></th>\n",
       "      <th>Age_Mean_M</th>\n",
       "      <th>Age_Mean_F</th>\n",
       "    </tr>\n",
       "  </thead>\n",
       "  <tbody>\n",
       "    <tr>\n",
       "      <th>count</th>\n",
       "      <td>30.000000</td>\n",
       "      <td>29.000000</td>\n",
       "    </tr>\n",
       "    <tr>\n",
       "      <th>mean</th>\n",
       "      <td>26.662363</td>\n",
       "      <td>25.339318</td>\n",
       "    </tr>\n",
       "    <tr>\n",
       "      <th>std</th>\n",
       "      <td>1.564981</td>\n",
       "      <td>5.251836</td>\n",
       "    </tr>\n",
       "    <tr>\n",
       "      <th>min</th>\n",
       "      <td>23.138889</td>\n",
       "      <td>21.702046</td>\n",
       "    </tr>\n",
       "    <tr>\n",
       "      <th>25%</th>\n",
       "      <td>25.732378</td>\n",
       "      <td>22.530797</td>\n",
       "    </tr>\n",
       "    <tr>\n",
       "      <th>50%</th>\n",
       "      <td>26.522147</td>\n",
       "      <td>23.928571</td>\n",
       "    </tr>\n",
       "    <tr>\n",
       "      <th>75%</th>\n",
       "      <td>27.318247</td>\n",
       "      <td>25.829060</td>\n",
       "    </tr>\n",
       "    <tr>\n",
       "      <th>max</th>\n",
       "      <td>31.734177</td>\n",
       "      <td>48.800000</td>\n",
       "    </tr>\n",
       "  </tbody>\n",
       "</table>\n",
       "</div>"
      ],
      "text/plain": [
       "       Age_Mean_M  Age_Mean_F\n",
       "count   30.000000   29.000000\n",
       "mean    26.662363   25.339318\n",
       "std      1.564981    5.251836\n",
       "min     23.138889   21.702046\n",
       "25%     25.732378   22.530797\n",
       "50%     26.522147   23.928571\n",
       "75%     27.318247   25.829060\n",
       "max     31.734177   48.800000"
      ]
     },
     "execution_count": 18,
     "metadata": {},
     "output_type": "execute_result"
    }
   ],
   "source": [
    "df_mean_age_data_combined.describe()"
   ]
  },
  {
   "cell_type": "markdown",
   "id": "d8fc8741",
   "metadata": {},
   "source": [
    "Over all the games we can see that the means, IQR and standard deviation of male and female competitors are substantially different. "
   ]
  },
  {
   "cell_type": "markdown",
   "id": "6622facd",
   "metadata": {},
   "source": [
    "## Mean Age of Male and Female Medal Winners"
   ]
  },
  {
   "cell_type": "markdown",
   "id": "7b9893ce",
   "metadata": {},
   "source": [
    "To examine just the medal winners, we need to filter them out from the original data set and then repeat the same analysis."
   ]
  },
  {
   "cell_type": "code",
   "execution_count": 19,
   "id": "ea08b58b",
   "metadata": {},
   "outputs": [],
   "source": [
    "df_medal_winners = (\n",
    "    df_olympics_clean\n",
    "    .query(\"Medal != 'No Medal'\")\n",
    ")"
   ]
  },
  {
   "cell_type": "code",
   "execution_count": 20,
   "id": "da5d4e78",
   "metadata": {},
   "outputs": [],
   "source": [
    "df_medals_mean_age_data_all = (\n",
    "    df_medal_winners\n",
    "    .pivot_table(\n",
    "        index=[\"Year\", \"Name\", \"Age\", \"Sex\"],\n",
    "        )\n",
    "    .drop(\"Unnamed: 0\", axis=1)\n",
    "    .reset_index()\n",
    ")"
   ]
  },
  {
   "cell_type": "code",
   "execution_count": 21,
   "id": "8b35d59a",
   "metadata": {},
   "outputs": [],
   "source": [
    "# male and female mean data\n",
    "df_medals_mean_age_data_male = mean_age_by_gender(df_medals_mean_age_data_all, \"M\")\n",
    "df_medals_mean_age_data_female = mean_age_by_gender(df_medals_mean_age_data_all, \"F\")\n",
    "\n",
    "# combined male and female data on index (Year)\n",
    "df_medals_mean_age_data_combined = df_medals_mean_age_data_male.join(\n",
    "    df_medals_mean_age_data_female,\n",
    "    lsuffix=\"_Mean_M\",\n",
    "    rsuffix=\"_Mean_F\")"
   ]
  },
  {
   "cell_type": "code",
   "execution_count": 22,
   "id": "5160dbeb",
   "metadata": {},
   "outputs": [
    {
     "data": {
      "image/png": "[encoded data removed]",
      "text/plain": [
       "<Figure size 640x480 with 1 Axes>"
      ]
     },
     "metadata": {},
     "output_type": "display_data"
    }
   ],
   "source": [
    "ch_bar_medals_mean_age_data_combined = df_medals_mean_age_data_combined.plot(\n",
    "    kind=\"bar\",\n",
    "    title=\"Mean Ages of Male and Female Medal Winning Competitors\"\n",
    ")"
   ]
  },
  {
   "cell_type": "code",
   "execution_count": 23,
   "id": "bce4dc83",
   "metadata": {},
   "outputs": [
    {
     "data": {
      "image/png": "[encoded data removed]",
      "text/plain": [
       "<Figure size 640x480 with 1 Axes>"
      ]
     },
     "metadata": {},
     "output_type": "display_data"
    }
   ],
   "source": [
    "ch_box_medals_mean_age_data_combined = df_medals_mean_age_data_combined.plot(\n",
    "    kind=\"box\",\n",
    "    title=\"Mean Ages of Male and Female Medal Winning Competitors\"\n",
    ")"
   ]
  },
  {
   "cell_type": "code",
   "execution_count": 24,
   "id": "38792bd4",
   "metadata": {},
   "outputs": [
    {
     "data": {
      "text/html": [
       "<div>\n",
       "<style scoped>\n",
       "    .dataframe tbody tr th:only-of-type {\n",
       "        vertical-align: middle;\n",
       "    }\n",
       "\n",
       "    .dataframe tbody tr th {\n",
       "        vertical-align: top;\n",
       "    }\n",
       "\n",
       "    .dataframe thead th {\n",
       "        text-align: right;\n",
       "    }\n",
       "</style>\n",
       "<table border=\"1\" class=\"dataframe\">\n",
       "  <thead>\n",
       "    <tr style=\"text-align: right;\">\n",
       "      <th></th>\n",
       "      <th>Age_Mean_M</th>\n",
       "      <th>Age_Mean_F</th>\n",
       "    </tr>\n",
       "  </thead>\n",
       "  <tbody>\n",
       "    <tr>\n",
       "      <th>count</th>\n",
       "      <td>30.000000</td>\n",
       "      <td>29.000000</td>\n",
       "    </tr>\n",
       "    <tr>\n",
       "      <th>mean</th>\n",
       "      <td>26.439417</td>\n",
       "      <td>25.101484</td>\n",
       "    </tr>\n",
       "    <tr>\n",
       "      <th>std</th>\n",
       "      <td>1.304914</td>\n",
       "      <td>6.183595</td>\n",
       "    </tr>\n",
       "    <tr>\n",
       "      <th>min</th>\n",
       "      <td>22.438596</td>\n",
       "      <td>20.442308</td>\n",
       "    </tr>\n",
       "    <tr>\n",
       "      <th>25%</th>\n",
       "      <td>25.658104</td>\n",
       "      <td>22.343137</td>\n",
       "    </tr>\n",
       "    <tr>\n",
       "      <th>50%</th>\n",
       "      <td>26.576812</td>\n",
       "      <td>23.500000</td>\n",
       "    </tr>\n",
       "    <tr>\n",
       "      <th>75%</th>\n",
       "      <td>27.119236</td>\n",
       "      <td>25.695707</td>\n",
       "    </tr>\n",
       "    <tr>\n",
       "      <th>max</th>\n",
       "      <td>29.072572</td>\n",
       "      <td>55.000000</td>\n",
       "    </tr>\n",
       "  </tbody>\n",
       "</table>\n",
       "</div>"
      ],
      "text/plain": [
       "       Age_Mean_M  Age_Mean_F\n",
       "count   30.000000   29.000000\n",
       "mean    26.439417   25.101484\n",
       "std      1.304914    6.183595\n",
       "min     22.438596   20.442308\n",
       "25%     25.658104   22.343137\n",
       "50%     26.576812   23.500000\n",
       "75%     27.119236   25.695707\n",
       "max     29.072572   55.000000"
      ]
     },
     "execution_count": 24,
     "metadata": {},
     "output_type": "execute_result"
    }
   ],
   "source": [
    "df_medals_mean_age_data_combined.describe()"
   ]
  }
 ],
 "metadata": {
  "kernelspec": {
   "display_name": "Python 3 (ipykernel)",
   "language": "python",
   "name": "python3"
  },
  "language_info": {
   "codemirror_mode": {
    "name": "ipython",
    "version": 3
   },
   "file_extension": ".py",
   "mimetype": "text/x-python",
   "name": "python",
   "nbconvert_exporter": "python",
   "pygments_lexer": "ipython3",
   "version": "3.9.13"
  },
  "vscode": {
   "interpreter": {
    "hash": "155419e57043e3c6c91350c5428c6cc33fefa50a0d623da8550d7adba7f4f47b"
   }
  }
 },
 "nbformat": 4,
 "nbformat_minor": 5
}
