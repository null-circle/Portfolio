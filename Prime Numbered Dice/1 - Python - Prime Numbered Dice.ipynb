{
 "cells": [
  {
   "cell_type": "markdown",
   "id": "2081c506-bce4-4427-aeaa-9ba7ec310b73",
   "metadata": {},
   "source": [
    "# Prime Numbered Dice\n",
    "\n",
    "Author: Mark Richards\n",
    "\n",
    "Email: mark.thomas.richards@outlook.com"
   ]
  },
  {
   "cell_type": "markdown",
   "id": "828910ea-21ae-45e1-a09a-bc9c24e3553d",
   "metadata": {},
   "source": [
    "This is a fun little problem I came up with based on dice with prime numbers on them instead of the usual 1 through 6.\n",
    "\n",
    "The scenario is this:\n",
    "- There is a bag of dice and each die has a random set of prime numbers on it.\n",
    "- A person selects a die from the bag at random.\n",
    "- They then conduct n trials (in secret) where for each trial they roll the dice twice, multiply the numbers, and write down the result.\n",
    "- Finally they give us the list of results. \n",
    "- Our objective is work out just from the list of results what numbers they had on their die. \n",
    "\n",
    "There is of course a very __simple and obvious solution__ to this: since the numbers on the die are primes, the result of each trial has a unique factorisation back into primes and we could find this fairly easily. But I want to try to solve this without using prime factorisation and only using Pandas. "
   ]
  },
  {
   "cell_type": "markdown",
   "id": "609a679d-4aaa-40d8-9a2e-8aa11a47f430",
   "metadata": {},
   "source": [
    "We need to generate some actual data to work on, so below are some functions which produce different data each time."
   ]
  },
  {
   "cell_type": "code",
   "execution_count": 162,
   "id": "cc1a5f89-a29e-4525-98f4-6ab0bf310807",
   "metadata": {},
   "outputs": [],
   "source": [
    "# Lets take care of the dice generator first. \n",
    "# We'll say that each die will have unique values chosen at random from the \n",
    "# first 100 primes. \n",
    "\n",
    "import math\n",
    "import random\n",
    "import pandas as pd\n",
    "\n",
    "def dice_generator():\n",
    "    \"\"\"Generates a 'die' by choosing 6 unique random prime numbers.\"\"\"\n",
    "    primes = [2, 3, 5, 7, 11, 13, 17, 19, 23, 29, 31, 37, 41, 43, 47, 53, \n",
    "              59, 61, 67, 71, 73, 79, 83, 89, 97, 101, 103, 107, 109, 113, \n",
    "              127, 131, 137, 139, 149, 151, 157, 163, 167, 173, 179, 181, \n",
    "              191, 193, 197, 199, 211, 223, 227, 229, 233, 239, 241, 251, \n",
    "              257, 263, 269, 271, 277, 281, 283, 293, 307, 311, 313, 317, \n",
    "              331, 337, 347, 349, 353, 359, 367, 373, 379, 383, 389, 397, \n",
    "              401, 409, 419, 421, 431, 433, 439, 443, 449, 457, 461, 463, \n",
    "              467, 479, 487, 491, 499, 503, 509, 521, 523, 541]\n",
    "    \n",
    "    return random.sample(primes, 6)"
   ]
  },
  {
   "cell_type": "code",
   "execution_count": 163,
   "id": "a636b1b7-3dbd-4f7e-b0b3-93cd04dc069e",
   "metadata": {},
   "outputs": [],
   "source": [
    "# Now lets set up the trials.\n",
    "\n",
    "def run_trials(n=1000):\n",
    "    \"\"\"Run n trials using dice_generator().\"\"\"\n",
    "    result = []\n",
    "    die = dice_generator()\n",
    "    for i in range(0, n):\n",
    "        first = random.choice(die)\n",
    "        second = random.choice(die)\n",
    "        result.append(first * second)\n",
    "    \n",
    "    # Return a series of the result, plus the die as a secret\n",
    "    return (pd.Series(result), sorted(die))"
   ]
  },
  {
   "cell_type": "markdown",
   "id": "161176d2-f69b-45e1-bc2f-80580dbb8bba",
   "metadata": {},
   "source": [
    "Now we can run this to generate data. We will not look at the secret die, but will keep it to check our results later."
   ]
  },
  {
   "cell_type": "code",
   "execution_count": 164,
   "id": "9527d003-7c36-4e46-a7cf-4c9d7a3d65cb",
   "metadata": {},
   "outputs": [],
   "source": [
    "s_data, secret = run_trials()"
   ]
  },
  {
   "cell_type": "markdown",
   "id": "98c43215-efdc-4972-aece-909c3cffdc02",
   "metadata": {},
   "source": [
    "Lets look at what we get."
   ]
  },
  {
   "cell_type": "code",
   "execution_count": 165,
   "id": "960950fa-b087-4040-9320-6da8fc96140e",
   "metadata": {},
   "outputs": [
    {
     "data": {
      "text/plain": [
       "0         121\n",
       "1      167897\n",
       "2       38411\n",
       "3      205039\n",
       "4       26909\n",
       "        ...  \n",
       "995     38411\n",
       "996     23119\n",
       "997      5041\n",
       "998      4873\n",
       "999      4331\n",
       "Length: 1000, dtype: int64"
      ]
     },
     "execution_count": 165,
     "metadata": {},
     "output_type": "execute_result"
    }
   ],
   "source": [
    "s_data"
   ]
  },
  {
   "cell_type": "markdown",
   "id": "a4035d6d-8f91-4dcf-a345-6ca1c3f61cb9",
   "metadata": {},
   "source": [
    "So how do we solve this problem? \n",
    "\n",
    "There are `6*6=36` possible outcomes from rolling two dice, but only `((n*n)+n)/2` unique results if we disregard ordering (which does not matter, since the two values are multiplied), and this comes to 21, so we should only have 21 unique values in the data. Lets check."
   ]
  },
  {
   "cell_type": "code",
   "execution_count": 166,
   "id": "7450074c-d67b-4d21-8ed4-23536455215e",
   "metadata": {},
   "outputs": [
    {
     "data": {
      "text/plain": [
       "21"
      ]
     },
     "execution_count": 166,
     "metadata": {},
     "output_type": "execute_result"
    }
   ],
   "source": [
    "len(s_data.value_counts())"
   ]
  },
  {
   "cell_type": "markdown",
   "id": "a0c41a17-1d98-4ac8-81bd-d6cf25237148",
   "metadata": {},
   "source": [
    "Yes, we do. \n",
    "\n",
    "Lets try to visualise some simplified example to see if we can find out how to solve this.\n",
    "\n",
    "This is the result of rolling a die with sides 2, 3, 5, 7, 11, 13:"
   ]
  },
  {
   "cell_type": "code",
   "execution_count": 167,
   "id": "19b4829f-8846-44d7-b817-72f751ffb930",
   "metadata": {},
   "outputs": [
    {
     "data": {
      "text/html": [
       "<div>\n",
       "<style scoped>\n",
       "    .dataframe tbody tr th:only-of-type {\n",
       "        vertical-align: middle;\n",
       "    }\n",
       "\n",
       "    .dataframe tbody tr th {\n",
       "        vertical-align: top;\n",
       "    }\n",
       "\n",
       "    .dataframe thead th {\n",
       "        text-align: right;\n",
       "    }\n",
       "</style>\n",
       "<table border=\"1\" class=\"dataframe\">\n",
       "  <thead>\n",
       "    <tr style=\"text-align: right;\">\n",
       "      <th></th>\n",
       "      <th>2</th>\n",
       "      <th>3</th>\n",
       "      <th>5</th>\n",
       "      <th>7</th>\n",
       "      <th>11</th>\n",
       "      <th>13</th>\n",
       "    </tr>\n",
       "    <tr>\n",
       "      <th>Primes</th>\n",
       "      <th></th>\n",
       "      <th></th>\n",
       "      <th></th>\n",
       "      <th></th>\n",
       "      <th></th>\n",
       "      <th></th>\n",
       "    </tr>\n",
       "  </thead>\n",
       "  <tbody>\n",
       "    <tr>\n",
       "      <th>2</th>\n",
       "      <td>4</td>\n",
       "      <td>6</td>\n",
       "      <td>10</td>\n",
       "      <td>14</td>\n",
       "      <td>22</td>\n",
       "      <td>26</td>\n",
       "    </tr>\n",
       "    <tr>\n",
       "      <th>3</th>\n",
       "      <td>6</td>\n",
       "      <td>9</td>\n",
       "      <td>15</td>\n",
       "      <td>21</td>\n",
       "      <td>33</td>\n",
       "      <td>39</td>\n",
       "    </tr>\n",
       "    <tr>\n",
       "      <th>5</th>\n",
       "      <td>10</td>\n",
       "      <td>15</td>\n",
       "      <td>25</td>\n",
       "      <td>35</td>\n",
       "      <td>55</td>\n",
       "      <td>65</td>\n",
       "    </tr>\n",
       "    <tr>\n",
       "      <th>7</th>\n",
       "      <td>14</td>\n",
       "      <td>21</td>\n",
       "      <td>35</td>\n",
       "      <td>49</td>\n",
       "      <td>77</td>\n",
       "      <td>91</td>\n",
       "    </tr>\n",
       "    <tr>\n",
       "      <th>11</th>\n",
       "      <td>22</td>\n",
       "      <td>33</td>\n",
       "      <td>55</td>\n",
       "      <td>77</td>\n",
       "      <td>121</td>\n",
       "      <td>143</td>\n",
       "    </tr>\n",
       "    <tr>\n",
       "      <th>13</th>\n",
       "      <td>26</td>\n",
       "      <td>39</td>\n",
       "      <td>65</td>\n",
       "      <td>91</td>\n",
       "      <td>143</td>\n",
       "      <td>169</td>\n",
       "    </tr>\n",
       "  </tbody>\n",
       "</table>\n",
       "</div>"
      ],
      "text/plain": [
       "         2   3   5   7   11   13\n",
       "Primes                          \n",
       "2        4   6  10  14   22   26\n",
       "3        6   9  15  21   33   39\n",
       "5       10  15  25  35   55   65\n",
       "7       14  21  35  49   77   91\n",
       "11      22  33  55  77  121  143\n",
       "13      26  39  65  91  143  169"
      ]
     },
     "execution_count": 167,
     "metadata": {},
     "output_type": "execute_result"
    }
   ],
   "source": [
    "df_simplified_example = pd.read_csv(\"simplified_example.csv\", index_col=0)\n",
    "\n",
    "df_simplified_example"
   ]
  },
  {
   "cell_type": "markdown",
   "id": "e91b13f0-c8a1-4a34-8303-79fbd6cc7cde",
   "metadata": {},
   "source": [
    "The probability of each individual entry in the table is 1/36 but some values are duplicated (mirrored along the top left to bottom right diagonal), so there are only 21 unique outcome values, with differing probabilities.\n",
    "\n",
    "In fact all of the possible 21 outcome values are mirrored _except for those along the diagonal itself_. These values only appear once and are the result of rolling the same number twice.\n",
    "\n",
    "If these values only appear once, and they are the result of rolling the same number twice, then if we can identify the equivalent of these numbers in the data, we can find the original dice values by taking their square roots.\n",
    "\n",
    "As these values only have a 1/36 chance of occuring and all the other values have a 2/36 chance (due to being mirrored), then if we look at how many times each value occurs in the data, the 6 values with the lowest frequency should correspond to the diagonal values - although there will be statistical fluctuation as this is a random process, so this is not guaranteed.\n",
    "\n",
    "We could then take the square roots of the 6 least frequent values and propose these as the values on the die.\n",
    "\n",
    "Lets write a function for this."
   ]
  },
  {
   "cell_type": "code",
   "execution_count": 168,
   "id": "ce296c78-42bf-4cfe-8851-cd3b3827f511",
   "metadata": {},
   "outputs": [
    {
     "data": {
      "text/plain": [
       "[11, 61, 71, 379, 443, 541]"
      ]
     },
     "execution_count": 168,
     "metadata": {},
     "output_type": "execute_result"
    }
   ],
   "source": [
    "def proposed_die(s):\n",
    "    \"\"\"\n",
    "    Proposes the sqrt of the 6 least frequent \n",
    "    values in s to be the values on the die.\n",
    "    \"\"\"\n",
    "    return (s\n",
    "        .value_counts()\n",
    "        .reset_index()\n",
    "        .tail(6)\n",
    "        .loc[:, \"index\"]\n",
    "        .map(math.sqrt)\n",
    "        .map(int)\n",
    "        .sort_values()\n",
    "        .tolist()\n",
    "    )\n",
    "\n",
    "proposed_die(s_data)"
   ]
  },
  {
   "cell_type": "markdown",
   "id": "e813f8d5-d47b-43cd-88d0-76aa5db5b9a0",
   "metadata": {},
   "source": [
    "Lets compare this to the secret die:"
   ]
  },
  {
   "cell_type": "code",
   "execution_count": 169,
   "id": "9be83880-3e6a-4701-99e6-5717319a7264",
   "metadata": {},
   "outputs": [
    {
     "data": {
      "text/plain": [
       "[11, 61, 71, 379, 443, 541]"
      ]
     },
     "execution_count": 169,
     "metadata": {},
     "output_type": "execute_result"
    }
   ],
   "source": [
    "secret"
   ]
  },
  {
   "cell_type": "code",
   "execution_count": 170,
   "id": "8b1df465-03e4-4446-830e-6b48046cc62c",
   "metadata": {},
   "outputs": [
    {
     "data": {
      "text/plain": [
       "True"
      ]
     },
     "execution_count": 170,
     "metadata": {},
     "output_type": "execute_result"
    }
   ],
   "source": [
    "proposed_die(s_data) == secret"
   ]
  },
  {
   "cell_type": "markdown",
   "id": "10f2da35-6b20-4e2e-aa33-dfdfdec3d2cb",
   "metadata": {},
   "source": [
    "So we have found a way to go from the product of two random dice rolls back to the values on that die. \n",
    "\n",
    "But as mentioned above there is __statistical variation__ and this is not a certain method. \n",
    "\n",
    "Lets see how it performs for various numbers of trials. "
   ]
  },
  {
   "cell_type": "code",
   "execution_count": 171,
   "id": "46683e60-7f36-40e2-8e73-06a3e1e964a7",
   "metadata": {},
   "outputs": [
    {
     "name": "stdout",
     "output_type": "stream",
     "text": [
      "Number of trials: 100 - Solution Correct: False - Proposal: [7, 17, 32, 97, 158, 192] - Actual: [7, 17, 97, 151, 167, 383]\n",
      "Number of trials: 200 - Solution Correct: False - Proposal: [59, 73, 114, 179, 281, 337] - Actual: [59, 73, 167, 179, 281, 337]\n",
      "Number of trials: 300 - Solution Correct: False - Proposal: [17, 47, 60, 79, 193, 461] - Actual: [17, 47, 79, 191, 193, 461]\n",
      "Number of trials: 400 - Solution Correct: False - Proposal: [79, 163, 181, 192, 353, 467] - Actual: [79, 97, 163, 181, 353, 467]\n",
      "Number of trials: 500 - Solution Correct: True - Proposal: [137, 197, 281, 283, 337, 347] - Actual: [137, 197, 281, 283, 337, 347]\n",
      "Number of trials: 600 - Solution Correct: False - Proposal: [47, 64, 89, 193, 383, 491] - Actual: [47, 79, 89, 193, 383, 491]\n",
      "Number of trials: 700 - Solution Correct: False - Proposal: [181, 200, 307, 397, 487, 509] - Actual: [79, 181, 307, 397, 487, 509]\n",
      "Number of trials: 800 - Solution Correct: True - Proposal: [109, 227, 229, 307, 499, 509] - Actual: [109, 227, 229, 307, 499, 509]\n",
      "Number of trials: 900 - Solution Correct: False - Proposal: [41, 107, 231, 307, 467, 503] - Actual: [41, 107, 307, 421, 467, 503]\n",
      "Number of trials: 1000 - Solution Correct: True - Proposal: [5, 251, 269, 313, 367, 449] - Actual: [5, 251, 269, 313, 367, 449]\n",
      "Number of trials: 1100 - Solution Correct: False - Proposal: [2, 23, 149, 281, 353, 449] - Actual: [2, 149, 281, 311, 353, 449]\n",
      "Number of trials: 1200 - Solution Correct: True - Proposal: [59, 151, 281, 397, 401, 509] - Actual: [59, 151, 281, 397, 401, 509]\n",
      "Number of trials: 1300 - Solution Correct: True - Proposal: [47, 73, 139, 163, 257, 277] - Actual: [47, 73, 139, 163, 257, 277]\n",
      "Number of trials: 1400 - Solution Correct: True - Proposal: [11, 47, 107, 197, 257, 523] - Actual: [11, 47, 107, 197, 257, 523]\n",
      "Number of trials: 1500 - Solution Correct: True - Proposal: [191, 251, 269, 307, 349, 401] - Actual: [191, 251, 269, 307, 349, 401]\n",
      "Number of trials: 1600 - Solution Correct: True - Proposal: [73, 257, 271, 373, 401, 439] - Actual: [73, 257, 271, 373, 401, 439]\n",
      "Number of trials: 1700 - Solution Correct: True - Proposal: [37, 101, 277, 337, 433, 439] - Actual: [37, 101, 277, 337, 433, 439]\n",
      "Number of trials: 1800 - Solution Correct: True - Proposal: [149, 199, 263, 397, 443, 523] - Actual: [149, 199, 263, 397, 443, 523]\n",
      "Number of trials: 1900 - Solution Correct: True - Proposal: [23, 79, 103, 239, 271, 337] - Actual: [23, 79, 103, 239, 271, 337]\n"
     ]
    }
   ],
   "source": [
    "def test_solution():\n",
    "    \"\"\"Run differing numbers of trials.\"\"\"\n",
    "    for i in range(100, 2000, 100):\n",
    "        s_data, secret = run_trials(i)\n",
    "        die = proposed_die(s_data)\n",
    "        print(f\"Number of trials: {i} - Solution Correct: {die==secret} - Proposal: {die} - Actual: {secret}\")\n",
    "\n",
    "test_solution()"
   ]
  },
  {
   "cell_type": "markdown",
   "id": "71049f7e-7835-4c83-b255-31959443363b",
   "metadata": {},
   "source": [
    "As the number of trials increases the success of the procedure increases, as we might expect. But we need in excess of 1000 to have a good chance of success.\n",
    "\n",
    "Note also that this solution only works because the numbers on the die are primes: it will not work if we allow any random integer to be on the die. The reason is that composite numbers can have multiple factors: 12 is `2*6` but also `3*4`. So the probabilities of getting a specific value can differ and this makes it a little more complicated. "
   ]
  }
 ],
 "metadata": {
  "kernelspec": {
   "display_name": "Python 3.9.13 ('base')",
   "language": "python",
   "name": "python3"
  },
  "language_info": {
   "codemirror_mode": {
    "name": "ipython",
    "version": 3
   },
   "file_extension": ".py",
   "mimetype": "text/x-python",
   "name": "python",
   "nbconvert_exporter": "python",
   "pygments_lexer": "ipython3",
   "version": "3.9.13"
  },
  "vscode": {
   "interpreter": {
    "hash": "155419e57043e3c6c91350c5428c6cc33fefa50a0d623da8550d7adba7f4f47b"
   }
  }
 },
 "nbformat": 4,
 "nbformat_minor": 5
}
